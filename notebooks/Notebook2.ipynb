{
 "cells": [
  {
   "cell_type": "markdown",
   "id": "c1a9788f",
   "metadata": {},
   "source": [
    "## Data analysis\n",
    "### This notebook is for anlysing the housing prices"
   ]
  },
  {
   "cell_type": "markdown",
   "id": "a355f930",
   "metadata": {},
   "source": [
    "Importing packages and installing them if they are not installed yet"
   ]
  },
  {
   "cell_type": "code",
   "execution_count": null,
   "id": "71f845f0",
   "metadata": {},
   "outputs": [],
   "source": [
    "try:\n",
    "    import pandas as pd\n",
    "    from ydata_profiling import ProfileReport\n",
    "    import plotly.express as px \n",
    "except:\n",
    "    !pip install ydata-profiling\n",
    "    !pip install pandas\n",
    "    !pip install plotly\n",
    "    import pandas as pd\n",
    "    from ydata_profiling import ProfileReport\n",
    "    import plotly.express as px "
   ]
  },
  {
   "cell_type": "markdown",
   "id": "b5d3f854",
   "metadata": {},
   "source": [
    "Loading the data gathered in the previous notebook"
   ]
  },
  {
   "cell_type": "code",
   "execution_count": null,
   "id": "658f5c30",
   "metadata": {},
   "outputs": [],
   "source": [
    "house_prices = pd.read_pickle('../data/house_prices.pkl')"
   ]
  },
  {
   "cell_type": "markdown",
   "id": "7498b557",
   "metadata": {},
   "source": [
    "Creating profiling"
   ]
  },
  {
   "cell_type": "code",
   "execution_count": null,
   "id": "96eb0e9f",
   "metadata": {},
   "outputs": [],
   "source": [
    "profiling = ProfileReport(house_prices)"
   ]
  },
  {
   "cell_type": "markdown",
   "id": "b8ea219c",
   "metadata": {},
   "source": [
    "Show profiling results"
   ]
  },
  {
   "cell_type": "code",
   "execution_count": null,
   "id": "f449b93c",
   "metadata": {},
   "outputs": [],
   "source": [
    "profiling.to_file('../data/profiling.html')"
   ]
  },
  {
   "cell_type": "markdown",
   "id": "05fabc04",
   "metadata": {},
   "source": [
    "Select correlations with sale price from profiling result"
   ]
  },
  {
   "cell_type": "code",
   "execution_count": null,
   "id": "bce834b0",
   "metadata": {},
   "outputs": [],
   "source": [
    "correlations_matrix=profiling.description_set['correlations']['auto']\n",
    "correlations_matrix.to_pickle('../data/correlation_matrix.pkl')\n",
    "correlations = profiling.description_set['correlations']['auto']['SalePrice']"
   ]
  },
  {
   "cell_type": "markdown",
   "id": "58db9481",
   "metadata": {},
   "source": [
    "Drop sales price from correlation and choose columns that have higher than avearage correlation with sale price"
   ]
  },
  {
   "cell_type": "code",
   "execution_count": null,
   "id": "f0ff50df",
   "metadata": {},
   "outputs": [],
   "source": [
    "correlations.pop('SalePrice')\n",
    "correlations=correlations[correlations>correlations.mean()]"
   ]
  },
  {
   "cell_type": "markdown",
   "id": "30537c3f",
   "metadata": {},
   "source": [
    "Create and save dataset with only columns which show higher than average correlation with sale price"
   ]
  },
  {
   "cell_type": "code",
   "execution_count": null,
   "id": "efdf8a2b",
   "metadata": {},
   "outputs": [],
   "source": [
    "cols_to_keep=correlations.index.to_list()\n",
    "correlating_data_inhereted=pd.read_pickle('../data/inhereted_houses.pkl')[cols_to_keep]\n",
    "correlating_data_inhereted.to_pickle('../data/inhereted_houses_corr.pkl')\n",
    "cols_to_keep.append('SalePrice')\n",
    "correlating_data=house_prices[cols_to_keep]\n",
    "correlating_data.to_pickle('../data/house_pricing_corr.pkl')"
   ]
  },
  {
   "cell_type": "code",
   "execution_count": null,
   "id": "b794a35d",
   "metadata": {},
   "outputs": [],
   "source": []
  }
 ],
 "metadata": {
  "kernelspec": {
   "display_name": "Python 3 (ipykernel)",
   "language": "python",
   "name": "python3"
  },
  "language_info": {
   "codemirror_mode": {
    "name": "ipython",
    "version": 3
   },
   "file_extension": ".py",
   "mimetype": "text/x-python",
   "name": "python",
   "nbconvert_exporter": "python",
   "pygments_lexer": "ipython3",
   "version": "3.9.13"
  }
 },
 "nbformat": 4,
 "nbformat_minor": 5
}
