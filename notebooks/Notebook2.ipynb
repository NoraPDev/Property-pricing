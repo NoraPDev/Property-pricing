{
 "cells": [
  {
   "cell_type": "markdown",
   "id": "c1a9788f",
   "metadata": {},
   "source": [
    "## Data analysis\n",
    "### This notebook is for anlysing the housing prices"
   ]
  },
  {
   "cell_type": "markdown",
   "id": "a355f930",
   "metadata": {},
   "source": [
    "Importing packages and installing them if they are not installed yet"
   ]
  },
  {
   "cell_type": "code",
   "execution_count": 2,
   "id": "71f845f0",
   "metadata": {},
   "outputs": [],
   "source": [
    "try:\n",
    "    import pandas as pd\n",
    "    from ydata_profiling import ProfileReport\n",
    "    import plotly.express as px \n",
    "except:\n",
    "    !pip install ydata-profiling\n",
    "    !pip install pandas\n",
    "    !pip install plotly\n",
    "    import pandas as pd\n",
    "    from ydata_profiling import ProfileReport\n",
    "    import plotly.express as px "
   ]
  },
  {
   "cell_type": "markdown",
   "id": "b5d3f854",
   "metadata": {},
   "source": [
    "Loading the data gathered in the previous notebook"
   ]
  },
  {
   "cell_type": "code",
   "execution_count": 3,
   "id": "658f5c30",
   "metadata": {},
   "outputs": [],
   "source": [
    "house_prices = pd.read_pickle('../data/house_prices.pkl')"
   ]
  },
  {
   "cell_type": "markdown",
   "id": "7498b557",
   "metadata": {},
   "source": [
    "Creating profiling"
   ]
  },
  {
   "cell_type": "code",
   "execution_count": 4,
   "id": "96eb0e9f",
   "metadata": {},
   "outputs": [],
   "source": [
    "profiling = ProfileReport(house_prices)"
   ]
  },
  {
   "cell_type": "markdown",
   "id": "b8ea219c",
   "metadata": {},
   "source": [
    "Show profiling results"
   ]
  },
  {
   "cell_type": "code",
   "execution_count": 5,
   "id": "f449b93c",
   "metadata": {},
   "outputs": [
    {
     "data": {
      "application/vnd.jupyter.widget-view+json": {
       "model_id": "bc6af6a7f5fb4324890dd686d85a002b",
       "version_major": 2,
       "version_minor": 0
      },
      "text/plain": [
       "Summarize dataset:   0%|          | 0/5 [00:00<?, ?it/s]"
      ]
     },
     "metadata": {},
     "output_type": "display_data"
    },
    {
     "data": {
      "application/vnd.jupyter.widget-view+json": {
       "model_id": "5ee757f39fd84f2baf90c30aa82ca2be",
       "version_major": 2,
       "version_minor": 0
      },
      "text/plain": [
       "Generate report structure:   0%|          | 0/1 [00:00<?, ?it/s]"
      ]
     },
     "metadata": {},
     "output_type": "display_data"
    },
    {
     "data": {
      "application/vnd.jupyter.widget-view+json": {
       "model_id": "97007b808a6e44868509b4053795424b",
       "version_major": 2,
       "version_minor": 0
      },
      "text/plain": [
       "Render HTML:   0%|          | 0/1 [00:00<?, ?it/s]"
      ]
     },
     "metadata": {},
     "output_type": "display_data"
    },
    {
     "data": {
      "application/vnd.jupyter.widget-view+json": {
       "model_id": "7d05095f489049b1b3ff3aac940c4964",
       "version_major": 2,
       "version_minor": 0
      },
      "text/plain": [
       "Export report to file:   0%|          | 0/1 [00:00<?, ?it/s]"
      ]
     },
     "metadata": {},
     "output_type": "display_data"
    }
   ],
   "source": [
    "profiling.to_file('../data/profiling.html')"
   ]
  },
  {
   "cell_type": "markdown",
   "id": "05fabc04",
   "metadata": {},
   "source": [
    "Select correlations with sale price from profiling result"
   ]
  },
  {
   "cell_type": "code",
   "execution_count": 6,
   "id": "bce834b0",
   "metadata": {},
   "outputs": [],
   "source": [
    "correlations_matrix=profiling.description_set['correlations']['auto']\n",
    "correlations_matrix.to_pickle('../data/correlation_matrix.pkl')\n",
    "correlations = profiling.description_set['correlations']['auto']['SalePrice']"
   ]
  },
  {
   "cell_type": "markdown",
   "id": "ea7b7cf8",
   "metadata": {},
   "source": [
    "Drop sales price from correlation and choose columns that have higher than avearage correlation with sale price"
   ]
  },
  {
   "cell_type": "code",
   "execution_count": 7,
   "id": "4183b38f",
   "metadata": {},
   "outputs": [],
   "source": [
    "correlations.pop('SalePrice')\n",
    "correlations=correlations[correlations>correlations.mean()]"
   ]
  },
  {
   "cell_type": "markdown",
   "id": "b1ecce7e",
   "metadata": {},
   "source": [
    "Create and save dataset with only columns which show higher than average correlation with sale price"
   ]
  },
  {
   "cell_type": "code",
   "execution_count": 8,
   "id": "63bf2f43",
   "metadata": {},
   "outputs": [],
   "source": [
    "cols_to_keep=correlations.index.to_list()\n",
    "correlating_data_inhereted=pd.read_pickle('../data/inhereted_houses.pkl')[cols_to_keep]\n",
    "correlating_data_inhereted.to_pickle('../data/inhereted_houses_corr.pkl')\n",
    "cols_to_keep.append('SalePrice')\n",
    "correlating_data=house_prices[cols_to_keep]\n",
    "correlating_data.to_pickle('../data/house_pricing_corr.pkl')"
   ]
  }
 ],
 "metadata": {
  "kernelspec": {
   "display_name": "Python 3 (ipykernel)",
   "language": "python",
   "name": "python3"
  },
  "language_info": {
   "codemirror_mode": {
    "name": "ipython",
    "version": 3
   },
   "file_extension": ".py",
   "mimetype": "text/x-python",
   "name": "python",
   "nbconvert_exporter": "python",
   "pygments_lexer": "ipython3",
   "version": "3.9.13"
  }
 },
 "nbformat": 4,
 "nbformat_minor": 5
}
