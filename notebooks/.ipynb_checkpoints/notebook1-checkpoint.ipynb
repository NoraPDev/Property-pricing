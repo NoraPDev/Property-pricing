{
 "cells": [
  {
   "cell_type": "markdown",
   "id": "8cf4dd09",
   "metadata": {},
   "source": [
    "## Data Collection Notebook\n",
    "### This notebook is for downloading the data that contains the housing prices and savingit"
   ]
  },
  {
   "cell_type": "markdown",
   "id": "0e1b8740",
   "metadata": {},
   "source": [
    "**Importing pandas**"
   ]
  },
  {
   "cell_type": "code",
   "execution_count": 1,
   "id": "48ca9081",
   "metadata": {},
   "outputs": [],
   "source": [
    "import pandas as pd"
   ]
  },
  {
   "cell_type": "code",
   "execution_count": 2,
   "id": "e427ff4e",
   "metadata": {},
   "outputs": [],
   "source": [
    "try:\n",
    "    import opendatasets as od\n",
    "except:\n",
    "    !pip install opendatasets\n",
    "    import opendatasets as od"
   ]
  },
  {
   "cell_type": "code",
   "execution_count": 3,
   "id": "798e3a8d",
   "metadata": {},
   "outputs": [
    {
     "name": "stdout",
     "output_type": "stream",
     "text": [
      "Skipping, found downloaded files in \".\\housing-prices-data\" (use force=True to force download)\n"
     ]
    }
   ],
   "source": [
    "od.download('https://www.kaggle.com/datasets/codeinstitute/housing-prices-data')"
   ]
  },
  {
   "cell_type": "code",
   "execution_count": 4,
   "id": "f22bc1fc",
   "metadata": {},
   "outputs": [],
   "source": [
    "data_path='./housing-prices-data/house-price-20211124T154130Z-001/house-price/house_prices_records.csv'\n",
    "inherited_data_path='./housing-prices-data/house-price-20211124T154130Z-001/house-price/inherited_houses.csv'"
   ]
  },
  {
   "cell_type": "markdown",
   "id": "9d2dfa16",
   "metadata": {},
   "source": [
    "Next I read these datalinks as csv"
   ]
  },
  {
   "cell_type": "code",
   "execution_count": 5,
   "id": "098bd975",
   "metadata": {},
   "outputs": [],
   "source": [
    "house_prices=pd.read_csv(data_path)\n",
    "inhereted_houses=pd.read_csv(inherited_data_path)"
   ]
  },
  {
   "cell_type": "markdown",
   "id": "c7190960",
   "metadata": {},
   "source": [
    "Next I check the informations of the datasets with pandas"
   ]
  },
  {
   "cell_type": "code",
   "execution_count": 6,
   "id": "577da122",
   "metadata": {},
   "outputs": [
    {
     "name": "stdout",
     "output_type": "stream",
     "text": [
      "<class 'pandas.core.frame.DataFrame'>\n",
      "RangeIndex: 1460 entries, 0 to 1459\n",
      "Data columns (total 24 columns):\n",
      " #   Column         Non-Null Count  Dtype  \n",
      "---  ------         --------------  -----  \n",
      " 0   1stFlrSF       1460 non-null   int64  \n",
      " 1   2ndFlrSF       1374 non-null   float64\n",
      " 2   BedroomAbvGr   1361 non-null   float64\n",
      " 3   BsmtExposure   1460 non-null   object \n",
      " 4   BsmtFinSF1     1460 non-null   int64  \n",
      " 5   BsmtFinType1   1346 non-null   object \n",
      " 6   BsmtUnfSF      1460 non-null   int64  \n",
      " 7   EnclosedPorch  136 non-null    float64\n",
      " 8   GarageArea     1460 non-null   int64  \n",
      " 9   GarageFinish   1298 non-null   object \n",
      " 10  GarageYrBlt    1379 non-null   float64\n",
      " 11  GrLivArea      1460 non-null   int64  \n",
      " 12  KitchenQual    1460 non-null   object \n",
      " 13  LotArea        1460 non-null   int64  \n",
      " 14  LotFrontage    1201 non-null   float64\n",
      " 15  MasVnrArea     1452 non-null   float64\n",
      " 16  OpenPorchSF    1460 non-null   int64  \n",
      " 17  OverallCond    1460 non-null   int64  \n",
      " 18  OverallQual    1460 non-null   int64  \n",
      " 19  TotalBsmtSF    1460 non-null   int64  \n",
      " 20  WoodDeckSF     155 non-null    float64\n",
      " 21  YearBuilt      1460 non-null   int64  \n",
      " 22  YearRemodAdd   1460 non-null   int64  \n",
      " 23  SalePrice      1460 non-null   int64  \n",
      "dtypes: float64(7), int64(13), object(4)\n",
      "memory usage: 273.9+ KB\n",
      "None \n",
      "\n",
      "<class 'pandas.core.frame.DataFrame'>\n",
      "RangeIndex: 4 entries, 0 to 3\n",
      "Data columns (total 23 columns):\n",
      " #   Column         Non-Null Count  Dtype  \n",
      "---  ------         --------------  -----  \n",
      " 0   1stFlrSF       4 non-null      int64  \n",
      " 1   2ndFlrSF       4 non-null      int64  \n",
      " 2   BedroomAbvGr   4 non-null      int64  \n",
      " 3   BsmtExposure   4 non-null      object \n",
      " 4   BsmtFinSF1     4 non-null      float64\n",
      " 5   BsmtFinType1   4 non-null      object \n",
      " 6   BsmtUnfSF      4 non-null      float64\n",
      " 7   EnclosedPorch  4 non-null      int64  \n",
      " 8   GarageArea     4 non-null      float64\n",
      " 9   GarageFinish   4 non-null      object \n",
      " 10  GarageYrBlt    4 non-null      float64\n",
      " 11  GrLivArea      4 non-null      int64  \n",
      " 12  KitchenQual    4 non-null      object \n",
      " 13  LotArea        4 non-null      int64  \n",
      " 14  LotFrontage    4 non-null      float64\n",
      " 15  MasVnrArea     4 non-null      float64\n",
      " 16  OpenPorchSF    4 non-null      int64  \n",
      " 17  OverallCond    4 non-null      int64  \n",
      " 18  OverallQual    4 non-null      int64  \n",
      " 19  TotalBsmtSF    4 non-null      float64\n",
      " 20  WoodDeckSF     4 non-null      int64  \n",
      " 21  YearBuilt      4 non-null      int64  \n",
      " 22  YearRemodAdd   4 non-null      int64  \n",
      "dtypes: float64(7), int64(12), object(4)\n",
      "memory usage: 864.0+ bytes\n",
      "None\n"
     ]
    }
   ],
   "source": [
    "print(house_prices.info(),'\\n')\n",
    "print(inhereted_houses.info())"
   ]
  },
  {
   "cell_type": "code",
   "execution_count": 7,
   "id": "da9ae92f",
   "metadata": {},
   "outputs": [],
   "source": [
    "import os\n",
    "local_data_path='..\\data'\n",
    "if not os.path.exists(local_data_path):\n",
    "    os.makedirs(local_data_path)"
   ]
  },
  {
   "cell_type": "markdown",
   "id": "e23d3976",
   "metadata": {},
   "source": [
    "Saving the data into the **data** folder"
   ]
  },
  {
   "cell_type": "code",
   "execution_count": 8,
   "id": "000d5a8d",
   "metadata": {},
   "outputs": [],
   "source": [
    "house_prices.to_pickle('..\\data\\house_prices.pkl')\n",
    "inhereted_houses.to_pickle('..\\data\\inhereted_houses.pkl')"
   ]
  },
  {
   "cell_type": "code",
   "execution_count": null,
   "id": "5122782c",
   "metadata": {},
   "outputs": [],
   "source": []
  }
 ],
 "metadata": {
  "kernelspec": {
   "display_name": "Python 3 (ipykernel)",
   "language": "python",
   "name": "python3"
  },
  "language_info": {
   "codemirror_mode": {
    "name": "ipython",
    "version": 3
   },
   "file_extension": ".py",
   "mimetype": "text/x-python",
   "name": "python",
   "nbconvert_exporter": "python",
   "pygments_lexer": "ipython3",
   "version": "3.9.13"
  }
 },
 "nbformat": 4,
 "nbformat_minor": 5
}
