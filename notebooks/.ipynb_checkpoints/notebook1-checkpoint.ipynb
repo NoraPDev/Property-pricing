{
 "cells": [
  {
   "cell_type": "markdown",
   "id": "8cf4dd09",
   "metadata": {},
   "source": [
    "## Data Collection Notebook\n",
    "### This notebook is for downloading the data that contains the housing prices and savingit"
   ]
  },
  {
   "cell_type": "markdown",
   "id": "0e1b8740",
   "metadata": {},
   "source": [
    "**Importing pandas**"
   ]
  },
  {
   "cell_type": "code",
   "execution_count": null,
   "id": "48ca9081",
   "metadata": {},
   "outputs": [],
   "source": [
    "import pandas as pd"
   ]
  },
  {
   "cell_type": "code",
   "execution_count": null,
   "id": "e427ff4e",
   "metadata": {},
   "outputs": [],
   "source": [
    "try:\n",
    "    import opendatasets as od\n",
    "except:\n",
    "    !pip install opendatasets\n",
    "    import opendatasets as od"
   ]
  },
  {
   "cell_type": "code",
   "execution_count": null,
   "id": "798e3a8d",
   "metadata": {},
   "outputs": [],
   "source": [
    "od.download('https://www.kaggle.com/datasets/codeinstitute/housing-prices-data')"
   ]
  },
  {
   "cell_type": "code",
   "execution_count": null,
   "id": "f22bc1fc",
   "metadata": {},
   "outputs": [],
   "source": [
    "data_path='./housing-prices-data/house-price-20211124T154130Z-001/house-price/house_prices_records.csv'\n",
    "inherited_data_path='./housing-prices-data/house-price-20211124T154130Z-001/house-price/inherited_houses.csv'"
   ]
  },
  {
   "cell_type": "markdown",
   "id": "9d2dfa16",
   "metadata": {},
   "source": [
    "Next I read these datalinks as csv"
   ]
  },
  {
   "cell_type": "code",
   "execution_count": null,
   "id": "098bd975",
   "metadata": {},
   "outputs": [],
   "source": [
    "house_prices=pd.read_csv(data_path)\n",
    "inhereted_houses=pd.read_csv(inherited_data_path)"
   ]
  },
  {
   "cell_type": "markdown",
   "id": "c7190960",
   "metadata": {},
   "source": [
    "Next I check the informations of the datasets with pandas"
   ]
  },
  {
   "cell_type": "code",
   "execution_count": null,
   "id": "577da122",
   "metadata": {},
   "outputs": [],
   "source": [
    "print(house_prices.info(),'\\n')\n",
    "print(inhereted_houses.info())"
   ]
  },
  {
   "cell_type": "code",
   "execution_count": null,
   "id": "da9ae92f",
   "metadata": {},
   "outputs": [],
   "source": [
    "import os\n",
    "local_data_path='..\\data'\n",
    "if not os.path.exists(local_data_path):\n",
    "    os.makedirs(local_data_path)"
   ]
  },
  {
   "cell_type": "markdown",
   "id": "e23d3976",
   "metadata": {},
   "source": [
    "Saving the data into the **data** folder"
   ]
  },
  {
   "cell_type": "code",
   "execution_count": null,
   "id": "000d5a8d",
   "metadata": {},
   "outputs": [],
   "source": [
    "house_prices.to_pickle('..\\data\\house_prices.pkl')\n",
    "inhereted_houses.to_pickle('..\\data\\inhereted_houses.pkl')"
   ]
  },
  {
   "cell_type": "code",
   "execution_count": null,
   "id": "5122782c",
   "metadata": {},
   "outputs": [],
   "source": []
  }
 ],
 "metadata": {
  "kernelspec": {
   "display_name": "Python 3 (ipykernel)",
   "language": "python",
   "name": "python3"
  },
  "language_info": {
   "codemirror_mode": {
    "name": "ipython",
    "version": 3
   },
   "file_extension": ".py",
   "mimetype": "text/x-python",
   "name": "python",
   "nbconvert_exporter": "python",
   "pygments_lexer": "ipython3",
   "version": "3.9.13"
  }
 },
 "nbformat": 4,
 "nbformat_minor": 5
}
