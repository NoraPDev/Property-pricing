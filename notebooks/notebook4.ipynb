{
 "cells": [
  {
   "cell_type": "markdown",
   "id": "391346b3",
   "metadata": {},
   "source": [
    "## Predicting sale price\n",
    "### This notebook contains the necessary code for predicting sale price with ML"
   ]
  },
  {
   "cell_type": "markdown",
   "id": "e316b2be",
   "metadata": {},
   "source": [
    "Importing packages"
   ]
  },
  {
   "cell_type": "code",
   "execution_count": 16,
   "id": "990fbaf7",
   "metadata": {},
   "outputs": [],
   "source": [
    "try:\n",
    "    import pandas as pd\n",
    "    import plotly.express as px \n",
    "    import numpy as np\n",
    "    import tensorflow as tf\n",
    "    from sklearn.model_selection import train_test_split\n",
    "    import sklearn\n",
    "except:\n",
    "    !pip install scikit-learn\n",
    "    !pip install pandas\n",
    "    !pip install plotly\n",
    "    !pip install tensorflow\n",
    "    import pandas as pd\n",
    "    import plotly.express as px \n",
    "    import numpy as np\n",
    "    import tensorflow as tf\n",
    "    from sklearn.model_selection import train_test_split\n",
    "    import sklearn"
   ]
  },
  {
   "cell_type": "markdown",
   "id": "a6574b52",
   "metadata": {},
   "source": [
    "Defining the modell"
   ]
  },
  {
   "cell_type": "code",
   "execution_count": 17,
   "id": "220afeff",
   "metadata": {},
   "outputs": [],
   "source": [
    "def createModel(normlayer,trainshape1):\n",
    "    model=tf.keras.Sequential([\n",
    "        normlayer,\n",
    "        tf.keras.layers.Dense(256,activation='relu',input_shape=(trainshape1,)),\n",
    "        tf.keras.layers.Dropout(.1),\n",
    "        tf.keras.layers.Dense(256,activation='relu'),\n",
    "        tf.keras.layers.Dropout(.1),\n",
    "        tf.keras.layers.Dense(128,activation='relu'),\n",
    "        tf.keras.layers.Dense(1)\n",
    "        \n",
    "        \n",
    "    ])\n",
    "    model.compile(optimizer='adam',loss='mse',metrics=['mae'])\n",
    "    return model"
   ]
  },
  {
   "cell_type": "markdown",
   "id": "00fe58a0",
   "metadata": {},
   "source": [
    "Loading data and removing KitchenQual since I have concluded that this knowledge doesn't improve the results as significant as it makes the program more complex "
   ]
  },
  {
   "cell_type": "code",
   "execution_count": 18,
   "id": "d4992fd6",
   "metadata": {},
   "outputs": [],
   "source": [
    "data = pd.read_pickle('../data/clean_housing_data.pkl')\n",
    "a=data.pop('KitchenQual')"
   ]
  },
  {
   "cell_type": "code",
   "execution_count": 19,
   "id": "a1ef13d0",
   "metadata": {},
   "outputs": [
    {
     "data": {
      "text/plain": [
       "Index(['1stFlrSF', 'GarageArea', 'GarageYrBlt', 'GrLivArea', 'LotArea',\n",
       "       'MasVnrArea', 'OpenPorchSF', 'OverallQual', 'TotalBsmtSF', 'YearBuilt',\n",
       "       'YearRemodAdd', 'SalePrice'],\n",
       "      dtype='object')"
      ]
     },
     "execution_count": 19,
     "metadata": {},
     "output_type": "execute_result"
    }
   ],
   "source": [
    "data.columns"
   ]
  },
  {
   "cell_type": "markdown",
   "id": "3e945ff2",
   "metadata": {},
   "source": [
    "Splitting the data to feature and target sets"
   ]
  },
  {
   "cell_type": "code",
   "execution_count": 20,
   "id": "60bb0aa8",
   "metadata": {},
   "outputs": [],
   "source": [
    "features = data.copy()\n",
    "target=features.pop('SalePrice')"
   ]
  },
  {
   "cell_type": "markdown",
   "id": "de23ea48",
   "metadata": {},
   "source": [
    "Save the list of important features"
   ]
  },
  {
   "cell_type": "code",
   "execution_count": 21,
   "id": "4b17f5a8",
   "metadata": {},
   "outputs": [],
   "source": [
    "import pickle\n",
    "with open('../data/important_features.pkl','wb') as f:\n",
    "    pickle.dump(list(features.columns),f)"
   ]
  },
  {
   "cell_type": "markdown",
   "id": "38c7e517",
   "metadata": {},
   "source": [
    "Creating test and train sets"
   ]
  },
  {
   "cell_type": "code",
   "execution_count": 22,
   "id": "d015827a",
   "metadata": {},
   "outputs": [],
   "source": [
    "X_train,X_test,Y_train,Y_test=train_test_split(features,target,test_size=.1)"
   ]
  },
  {
   "cell_type": "markdown",
   "id": "b26a8851",
   "metadata": {},
   "source": [
    "Setting up the normalisation layer"
   ]
  },
  {
   "cell_type": "code",
   "execution_count": 23,
   "id": "5be62c96",
   "metadata": {},
   "outputs": [],
   "source": [
    "normlayer=tf.keras.layers.Normalization()\n",
    "normlayer.adapt(X_train)"
   ]
  },
  {
   "cell_type": "markdown",
   "id": "7bc2a453",
   "metadata": {},
   "source": [
    "Creating and fitting the model"
   ]
  },
  {
   "cell_type": "code",
   "execution_count": 24,
   "id": "b62b629c",
   "metadata": {
    "scrolled": false
   },
   "outputs": [
    {
     "name": "stdout",
     "output_type": "stream",
     "text": [
      "Epoch 1/50\n",
      "205/205 [==============================] - 1s 3ms/step - loss: 27534487552.0000 - mae: 153897.5781 - val_loss: 5909136384.0000 - val_mae: 66885.7812\n",
      "Epoch 2/50\n",
      "205/205 [==============================] - 1s 3ms/step - loss: 3139252224.0000 - mae: 44762.8320 - val_loss: 2617551104.0000 - val_mae: 41109.5078\n",
      "Epoch 3/50\n",
      "205/205 [==============================] - 1s 3ms/step - loss: 1827835520.0000 - mae: 32979.1484 - val_loss: 1543374592.0000 - val_mae: 31698.2539\n",
      "Epoch 4/50\n",
      "205/205 [==============================] - 1s 2ms/step - loss: 1248955392.0000 - mae: 27552.6055 - val_loss: 1023948032.0000 - val_mae: 26177.4414\n",
      "Epoch 5/50\n",
      "205/205 [==============================] - 1s 3ms/step - loss: 975705408.0000 - mae: 23884.7324 - val_loss: 838556864.0000 - val_mae: 23330.1758\n",
      "Epoch 6/50\n",
      "205/205 [==============================] - 1s 3ms/step - loss: 871194688.0000 - mae: 22430.0059 - val_loss: 795007808.0000 - val_mae: 22366.1875\n",
      "Epoch 7/50\n",
      "205/205 [==============================] - 1s 3ms/step - loss: 792381632.0000 - mae: 20950.4121 - val_loss: 673447232.0000 - val_mae: 20825.5469\n",
      "Epoch 8/50\n",
      "205/205 [==============================] - 1s 3ms/step - loss: 709952320.0000 - mae: 19958.6738 - val_loss: 632713088.0000 - val_mae: 19627.7988\n",
      "Epoch 9/50\n",
      "205/205 [==============================] - 1s 3ms/step - loss: 693433984.0000 - mae: 19545.2754 - val_loss: 604951232.0000 - val_mae: 19408.3008\n",
      "Epoch 10/50\n",
      "205/205 [==============================] - 1s 3ms/step - loss: 671117952.0000 - mae: 19169.3691 - val_loss: 639490176.0000 - val_mae: 19264.5703\n",
      "Epoch 11/50\n",
      "205/205 [==============================] - 1s 3ms/step - loss: 650831872.0000 - mae: 18731.9297 - val_loss: 589062912.0000 - val_mae: 19123.6543\n",
      "Epoch 12/50\n",
      "205/205 [==============================] - 1s 3ms/step - loss: 627553344.0000 - mae: 18474.2695 - val_loss: 590254976.0000 - val_mae: 18614.1973\n",
      "Epoch 13/50\n",
      "205/205 [==============================] - 1s 3ms/step - loss: 624325312.0000 - mae: 18039.9102 - val_loss: 573551296.0000 - val_mae: 18501.1484\n",
      "Epoch 14/50\n",
      "205/205 [==============================] - 1s 3ms/step - loss: 627709376.0000 - mae: 18478.6504 - val_loss: 567332096.0000 - val_mae: 18231.5234\n",
      "Epoch 15/50\n",
      "205/205 [==============================] - 1s 3ms/step - loss: 631854912.0000 - mae: 18421.6426 - val_loss: 560354944.0000 - val_mae: 18360.3438\n",
      "Epoch 16/50\n",
      "205/205 [==============================] - 1s 3ms/step - loss: 607017344.0000 - mae: 17748.6289 - val_loss: 559345600.0000 - val_mae: 18297.8008\n",
      "Epoch 17/50\n",
      "205/205 [==============================] - 1s 3ms/step - loss: 593400640.0000 - mae: 17697.3066 - val_loss: 579821760.0000 - val_mae: 18115.6523\n",
      "Epoch 18/50\n",
      "205/205 [==============================] - 1s 3ms/step - loss: 595976448.0000 - mae: 17720.0645 - val_loss: 598736256.0000 - val_mae: 18258.9004\n",
      "Epoch 19/50\n",
      "205/205 [==============================] - 1s 3ms/step - loss: 592126784.0000 - mae: 17555.2188 - val_loss: 551176832.0000 - val_mae: 18082.7559\n",
      "Epoch 20/50\n",
      "205/205 [==============================] - 1s 3ms/step - loss: 580596288.0000 - mae: 17574.0195 - val_loss: 555938240.0000 - val_mae: 17696.0723\n",
      "Epoch 21/50\n",
      "205/205 [==============================] - 1s 3ms/step - loss: 594257664.0000 - mae: 17697.4648 - val_loss: 556244608.0000 - val_mae: 17992.2656\n",
      "Epoch 22/50\n",
      "205/205 [==============================] - 1s 3ms/step - loss: 579460480.0000 - mae: 17547.9141 - val_loss: 582576064.0000 - val_mae: 18263.5176\n",
      "Epoch 23/50\n",
      "205/205 [==============================] - 1s 3ms/step - loss: 591486336.0000 - mae: 17351.1738 - val_loss: 622993344.0000 - val_mae: 18467.1641\n",
      "Epoch 24/50\n",
      "205/205 [==============================] - 1s 3ms/step - loss: 544564480.0000 - mae: 17060.4922 - val_loss: 612500992.0000 - val_mae: 17839.3496\n",
      "Epoch 25/50\n",
      "205/205 [==============================] - 1s 3ms/step - loss: 586580800.0000 - mae: 17363.3945 - val_loss: 559490048.0000 - val_mae: 18033.1133\n",
      "Epoch 26/50\n",
      "205/205 [==============================] - 1s 3ms/step - loss: 570201984.0000 - mae: 17254.4902 - val_loss: 591987584.0000 - val_mae: 17883.2969\n",
      "Epoch 27/50\n",
      "205/205 [==============================] - 1s 3ms/step - loss: 570809088.0000 - mae: 17364.0879 - val_loss: 547704704.0000 - val_mae: 17557.4180\n",
      "Epoch 28/50\n",
      "205/205 [==============================] - 1s 3ms/step - loss: 566247232.0000 - mae: 17079.0801 - val_loss: 549256256.0000 - val_mae: 17850.7129\n",
      "Epoch 29/50\n",
      "205/205 [==============================] - 1s 4ms/step - loss: 553321472.0000 - mae: 16809.8301 - val_loss: 544259200.0000 - val_mae: 17656.6934\n",
      "Epoch 30/50\n",
      "205/205 [==============================] - 1s 3ms/step - loss: 562550528.0000 - mae: 17349.2988 - val_loss: 557502976.0000 - val_mae: 17573.7500\n",
      "Epoch 31/50\n",
      "205/205 [==============================] - 1s 3ms/step - loss: 533853408.0000 - mae: 16673.8477 - val_loss: 554917120.0000 - val_mae: 17385.5586\n",
      "Epoch 32/50\n",
      "205/205 [==============================] - 0s 2ms/step - loss: 557876864.0000 - mae: 17046.4297 - val_loss: 550877376.0000 - val_mae: 17414.1504\n",
      "Epoch 33/50\n",
      "205/205 [==============================] - 1s 3ms/step - loss: 561674112.0000 - mae: 17080.2559 - val_loss: 553517312.0000 - val_mae: 17272.1152\n",
      "Epoch 34/50\n",
      "205/205 [==============================] - 1s 2ms/step - loss: 569264768.0000 - mae: 16892.3047 - val_loss: 562703296.0000 - val_mae: 17386.3301\n",
      "Epoch 35/50\n",
      "205/205 [==============================] - 1s 3ms/step - loss: 540044416.0000 - mae: 16527.2559 - val_loss: 566876480.0000 - val_mae: 18241.8027\n",
      "Epoch 36/50\n",
      "205/205 [==============================] - 1s 3ms/step - loss: 543452608.0000 - mae: 16746.5840 - val_loss: 557932800.0000 - val_mae: 17696.8203\n",
      "Epoch 37/50\n",
      "205/205 [==============================] - 1s 3ms/step - loss: 537253376.0000 - mae: 16864.8340 - val_loss: 595808064.0000 - val_mae: 18587.0996\n",
      "Epoch 38/50\n",
      "205/205 [==============================] - 1s 3ms/step - loss: 535164384.0000 - mae: 16818.9805 - val_loss: 583579776.0000 - val_mae: 18186.1875\n",
      "Epoch 39/50\n",
      "205/205 [==============================] - 1s 3ms/step - loss: 545546368.0000 - mae: 16657.4785 - val_loss: 569456192.0000 - val_mae: 17432.3789\n"
     ]
    },
    {
     "data": {
      "text/plain": [
       "<keras.callbacks.History at 0x25e717899a0>"
      ]
     },
     "execution_count": 24,
     "metadata": {},
     "output_type": "execute_result"
    }
   ],
   "source": [
    "es=tf.keras.callbacks.EarlyStopping(patience=10)\n",
    "model=createModel(normlayer,X_train.shape[1])\n",
    "model.fit(X_train,Y_train,batch_size=4,epochs=50,verbose=1,validation_split=.2,callbacks=[es])"
   ]
  },
  {
   "cell_type": "markdown",
   "id": "2b251264",
   "metadata": {},
   "source": [
    "### Evaluating the model"
   ]
  },
  {
   "cell_type": "markdown",
   "id": "b81d0543",
   "metadata": {},
   "source": [
    "Evaluate on test set given the metrics Mean Squared Error and Mean Absolute Error"
   ]
  },
  {
   "cell_type": "code",
   "execution_count": 25,
   "id": "e85e5d16",
   "metadata": {},
   "outputs": [
    {
     "name": "stdout",
     "output_type": "stream",
     "text": [
      "4/4 [==============================] - 0s 2ms/step - loss: 514159456.0000 - mae: 16324.7480\n"
     ]
    },
    {
     "data": {
      "text/plain": [
       "[514159456.0, 16324.748046875]"
      ]
     },
     "execution_count": 25,
     "metadata": {},
     "output_type": "execute_result"
    }
   ],
   "source": [
    "model.evaluate(X_test,Y_test)"
   ]
  },
  {
   "cell_type": "markdown",
   "id": "2b71c3fb",
   "metadata": {},
   "source": [
    "Calculating R2"
   ]
  },
  {
   "cell_type": "code",
   "execution_count": 26,
   "id": "858af167",
   "metadata": {},
   "outputs": [
    {
     "name": "stdout",
     "output_type": "stream",
     "text": [
      "4/4 [==============================] - 0s 2ms/step\n",
      "32/32 [==============================] - 0s 1ms/step\n",
      "R2 on test set: 0.7925088926906831\n",
      "R2 on train set: 0.8217092341015256\n"
     ]
    }
   ],
   "source": [
    "Y_test_prediction=model.predict(X_test).flatten()\n",
    "Y_train_prediction= model.predict(X_train).flatten()\n",
    "\n",
    "import pickle\n",
    "\n",
    "with open('../data/Y_test_prediction.pkl','wb') as f:\n",
    "    pickle.dump(list(Y_test_prediction),f)\n",
    "\n",
    "with open('../data/Y_train_prediction.pkl','wb') as f:\n",
    "    pickle.dump(list(Y_train_prediction),f)\n",
    "    \n",
    "with open('../data/Y_test.pkl','wb') as f:\n",
    "    pickle.dump(list(Y_test),f)\n",
    "    \n",
    "with open('../data/Y_train.pkl','wb') as f:\n",
    "    pickle.dump(list(Y_train),f)\n",
    "\n",
    "r2_scores=[sklearn.metrics.r2_score(list(Y_test_prediction),list(Y_test)),\n",
    "           sklearn.metrics.r2_score(list(Y_train_prediction),list(Y_train))]\n",
    "\n",
    "print(f'R2 on test set: {r2_scores[0]}')\n",
    "print(f'R2 on train set: {r2_scores[1]}')\n",
    "\n",
    "with open('../data/r2_scores.pkl','wb') as f:\n",
    "    pickle.dump(r2_scores,f)"
   ]
  },
  {
   "cell_type": "markdown",
   "id": "cc21649c",
   "metadata": {},
   "source": [
    "Plotting the actual and the predicted values"
   ]
  },
  {
   "cell_type": "code",
   "execution_count": 27,
   "id": "31d93fc7",
   "metadata": {
    "scrolled": false
   },
   "outputs": [
    {
     "data": {
      "application/vnd.plotly.v1+json": {
       "config": {
        "plotlyServerURL": "https://plot.ly"
       },
       "data": [
        {
         "hovertemplate": "Actual=%{x}<br>Predicted=%{y}<extra></extra>",
         "legendgroup": "",
         "marker": {
          "color": "#636efa",
          "symbol": "circle"
         },
         "mode": "markers",
         "name": "",
         "orientation": "v",
         "showlegend": false,
         "type": "scatter",
         "x": [
          130000,
          200100,
          231500,
          109500,
          170000,
          124900,
          185750,
          132000,
          147000,
          147000,
          139950,
          275000,
          134500,
          152000,
          190000,
          76000,
          145000,
          130000,
          203000,
          285000,
          135500,
          206900,
          97500,
          115000,
          137000,
          133000,
          201000,
          377426,
          188000,
          181900,
          149350,
          275500,
          140000,
          143900,
          113000,
          239500,
          185500,
          103000,
          155000,
          235000,
          175000,
          174000,
          64500,
          111250,
          155900,
          294000,
          154300,
          140000,
          183200,
          171500,
          236500,
          173000,
          152000,
          153500,
          164700,
          192000,
          151400,
          173500,
          85000,
          105000,
          127500,
          106000,
          191000,
          361919,
          152000,
          169000,
          196500,
          147000,
          182900,
          55993,
          177000,
          233170,
          161000,
          250000,
          239000,
          232000,
          79900,
          101000,
          141500,
          164990,
          143500,
          112000,
          132000,
          156500,
          127000,
          136500,
          169900,
          179900,
          103600,
          226000,
          274000,
          140000,
          144000,
          138500,
          215000,
          125000,
          132500,
          165500,
          180000,
          142500,
          109500,
          180000,
          180500,
          369900,
          153000,
          210000,
          147500,
          156000,
          126000,
          130000,
          156000,
          325000,
          219500,
          165500
         ],
         "xaxis": "x",
         "y": [
          176783.5625,
          162565.21875,
          202027.328125,
          123340.578125,
          161369.296875,
          123851.703125,
          168424.109375,
          142459.671875,
          142665.5625,
          135771.15625,
          131893.65625,
          257676.8125,
          121486.359375,
          148505.015625,
          176938.6875,
          119747.828125,
          141440.171875,
          129815.796875,
          193402.96875,
          295000.46875,
          154880.796875,
          189611.890625,
          175098.234375,
          125140.2890625,
          132187.203125,
          138641.796875,
          245678.328125,
          335701.90625,
          177417.234375,
          175301.171875,
          147897.3125,
          272280.34375,
          136642.5625,
          154037.453125,
          133282.125,
          247647.359375,
          203664.421875,
          107544.84375,
          154976.59375,
          257187.609375,
          159730.078125,
          181402.109375,
          123630.53125,
          135543.890625,
          145304.671875,
          263753.46875,
          176609.234375,
          134199.796875,
          171476.828125,
          153860.546875,
          271204.53125,
          181248.875,
          155374.546875,
          155543.125,
          172794.484375,
          181481.25,
          197846.875,
          177076.96875,
          127932.125,
          106550.8359375,
          167386.046875,
          120846.7421875,
          198030.609375,
          315440.125,
          173107.6875,
          189811.703125,
          196948.46875,
          155780.96875,
          178203.484375,
          119244.796875,
          165283.5625,
          222887.5625,
          189710.203125,
          217425.484375,
          203666.703125,
          261844.4375,
          107637.171875,
          119382.90625,
          125272.53125,
          198167.21875,
          140951.421875,
          127002.015625,
          139584.15625,
          160340.6875,
          129696.703125,
          133495.296875,
          163925.1875,
          178576.828125,
          128685.4375,
          215410.125,
          250584.4375,
          147829.625,
          135208.03125,
          138414.140625,
          224233.921875,
          118946.8984375,
          132866.703125,
          171830.359375,
          171713.484375,
          151863.734375,
          124517.203125,
          166992.28125,
          202034.875,
          312823.6875,
          150966.765625,
          205052.390625,
          135842.953125,
          158416.78125,
          118067.234375,
          192235.296875,
          149339.140625,
          329785.5,
          230240.890625,
          151820.515625
         ],
         "yaxis": "y"
        }
       ],
       "layout": {
        "legend": {
         "tracegroupgap": 0
        },
        "margin": {
         "t": 60
        },
        "shapes": [
         {
          "line": {
           "color": "Red"
          },
          "type": "line",
          "x0": 70000,
          "x1": 380000,
          "xref": "x",
          "y0": 70000,
          "y1": 380000,
          "yref": "y"
         }
        ],
        "template": {
         "data": {
          "bar": [
           {
            "error_x": {
             "color": "#2a3f5f"
            },
            "error_y": {
             "color": "#2a3f5f"
            },
            "marker": {
             "line": {
              "color": "#E5ECF6",
              "width": 0.5
             },
             "pattern": {
              "fillmode": "overlay",
              "size": 10,
              "solidity": 0.2
             }
            },
            "type": "bar"
           }
          ],
          "barpolar": [
           {
            "marker": {
             "line": {
              "color": "#E5ECF6",
              "width": 0.5
             },
             "pattern": {
              "fillmode": "overlay",
              "size": 10,
              "solidity": 0.2
             }
            },
            "type": "barpolar"
           }
          ],
          "carpet": [
           {
            "aaxis": {
             "endlinecolor": "#2a3f5f",
             "gridcolor": "white",
             "linecolor": "white",
             "minorgridcolor": "white",
             "startlinecolor": "#2a3f5f"
            },
            "baxis": {
             "endlinecolor": "#2a3f5f",
             "gridcolor": "white",
             "linecolor": "white",
             "minorgridcolor": "white",
             "startlinecolor": "#2a3f5f"
            },
            "type": "carpet"
           }
          ],
          "choropleth": [
           {
            "colorbar": {
             "outlinewidth": 0,
             "ticks": ""
            },
            "type": "choropleth"
           }
          ],
          "contour": [
           {
            "colorbar": {
             "outlinewidth": 0,
             "ticks": ""
            },
            "colorscale": [
             [
              0,
              "#0d0887"
             ],
             [
              0.1111111111111111,
              "#46039f"
             ],
             [
              0.2222222222222222,
              "#7201a8"
             ],
             [
              0.3333333333333333,
              "#9c179e"
             ],
             [
              0.4444444444444444,
              "#bd3786"
             ],
             [
              0.5555555555555556,
              "#d8576b"
             ],
             [
              0.6666666666666666,
              "#ed7953"
             ],
             [
              0.7777777777777778,
              "#fb9f3a"
             ],
             [
              0.8888888888888888,
              "#fdca26"
             ],
             [
              1,
              "#f0f921"
             ]
            ],
            "type": "contour"
           }
          ],
          "contourcarpet": [
           {
            "colorbar": {
             "outlinewidth": 0,
             "ticks": ""
            },
            "type": "contourcarpet"
           }
          ],
          "heatmap": [
           {
            "colorbar": {
             "outlinewidth": 0,
             "ticks": ""
            },
            "colorscale": [
             [
              0,
              "#0d0887"
             ],
             [
              0.1111111111111111,
              "#46039f"
             ],
             [
              0.2222222222222222,
              "#7201a8"
             ],
             [
              0.3333333333333333,
              "#9c179e"
             ],
             [
              0.4444444444444444,
              "#bd3786"
             ],
             [
              0.5555555555555556,
              "#d8576b"
             ],
             [
              0.6666666666666666,
              "#ed7953"
             ],
             [
              0.7777777777777778,
              "#fb9f3a"
             ],
             [
              0.8888888888888888,
              "#fdca26"
             ],
             [
              1,
              "#f0f921"
             ]
            ],
            "type": "heatmap"
           }
          ],
          "heatmapgl": [
           {
            "colorbar": {
             "outlinewidth": 0,
             "ticks": ""
            },
            "colorscale": [
             [
              0,
              "#0d0887"
             ],
             [
              0.1111111111111111,
              "#46039f"
             ],
             [
              0.2222222222222222,
              "#7201a8"
             ],
             [
              0.3333333333333333,
              "#9c179e"
             ],
             [
              0.4444444444444444,
              "#bd3786"
             ],
             [
              0.5555555555555556,
              "#d8576b"
             ],
             [
              0.6666666666666666,
              "#ed7953"
             ],
             [
              0.7777777777777778,
              "#fb9f3a"
             ],
             [
              0.8888888888888888,
              "#fdca26"
             ],
             [
              1,
              "#f0f921"
             ]
            ],
            "type": "heatmapgl"
           }
          ],
          "histogram": [
           {
            "marker": {
             "pattern": {
              "fillmode": "overlay",
              "size": 10,
              "solidity": 0.2
             }
            },
            "type": "histogram"
           }
          ],
          "histogram2d": [
           {
            "colorbar": {
             "outlinewidth": 0,
             "ticks": ""
            },
            "colorscale": [
             [
              0,
              "#0d0887"
             ],
             [
              0.1111111111111111,
              "#46039f"
             ],
             [
              0.2222222222222222,
              "#7201a8"
             ],
             [
              0.3333333333333333,
              "#9c179e"
             ],
             [
              0.4444444444444444,
              "#bd3786"
             ],
             [
              0.5555555555555556,
              "#d8576b"
             ],
             [
              0.6666666666666666,
              "#ed7953"
             ],
             [
              0.7777777777777778,
              "#fb9f3a"
             ],
             [
              0.8888888888888888,
              "#fdca26"
             ],
             [
              1,
              "#f0f921"
             ]
            ],
            "type": "histogram2d"
           }
          ],
          "histogram2dcontour": [
           {
            "colorbar": {
             "outlinewidth": 0,
             "ticks": ""
            },
            "colorscale": [
             [
              0,
              "#0d0887"
             ],
             [
              0.1111111111111111,
              "#46039f"
             ],
             [
              0.2222222222222222,
              "#7201a8"
             ],
             [
              0.3333333333333333,
              "#9c179e"
             ],
             [
              0.4444444444444444,
              "#bd3786"
             ],
             [
              0.5555555555555556,
              "#d8576b"
             ],
             [
              0.6666666666666666,
              "#ed7953"
             ],
             [
              0.7777777777777778,
              "#fb9f3a"
             ],
             [
              0.8888888888888888,
              "#fdca26"
             ],
             [
              1,
              "#f0f921"
             ]
            ],
            "type": "histogram2dcontour"
           }
          ],
          "mesh3d": [
           {
            "colorbar": {
             "outlinewidth": 0,
             "ticks": ""
            },
            "type": "mesh3d"
           }
          ],
          "parcoords": [
           {
            "line": {
             "colorbar": {
              "outlinewidth": 0,
              "ticks": ""
             }
            },
            "type": "parcoords"
           }
          ],
          "pie": [
           {
            "automargin": true,
            "type": "pie"
           }
          ],
          "scatter": [
           {
            "fillpattern": {
             "fillmode": "overlay",
             "size": 10,
             "solidity": 0.2
            },
            "type": "scatter"
           }
          ],
          "scatter3d": [
           {
            "line": {
             "colorbar": {
              "outlinewidth": 0,
              "ticks": ""
             }
            },
            "marker": {
             "colorbar": {
              "outlinewidth": 0,
              "ticks": ""
             }
            },
            "type": "scatter3d"
           }
          ],
          "scattercarpet": [
           {
            "marker": {
             "colorbar": {
              "outlinewidth": 0,
              "ticks": ""
             }
            },
            "type": "scattercarpet"
           }
          ],
          "scattergeo": [
           {
            "marker": {
             "colorbar": {
              "outlinewidth": 0,
              "ticks": ""
             }
            },
            "type": "scattergeo"
           }
          ],
          "scattergl": [
           {
            "marker": {
             "colorbar": {
              "outlinewidth": 0,
              "ticks": ""
             }
            },
            "type": "scattergl"
           }
          ],
          "scattermapbox": [
           {
            "marker": {
             "colorbar": {
              "outlinewidth": 0,
              "ticks": ""
             }
            },
            "type": "scattermapbox"
           }
          ],
          "scatterpolar": [
           {
            "marker": {
             "colorbar": {
              "outlinewidth": 0,
              "ticks": ""
             }
            },
            "type": "scatterpolar"
           }
          ],
          "scatterpolargl": [
           {
            "marker": {
             "colorbar": {
              "outlinewidth": 0,
              "ticks": ""
             }
            },
            "type": "scatterpolargl"
           }
          ],
          "scatterternary": [
           {
            "marker": {
             "colorbar": {
              "outlinewidth": 0,
              "ticks": ""
             }
            },
            "type": "scatterternary"
           }
          ],
          "surface": [
           {
            "colorbar": {
             "outlinewidth": 0,
             "ticks": ""
            },
            "colorscale": [
             [
              0,
              "#0d0887"
             ],
             [
              0.1111111111111111,
              "#46039f"
             ],
             [
              0.2222222222222222,
              "#7201a8"
             ],
             [
              0.3333333333333333,
              "#9c179e"
             ],
             [
              0.4444444444444444,
              "#bd3786"
             ],
             [
              0.5555555555555556,
              "#d8576b"
             ],
             [
              0.6666666666666666,
              "#ed7953"
             ],
             [
              0.7777777777777778,
              "#fb9f3a"
             ],
             [
              0.8888888888888888,
              "#fdca26"
             ],
             [
              1,
              "#f0f921"
             ]
            ],
            "type": "surface"
           }
          ],
          "table": [
           {
            "cells": {
             "fill": {
              "color": "#EBF0F8"
             },
             "line": {
              "color": "white"
             }
            },
            "header": {
             "fill": {
              "color": "#C8D4E3"
             },
             "line": {
              "color": "white"
             }
            },
            "type": "table"
           }
          ]
         },
         "layout": {
          "annotationdefaults": {
           "arrowcolor": "#2a3f5f",
           "arrowhead": 0,
           "arrowwidth": 1
          },
          "autotypenumbers": "strict",
          "coloraxis": {
           "colorbar": {
            "outlinewidth": 0,
            "ticks": ""
           }
          },
          "colorscale": {
           "diverging": [
            [
             0,
             "#8e0152"
            ],
            [
             0.1,
             "#c51b7d"
            ],
            [
             0.2,
             "#de77ae"
            ],
            [
             0.3,
             "#f1b6da"
            ],
            [
             0.4,
             "#fde0ef"
            ],
            [
             0.5,
             "#f7f7f7"
            ],
            [
             0.6,
             "#e6f5d0"
            ],
            [
             0.7,
             "#b8e186"
            ],
            [
             0.8,
             "#7fbc41"
            ],
            [
             0.9,
             "#4d9221"
            ],
            [
             1,
             "#276419"
            ]
           ],
           "sequential": [
            [
             0,
             "#0d0887"
            ],
            [
             0.1111111111111111,
             "#46039f"
            ],
            [
             0.2222222222222222,
             "#7201a8"
            ],
            [
             0.3333333333333333,
             "#9c179e"
            ],
            [
             0.4444444444444444,
             "#bd3786"
            ],
            [
             0.5555555555555556,
             "#d8576b"
            ],
            [
             0.6666666666666666,
             "#ed7953"
            ],
            [
             0.7777777777777778,
             "#fb9f3a"
            ],
            [
             0.8888888888888888,
             "#fdca26"
            ],
            [
             1,
             "#f0f921"
            ]
           ],
           "sequentialminus": [
            [
             0,
             "#0d0887"
            ],
            [
             0.1111111111111111,
             "#46039f"
            ],
            [
             0.2222222222222222,
             "#7201a8"
            ],
            [
             0.3333333333333333,
             "#9c179e"
            ],
            [
             0.4444444444444444,
             "#bd3786"
            ],
            [
             0.5555555555555556,
             "#d8576b"
            ],
            [
             0.6666666666666666,
             "#ed7953"
            ],
            [
             0.7777777777777778,
             "#fb9f3a"
            ],
            [
             0.8888888888888888,
             "#fdca26"
            ],
            [
             1,
             "#f0f921"
            ]
           ]
          },
          "colorway": [
           "#636efa",
           "#EF553B",
           "#00cc96",
           "#ab63fa",
           "#FFA15A",
           "#19d3f3",
           "#FF6692",
           "#B6E880",
           "#FF97FF",
           "#FECB52"
          ],
          "font": {
           "color": "#2a3f5f"
          },
          "geo": {
           "bgcolor": "white",
           "lakecolor": "white",
           "landcolor": "#E5ECF6",
           "showlakes": true,
           "showland": true,
           "subunitcolor": "white"
          },
          "hoverlabel": {
           "align": "left"
          },
          "hovermode": "closest",
          "mapbox": {
           "style": "light"
          },
          "paper_bgcolor": "white",
          "plot_bgcolor": "#E5ECF6",
          "polar": {
           "angularaxis": {
            "gridcolor": "white",
            "linecolor": "white",
            "ticks": ""
           },
           "bgcolor": "#E5ECF6",
           "radialaxis": {
            "gridcolor": "white",
            "linecolor": "white",
            "ticks": ""
           }
          },
          "scene": {
           "xaxis": {
            "backgroundcolor": "#E5ECF6",
            "gridcolor": "white",
            "gridwidth": 2,
            "linecolor": "white",
            "showbackground": true,
            "ticks": "",
            "zerolinecolor": "white"
           },
           "yaxis": {
            "backgroundcolor": "#E5ECF6",
            "gridcolor": "white",
            "gridwidth": 2,
            "linecolor": "white",
            "showbackground": true,
            "ticks": "",
            "zerolinecolor": "white"
           },
           "zaxis": {
            "backgroundcolor": "#E5ECF6",
            "gridcolor": "white",
            "gridwidth": 2,
            "linecolor": "white",
            "showbackground": true,
            "ticks": "",
            "zerolinecolor": "white"
           }
          },
          "shapedefaults": {
           "line": {
            "color": "#2a3f5f"
           }
          },
          "ternary": {
           "aaxis": {
            "gridcolor": "white",
            "linecolor": "white",
            "ticks": ""
           },
           "baxis": {
            "gridcolor": "white",
            "linecolor": "white",
            "ticks": ""
           },
           "bgcolor": "#E5ECF6",
           "caxis": {
            "gridcolor": "white",
            "linecolor": "white",
            "ticks": ""
           }
          },
          "title": {
           "x": 0.05
          },
          "xaxis": {
           "automargin": true,
           "gridcolor": "white",
           "linecolor": "white",
           "ticks": "",
           "title": {
            "standoff": 15
           },
           "zerolinecolor": "white",
           "zerolinewidth": 2
          },
          "yaxis": {
           "automargin": true,
           "gridcolor": "white",
           "linecolor": "white",
           "ticks": "",
           "title": {
            "standoff": 15
           },
           "zerolinecolor": "white",
           "zerolinewidth": 2
          }
         }
        },
        "xaxis": {
         "anchor": "y",
         "domain": [
          0,
          1
         ],
         "range": [
          50000,
          400000
         ],
         "title": {
          "text": "Actual"
         }
        },
        "yaxis": {
         "anchor": "x",
         "domain": [
          0,
          1
         ],
         "range": [
          50000,
          400000
         ],
         "title": {
          "text": "Predicted"
         }
        }
       }
      },
      "text/html": [
       "<div>                            <div id=\"0dfbed65-2b02-4727-a694-5d8bb7d8e424\" class=\"plotly-graph-div\" style=\"height:525px; width:100%;\"></div>            <script type=\"text/javascript\">                require([\"plotly\"], function(Plotly) {                    window.PLOTLYENV=window.PLOTLYENV || {};                                    if (document.getElementById(\"0dfbed65-2b02-4727-a694-5d8bb7d8e424\")) {                    Plotly.newPlot(                        \"0dfbed65-2b02-4727-a694-5d8bb7d8e424\",                        [{\"hovertemplate\":\"Actual=%{x}<br>Predicted=%{y}<extra></extra>\",\"legendgroup\":\"\",\"marker\":{\"color\":\"#636efa\",\"symbol\":\"circle\"},\"mode\":\"markers\",\"name\":\"\",\"orientation\":\"v\",\"showlegend\":false,\"x\":[130000,200100,231500,109500,170000,124900,185750,132000,147000,147000,139950,275000,134500,152000,190000,76000,145000,130000,203000,285000,135500,206900,97500,115000,137000,133000,201000,377426,188000,181900,149350,275500,140000,143900,113000,239500,185500,103000,155000,235000,175000,174000,64500,111250,155900,294000,154300,140000,183200,171500,236500,173000,152000,153500,164700,192000,151400,173500,85000,105000,127500,106000,191000,361919,152000,169000,196500,147000,182900,55993,177000,233170,161000,250000,239000,232000,79900,101000,141500,164990,143500,112000,132000,156500,127000,136500,169900,179900,103600,226000,274000,140000,144000,138500,215000,125000,132500,165500,180000,142500,109500,180000,180500,369900,153000,210000,147500,156000,126000,130000,156000,325000,219500,165500],\"xaxis\":\"x\",\"y\":[176783.5625,162565.21875,202027.328125,123340.578125,161369.296875,123851.703125,168424.109375,142459.671875,142665.5625,135771.15625,131893.65625,257676.8125,121486.359375,148505.015625,176938.6875,119747.828125,141440.171875,129815.796875,193402.96875,295000.46875,154880.796875,189611.890625,175098.234375,125140.2890625,132187.203125,138641.796875,245678.328125,335701.90625,177417.234375,175301.171875,147897.3125,272280.34375,136642.5625,154037.453125,133282.125,247647.359375,203664.421875,107544.84375,154976.59375,257187.609375,159730.078125,181402.109375,123630.53125,135543.890625,145304.671875,263753.46875,176609.234375,134199.796875,171476.828125,153860.546875,271204.53125,181248.875,155374.546875,155543.125,172794.484375,181481.25,197846.875,177076.96875,127932.125,106550.8359375,167386.046875,120846.7421875,198030.609375,315440.125,173107.6875,189811.703125,196948.46875,155780.96875,178203.484375,119244.796875,165283.5625,222887.5625,189710.203125,217425.484375,203666.703125,261844.4375,107637.171875,119382.90625,125272.53125,198167.21875,140951.421875,127002.015625,139584.15625,160340.6875,129696.703125,133495.296875,163925.1875,178576.828125,128685.4375,215410.125,250584.4375,147829.625,135208.03125,138414.140625,224233.921875,118946.8984375,132866.703125,171830.359375,171713.484375,151863.734375,124517.203125,166992.28125,202034.875,312823.6875,150966.765625,205052.390625,135842.953125,158416.78125,118067.234375,192235.296875,149339.140625,329785.5,230240.890625,151820.515625],\"yaxis\":\"y\",\"type\":\"scatter\"}],                        {\"template\":{\"data\":{\"histogram2dcontour\":[{\"type\":\"histogram2dcontour\",\"colorbar\":{\"outlinewidth\":0,\"ticks\":\"\"},\"colorscale\":[[0.0,\"#0d0887\"],[0.1111111111111111,\"#46039f\"],[0.2222222222222222,\"#7201a8\"],[0.3333333333333333,\"#9c179e\"],[0.4444444444444444,\"#bd3786\"],[0.5555555555555556,\"#d8576b\"],[0.6666666666666666,\"#ed7953\"],[0.7777777777777778,\"#fb9f3a\"],[0.8888888888888888,\"#fdca26\"],[1.0,\"#f0f921\"]]}],\"choropleth\":[{\"type\":\"choropleth\",\"colorbar\":{\"outlinewidth\":0,\"ticks\":\"\"}}],\"histogram2d\":[{\"type\":\"histogram2d\",\"colorbar\":{\"outlinewidth\":0,\"ticks\":\"\"},\"colorscale\":[[0.0,\"#0d0887\"],[0.1111111111111111,\"#46039f\"],[0.2222222222222222,\"#7201a8\"],[0.3333333333333333,\"#9c179e\"],[0.4444444444444444,\"#bd3786\"],[0.5555555555555556,\"#d8576b\"],[0.6666666666666666,\"#ed7953\"],[0.7777777777777778,\"#fb9f3a\"],[0.8888888888888888,\"#fdca26\"],[1.0,\"#f0f921\"]]}],\"heatmap\":[{\"type\":\"heatmap\",\"colorbar\":{\"outlinewidth\":0,\"ticks\":\"\"},\"colorscale\":[[0.0,\"#0d0887\"],[0.1111111111111111,\"#46039f\"],[0.2222222222222222,\"#7201a8\"],[0.3333333333333333,\"#9c179e\"],[0.4444444444444444,\"#bd3786\"],[0.5555555555555556,\"#d8576b\"],[0.6666666666666666,\"#ed7953\"],[0.7777777777777778,\"#fb9f3a\"],[0.8888888888888888,\"#fdca26\"],[1.0,\"#f0f921\"]]}],\"heatmapgl\":[{\"type\":\"heatmapgl\",\"colorbar\":{\"outlinewidth\":0,\"ticks\":\"\"},\"colorscale\":[[0.0,\"#0d0887\"],[0.1111111111111111,\"#46039f\"],[0.2222222222222222,\"#7201a8\"],[0.3333333333333333,\"#9c179e\"],[0.4444444444444444,\"#bd3786\"],[0.5555555555555556,\"#d8576b\"],[0.6666666666666666,\"#ed7953\"],[0.7777777777777778,\"#fb9f3a\"],[0.8888888888888888,\"#fdca26\"],[1.0,\"#f0f921\"]]}],\"contourcarpet\":[{\"type\":\"contourcarpet\",\"colorbar\":{\"outlinewidth\":0,\"ticks\":\"\"}}],\"contour\":[{\"type\":\"contour\",\"colorbar\":{\"outlinewidth\":0,\"ticks\":\"\"},\"colorscale\":[[0.0,\"#0d0887\"],[0.1111111111111111,\"#46039f\"],[0.2222222222222222,\"#7201a8\"],[0.3333333333333333,\"#9c179e\"],[0.4444444444444444,\"#bd3786\"],[0.5555555555555556,\"#d8576b\"],[0.6666666666666666,\"#ed7953\"],[0.7777777777777778,\"#fb9f3a\"],[0.8888888888888888,\"#fdca26\"],[1.0,\"#f0f921\"]]}],\"surface\":[{\"type\":\"surface\",\"colorbar\":{\"outlinewidth\":0,\"ticks\":\"\"},\"colorscale\":[[0.0,\"#0d0887\"],[0.1111111111111111,\"#46039f\"],[0.2222222222222222,\"#7201a8\"],[0.3333333333333333,\"#9c179e\"],[0.4444444444444444,\"#bd3786\"],[0.5555555555555556,\"#d8576b\"],[0.6666666666666666,\"#ed7953\"],[0.7777777777777778,\"#fb9f3a\"],[0.8888888888888888,\"#fdca26\"],[1.0,\"#f0f921\"]]}],\"mesh3d\":[{\"type\":\"mesh3d\",\"colorbar\":{\"outlinewidth\":0,\"ticks\":\"\"}}],\"scatter\":[{\"fillpattern\":{\"fillmode\":\"overlay\",\"size\":10,\"solidity\":0.2},\"type\":\"scatter\"}],\"parcoords\":[{\"type\":\"parcoords\",\"line\":{\"colorbar\":{\"outlinewidth\":0,\"ticks\":\"\"}}}],\"scatterpolargl\":[{\"type\":\"scatterpolargl\",\"marker\":{\"colorbar\":{\"outlinewidth\":0,\"ticks\":\"\"}}}],\"bar\":[{\"error_x\":{\"color\":\"#2a3f5f\"},\"error_y\":{\"color\":\"#2a3f5f\"},\"marker\":{\"line\":{\"color\":\"#E5ECF6\",\"width\":0.5},\"pattern\":{\"fillmode\":\"overlay\",\"size\":10,\"solidity\":0.2}},\"type\":\"bar\"}],\"scattergeo\":[{\"type\":\"scattergeo\",\"marker\":{\"colorbar\":{\"outlinewidth\":0,\"ticks\":\"\"}}}],\"scatterpolar\":[{\"type\":\"scatterpolar\",\"marker\":{\"colorbar\":{\"outlinewidth\":0,\"ticks\":\"\"}}}],\"histogram\":[{\"marker\":{\"pattern\":{\"fillmode\":\"overlay\",\"size\":10,\"solidity\":0.2}},\"type\":\"histogram\"}],\"scattergl\":[{\"type\":\"scattergl\",\"marker\":{\"colorbar\":{\"outlinewidth\":0,\"ticks\":\"\"}}}],\"scatter3d\":[{\"type\":\"scatter3d\",\"line\":{\"colorbar\":{\"outlinewidth\":0,\"ticks\":\"\"}},\"marker\":{\"colorbar\":{\"outlinewidth\":0,\"ticks\":\"\"}}}],\"scattermapbox\":[{\"type\":\"scattermapbox\",\"marker\":{\"colorbar\":{\"outlinewidth\":0,\"ticks\":\"\"}}}],\"scatterternary\":[{\"type\":\"scatterternary\",\"marker\":{\"colorbar\":{\"outlinewidth\":0,\"ticks\":\"\"}}}],\"scattercarpet\":[{\"type\":\"scattercarpet\",\"marker\":{\"colorbar\":{\"outlinewidth\":0,\"ticks\":\"\"}}}],\"carpet\":[{\"aaxis\":{\"endlinecolor\":\"#2a3f5f\",\"gridcolor\":\"white\",\"linecolor\":\"white\",\"minorgridcolor\":\"white\",\"startlinecolor\":\"#2a3f5f\"},\"baxis\":{\"endlinecolor\":\"#2a3f5f\",\"gridcolor\":\"white\",\"linecolor\":\"white\",\"minorgridcolor\":\"white\",\"startlinecolor\":\"#2a3f5f\"},\"type\":\"carpet\"}],\"table\":[{\"cells\":{\"fill\":{\"color\":\"#EBF0F8\"},\"line\":{\"color\":\"white\"}},\"header\":{\"fill\":{\"color\":\"#C8D4E3\"},\"line\":{\"color\":\"white\"}},\"type\":\"table\"}],\"barpolar\":[{\"marker\":{\"line\":{\"color\":\"#E5ECF6\",\"width\":0.5},\"pattern\":{\"fillmode\":\"overlay\",\"size\":10,\"solidity\":0.2}},\"type\":\"barpolar\"}],\"pie\":[{\"automargin\":true,\"type\":\"pie\"}]},\"layout\":{\"autotypenumbers\":\"strict\",\"colorway\":[\"#636efa\",\"#EF553B\",\"#00cc96\",\"#ab63fa\",\"#FFA15A\",\"#19d3f3\",\"#FF6692\",\"#B6E880\",\"#FF97FF\",\"#FECB52\"],\"font\":{\"color\":\"#2a3f5f\"},\"hovermode\":\"closest\",\"hoverlabel\":{\"align\":\"left\"},\"paper_bgcolor\":\"white\",\"plot_bgcolor\":\"#E5ECF6\",\"polar\":{\"bgcolor\":\"#E5ECF6\",\"angularaxis\":{\"gridcolor\":\"white\",\"linecolor\":\"white\",\"ticks\":\"\"},\"radialaxis\":{\"gridcolor\":\"white\",\"linecolor\":\"white\",\"ticks\":\"\"}},\"ternary\":{\"bgcolor\":\"#E5ECF6\",\"aaxis\":{\"gridcolor\":\"white\",\"linecolor\":\"white\",\"ticks\":\"\"},\"baxis\":{\"gridcolor\":\"white\",\"linecolor\":\"white\",\"ticks\":\"\"},\"caxis\":{\"gridcolor\":\"white\",\"linecolor\":\"white\",\"ticks\":\"\"}},\"coloraxis\":{\"colorbar\":{\"outlinewidth\":0,\"ticks\":\"\"}},\"colorscale\":{\"sequential\":[[0.0,\"#0d0887\"],[0.1111111111111111,\"#46039f\"],[0.2222222222222222,\"#7201a8\"],[0.3333333333333333,\"#9c179e\"],[0.4444444444444444,\"#bd3786\"],[0.5555555555555556,\"#d8576b\"],[0.6666666666666666,\"#ed7953\"],[0.7777777777777778,\"#fb9f3a\"],[0.8888888888888888,\"#fdca26\"],[1.0,\"#f0f921\"]],\"sequentialminus\":[[0.0,\"#0d0887\"],[0.1111111111111111,\"#46039f\"],[0.2222222222222222,\"#7201a8\"],[0.3333333333333333,\"#9c179e\"],[0.4444444444444444,\"#bd3786\"],[0.5555555555555556,\"#d8576b\"],[0.6666666666666666,\"#ed7953\"],[0.7777777777777778,\"#fb9f3a\"],[0.8888888888888888,\"#fdca26\"],[1.0,\"#f0f921\"]],\"diverging\":[[0,\"#8e0152\"],[0.1,\"#c51b7d\"],[0.2,\"#de77ae\"],[0.3,\"#f1b6da\"],[0.4,\"#fde0ef\"],[0.5,\"#f7f7f7\"],[0.6,\"#e6f5d0\"],[0.7,\"#b8e186\"],[0.8,\"#7fbc41\"],[0.9,\"#4d9221\"],[1,\"#276419\"]]},\"xaxis\":{\"gridcolor\":\"white\",\"linecolor\":\"white\",\"ticks\":\"\",\"title\":{\"standoff\":15},\"zerolinecolor\":\"white\",\"automargin\":true,\"zerolinewidth\":2},\"yaxis\":{\"gridcolor\":\"white\",\"linecolor\":\"white\",\"ticks\":\"\",\"title\":{\"standoff\":15},\"zerolinecolor\":\"white\",\"automargin\":true,\"zerolinewidth\":2},\"scene\":{\"xaxis\":{\"backgroundcolor\":\"#E5ECF6\",\"gridcolor\":\"white\",\"linecolor\":\"white\",\"showbackground\":true,\"ticks\":\"\",\"zerolinecolor\":\"white\",\"gridwidth\":2},\"yaxis\":{\"backgroundcolor\":\"#E5ECF6\",\"gridcolor\":\"white\",\"linecolor\":\"white\",\"showbackground\":true,\"ticks\":\"\",\"zerolinecolor\":\"white\",\"gridwidth\":2},\"zaxis\":{\"backgroundcolor\":\"#E5ECF6\",\"gridcolor\":\"white\",\"linecolor\":\"white\",\"showbackground\":true,\"ticks\":\"\",\"zerolinecolor\":\"white\",\"gridwidth\":2}},\"shapedefaults\":{\"line\":{\"color\":\"#2a3f5f\"}},\"annotationdefaults\":{\"arrowcolor\":\"#2a3f5f\",\"arrowhead\":0,\"arrowwidth\":1},\"geo\":{\"bgcolor\":\"white\",\"landcolor\":\"#E5ECF6\",\"subunitcolor\":\"white\",\"showland\":true,\"showlakes\":true,\"lakecolor\":\"white\"},\"title\":{\"x\":0.05},\"mapbox\":{\"style\":\"light\"}}},\"xaxis\":{\"anchor\":\"y\",\"domain\":[0.0,1.0],\"title\":{\"text\":\"Actual\"},\"range\":[50000,400000]},\"yaxis\":{\"anchor\":\"x\",\"domain\":[0.0,1.0],\"title\":{\"text\":\"Predicted\"},\"range\":[50000,400000]},\"legend\":{\"tracegroupgap\":0},\"margin\":{\"t\":60},\"shapes\":[{\"line\":{\"color\":\"Red\"},\"type\":\"line\",\"x0\":70000,\"x1\":380000,\"xref\":\"x\",\"y0\":70000,\"y1\":380000,\"yref\":\"y\"}]},                        {\"responsive\": true}                    ).then(function(){\n",
       "                            \n",
       "var gd = document.getElementById('0dfbed65-2b02-4727-a694-5d8bb7d8e424');\n",
       "var x = new MutationObserver(function (mutations, observer) {{\n",
       "        var display = window.getComputedStyle(gd).display;\n",
       "        if (!display || display === 'none') {{\n",
       "            console.log([gd, 'removed!']);\n",
       "            Plotly.purge(gd);\n",
       "            observer.disconnect();\n",
       "        }}\n",
       "}});\n",
       "\n",
       "// Listen for the removal of the full notebook cells\n",
       "var notebookContainer = gd.closest('#notebook-container');\n",
       "if (notebookContainer) {{\n",
       "    x.observe(notebookContainer, {childList: true});\n",
       "}}\n",
       "\n",
       "// Listen for the clearing of the current output cell\n",
       "var outputEl = gd.closest('.output');\n",
       "if (outputEl) {{\n",
       "    x.observe(outputEl, {childList: true});\n",
       "}}\n",
       "\n",
       "                        })                };                });            </script>        </div>"
      ]
     },
     "metadata": {},
     "output_type": "display_data"
    }
   ],
   "source": [
    "fig=px.scatter({'Actual':list(Y_test),'Predicted':list(Y_test_prediction)},\n",
    "           x='Actual',\n",
    "           y='Predicted',\n",
    "           range_x=[50_000,400_000],range_y=[50_000,400_000])\n",
    "\n",
    "fig.add_shape(type='line',\n",
    "                x0=70_000,\n",
    "                y0=70_000,\n",
    "                x1=380_000,\n",
    "                y1=380_000,\n",
    "                line=dict(color='Red',),\n",
    "                xref='x',\n",
    "                yref='y'\n",
    ")\n",
    "fig"
   ]
  },
  {
   "cell_type": "code",
   "execution_count": 28,
   "id": "d3122966",
   "metadata": {},
   "outputs": [
    {
     "data": {
      "application/vnd.plotly.v1+json": {
       "config": {
        "plotlyServerURL": "https://plot.ly"
       },
       "data": [
        {
         "hovertemplate": "Actual=%{x}<br>Predicted=%{y}<extra></extra>",
         "legendgroup": "",
         "marker": {
          "color": "#636efa",
          "symbol": "circle"
         },
         "mode": "markers",
         "name": "",
         "showlegend": false,
         "type": "scattergl",
         "x": [
          145250,
          98000,
          137000,
          164000,
          124000,
          110000,
          135960,
          155000,
          140000,
          119900,
          180500,
          129500,
          132500,
          328900,
          80000,
          155000,
          115000,
          163000,
          226700,
          174000,
          229000,
          133000,
          129500,
          165400,
          268000,
          132000,
          130500,
          276000,
          105900,
          307000,
          188000,
          206300,
          262000,
          141000,
          295493,
          202500,
          201000,
          202500,
          287090,
          186500,
          342643,
          163990,
          170000,
          175900,
          146800,
          155000,
          173000,
          163900,
          168500,
          325624,
          205000,
          204900,
          345000,
          139900,
          167500,
          149500,
          133000,
          105000,
          144000,
          125500,
          140000,
          222500,
          151000,
          129900,
          210000,
          305000,
          216837,
          319000,
          204750,
          290000,
          179500,
          138000,
          149000,
          446261,
          157900,
          180500,
          170000,
          200500,
          225000,
          147000,
          117500,
          162000,
          259000,
          220000,
          241500,
          187500,
          128500,
          176000,
          170000,
          89471,
          166000,
          143000,
          171000,
          315000,
          157500,
          165000,
          210000,
          125000,
          132000,
          261500,
          257000,
          159500,
          143000,
          127000,
          233230,
          319900,
          223000,
          144000,
          175000,
          125000,
          255000,
          175500,
          235000,
          149500,
          130000,
          142600,
          174000,
          159434,
          150000,
          122500,
          87000,
          119000,
          114500,
          262500,
          154000,
          153337,
          93000,
          189000,
          145000,
          181000,
          175500,
          145000,
          187000,
          125000,
          234000,
          119500,
          110000,
          155000,
          109000,
          197500,
          281213,
          100000,
          102000,
          161500,
          228000,
          137000,
          158000,
          230000,
          135750,
          88000,
          274300,
          141000,
          213490,
          133700,
          122000,
          147400,
          127000,
          140000,
          204000,
          152000,
          128000,
          134800,
          139400,
          220000,
          132000,
          372402,
          140000,
          125000,
          118500,
          155000,
          325000,
          174500,
          193500,
          222000,
          237000,
          155000,
          412500,
          110000,
          162900,
          187500,
          178000,
          174000,
          137500,
          392500,
          62383,
          239000,
          281000,
          180500,
          260400,
          200000,
          207500,
          115000,
          185000,
          170000,
          227875,
          179540,
          107000,
          177000,
          172500,
          194500,
          277500,
          266000,
          178000,
          110000,
          250580,
          127000,
          150500,
          140000,
          126175,
          130000,
          311500,
          144000,
          255000,
          286000,
          131500,
          167000,
          153575,
          193000,
          235000,
          141000,
          333168,
          178900,
          310000,
          181500,
          166000,
          127000,
          219210,
          190000,
          223500,
          127500,
          174000,
          137450,
          317000,
          109900,
          250000,
          91300,
          293077,
          90350,
          157000,
          257500,
          212900,
          181134,
          133000,
          157000,
          202665,
          175000,
          150000,
          132500,
          112000,
          142000,
          142000,
          148000,
          186000,
          192000,
          134000,
          187100,
          248900,
          232600,
          167900,
          106000,
          190000,
          205000,
          153000,
          174000,
          250000,
          140000,
          139000,
          169000,
          215000,
          179900,
          167900,
          214000,
          108000,
          151000,
          135000,
          176485,
          141000,
          79500,
          230000,
          160000,
          188700,
          122900,
          165000,
          245350,
          394432,
          157000,
          66500,
          175000,
          255900,
          129900,
          208500,
          106000,
          119500,
          160000,
          130000,
          236000,
          136500,
          112500,
          165150,
          119000,
          164000,
          181000,
          161500,
          127000,
          143000,
          133000,
          128000,
          138800,
          174000,
          282922,
          155000,
          139000,
          125500,
          173900,
          192500,
          177500,
          126500,
          139500,
          68400,
          231500,
          160000,
          159000,
          130500,
          113000,
          227000,
          83000,
          205000,
          180000,
          125000,
          208900,
          320000,
          200141,
          139000,
          151000,
          158900,
          120000,
          73000,
          144152,
          240000,
          154900,
          200000,
          183000,
          95000,
          121600,
          176000,
          149900,
          301000,
          202500,
          143000,
          153900,
          98600,
          90000,
          120500,
          180000,
          149300,
          230000,
          243000,
          130000,
          125000,
          120000,
          155000,
          228500,
          161750,
          181000,
          230000,
          258000,
          120500,
          151000,
          143000,
          201000,
          197000,
          123000,
          148000,
          124900,
          119000,
          171000,
          212000,
          82500,
          91000,
          128900,
          195000,
          135000,
          142500,
          148000,
          205000,
          252678,
          140000,
          113000,
          132500,
          145000,
          155000,
          112000,
          120000,
          217000,
          246578,
          230000,
          184000,
          194000,
          224500,
          167500,
          192000,
          259500,
          260000,
          153900,
          171900,
          181000,
          119750,
          150000,
          108000,
          181000,
          190000,
          306000,
          144000,
          149000,
          197500,
          99500,
          145000,
          348000,
          214500,
          159000,
          309000,
          180000,
          177500,
          193000,
          125000,
          209500,
          163000,
          187000,
          144000,
          159950,
          123000,
          120500,
          218000,
          67000,
          86000,
          97000,
          254000,
          135500,
          336000,
          143000,
          173000,
          88000,
          134000,
          164500,
          171000,
          96500,
          173000,
          124500,
          144500,
          129000,
          392000,
          115000,
          165000,
          284000,
          173000,
          263435,
          224900,
          177500,
          108000,
          314813,
          354000,
          105500,
          119000,
          110000,
          117000,
          134500,
          151500,
          139000,
          290000,
          109008,
          178000,
          206000,
          337000,
          179665,
          139400,
          148000,
          169500,
          159000,
          129000,
          124000,
          173000,
          213500,
          230000,
          185000,
          186500,
          270000,
          374000,
          193879,
          131500,
          185900,
          168500,
          119000,
          239000,
          110500,
          160000,
          197900,
          110000,
          185000,
          119500,
          127000,
          129900,
          194500,
          269500,
          315000,
          135000,
          124500,
          214000,
          167000,
          110000,
          128000,
          104900,
          127500,
          265000,
          160000,
          178740,
          154000,
          178400,
          145000,
          140000,
          235128,
          225000,
          79000,
          119900,
          277000,
          40000,
          126000,
          155000,
          192000,
          271000,
          178000,
          194000,
          168500,
          190000,
          253000,
          213250,
          163500,
          124000,
          301500,
          189000,
          128000,
          156932,
          58500,
          144000,
          110000,
          185000,
          227680,
          110000,
          345000,
          140000,
          165000,
          145500,
          194201,
          211000,
          158000,
          147000,
          325000,
          145000,
          176000,
          191000,
          130000,
          171750,
          150750,
          131400,
          214900,
          192500,
          100000,
          239799,
          185000,
          143500,
          191000,
          139000,
          172785,
          135000,
          85000,
          222500,
          117000,
          271000,
          215000,
          235000,
          274900,
          188500,
          162900,
          178000,
          245000,
          213000,
          233000,
          133000,
          116050,
          148000,
          135000,
          178000,
          197900,
          179000,
          239000,
          134450,
          139000,
          115000,
          175900,
          170000,
          136000,
          159500,
          197000,
          125000,
          116000,
          189000,
          129000,
          254900,
          134900,
          160000,
          107900,
          129500,
          112500,
          157000,
          129900,
          107000,
          244000,
          214000,
          190000,
          159895,
          118500,
          171000,
          213500,
          326000,
          114500,
          275000,
          149900,
          129000,
          87000,
          117000,
          155835,
          236500,
          116900,
          122000,
          160000,
          176000,
          245500,
          144000,
          266500,
          328000,
          193500,
          140000,
          239000,
          104900,
          214000,
          161000,
          93000,
          250000,
          108480,
          82500,
          138000,
          135000,
          135000,
          160200,
          139000,
          162000,
          137500,
          172500,
          172500,
          145000,
          94750,
          184100,
          290000,
          121000,
          147000,
          196000,
          124500,
          142125,
          167500,
          124500,
          137500,
          185000,
          133500,
          91000,
          83000,
          215200,
          148500,
          165000,
          158500,
          128500,
          148000,
          137500,
          154000,
          162000,
          169500,
          163000,
          149000,
          316600,
          141000,
          207500,
          140000,
          225000,
          165500,
          109000,
          158000,
          128500,
          131000,
          219500,
          187500,
          187750,
          154500,
          136905,
          135000,
          191000,
          165000,
          167240,
          137000,
          193000,
          172500,
          156000,
          108000,
          250000,
          184000,
          297000,
          140000,
          144500,
          207000,
          110000,
          198900,
          324000,
          187000,
          87000,
          221000,
          176000,
          395192,
          179000,
          156000,
          176000,
          118000,
          240000,
          377500,
          200000,
          236000,
          106500,
          157000,
          154000,
          158000,
          129500,
          180000,
          137500,
          188000,
          158000,
          219500,
          180000,
          143750,
          220000,
          153000,
          139000,
          185850,
          201800,
          215000,
          139000,
          260000,
          80000,
          138000,
          217500,
          152000,
          220000,
          197000,
          237500,
          135000,
          157500,
          207500,
          229456,
          130000,
          151000,
          207000,
          115000,
          210000,
          335000,
          133900,
          181000,
          212000,
          154000,
          123000,
          195400,
          135000,
          105000,
          241000,
          165000,
          279500,
          179200,
          108959,
          187500,
          135000,
          123500,
          129000,
          264561,
          239686,
          170000,
          120000,
          240000,
          122000,
          113000,
          272000,
          115000,
          190000,
          165600,
          212000,
          350000,
          131000,
          190000,
          146000,
          164000,
          175000,
          216000,
          275000,
          221000,
          131000,
          130500,
          179200,
          196000,
          143000,
          176500,
          318061,
          204000,
          134900,
          215000,
          105000,
          172400,
          149000,
          123000,
          228500,
          177000,
          171000,
          175500,
          225000,
          315000,
          269790,
          184000,
          195000,
          203000,
          221500,
          250000,
          160000,
          109900,
          153500,
          142000,
          100000,
          225000,
          194500,
          102000,
          394617,
          110000,
          155000,
          144000,
          222000,
          121500,
          187500,
          155000,
          140000,
          136500,
          227000,
          177000,
          162500,
          278000,
          118400,
          116000,
          175000,
          145000,
          178000,
          138500,
          127500,
          232000,
          91500,
          177000,
          145000,
          208300,
          116000,
          146000,
          100000,
          148800,
          275000,
          372500,
          210000,
          267000,
          227000,
          128000,
          146000,
          138887,
          290000,
          205000,
          140000,
          185000,
          226000,
          131500,
          150900,
          280000,
          311872,
          125000,
          167000,
          285000,
          145000,
          159500,
          149900,
          119000,
          136900,
          125500,
          145000,
          224900,
          133900,
          187500,
          75000,
          82000,
          107000,
          230500,
          68500,
          184000,
          172500,
          129000,
          102776,
          265900,
          234000,
          199900,
          89000,
          135000,
          140000,
          111000,
          142500,
          125500,
          262280,
          130000,
          60000,
          135000,
          132500,
          189000,
          225000,
          239900,
          325300,
          214000,
          194700,
          290000,
          100000,
          205000,
          130250,
          260000,
          313000,
          159000,
          137500,
          167000,
          339750,
          183500,
          158000,
          196000,
          140000,
          283463,
          143000,
          119000,
          190000,
          180000,
          137000,
          169990,
          168000,
          174900,
          132500,
          114504,
          202900,
          315000,
          110000,
          117000,
          192000,
          370878,
          148500,
          132000,
          176432,
          220000,
          145000,
          312500,
          128500,
          213000,
          260000,
          305900,
          135000,
          140000,
          115000,
          200000,
          119200,
          95000,
          139000,
          251000,
          148000,
          78000,
          140200,
          249700,
          196500,
          173000,
          164900,
          127000,
          176500,
          108500,
          207500,
          107400,
          155000,
          176000,
          136000,
          144900,
          152000,
          160000,
          190000,
          378500,
          183900,
          128200,
          289000,
          146500,
          118000,
          179900,
          163500,
          315750,
          134000,
          248000,
          230000,
          110000,
          83500,
          175000,
          175000,
          275000,
          189000,
          185000,
          179600,
          168000,
          115000,
          224000,
          189000,
          179400,
          142000
         ],
         "xaxis": "x",
         "y": [
          155285.671875,
          117393.2578125,
          156605.28125,
          158519.203125,
          128257.078125,
          121270.46875,
          137587.25,
          156329.78125,
          147933.671875,
          122260.7265625,
          162130.546875,
          137161.234375,
          135458.4375,
          284412.15625,
          113513.265625,
          131205.953125,
          116185.890625,
          151168.953125,
          214685.828125,
          193757.234375,
          248617.671875,
          129218.9453125,
          150007.890625,
          192941.09375,
          255657.328125,
          143477.671875,
          177288.796875,
          325023.84375,
          122998.4375,
          270078.03125,
          204708.953125,
          201136.78125,
          255051.953125,
          146007.578125,
          273094.15625,
          199262.71875,
          221220.484375,
          213436.515625,
          265704.09375,
          198056.1875,
          358694.875,
          172225.171875,
          176002.203125,
          215671.609375,
          155423.3125,
          144012.875,
          189203.203125,
          166987.71875,
          157873.40625,
          301588.15625,
          227212.75,
          221865.4375,
          343371,
          145961.5,
          157605.140625,
          168091.359375,
          129561.2734375,
          132401.078125,
          163206.953125,
          124571.328125,
          164301.453125,
          234002.796875,
          152338.4375,
          129978.25,
          139139.78125,
          305229.46875,
          256703.984375,
          291315.5,
          197698.515625,
          268715.40625,
          172461.6875,
          151025.203125,
          172792.546875,
          375747.75,
          157226.59375,
          163041.21875,
          193830.265625,
          180904.140625,
          240359.953125,
          139695.609375,
          129270.359375,
          158801.546875,
          232306.171875,
          157677.4375,
          245528.109375,
          200008.25,
          128458.4375,
          151194.546875,
          169649.515625,
          108596.8046875,
          161303.109375,
          136348.234375,
          261904.375,
          317353.78125,
          135487.171875,
          158729.9375,
          223882.71875,
          125320.3984375,
          128544.421875,
          255877.671875,
          292578.46875,
          207418.671875,
          140214.3125,
          125287.2578125,
          267496.21875,
          301216.03125,
          213926.484375,
          140440.390625,
          184096.203125,
          130410.34375,
          275697.375,
          183990.3125,
          210371.453125,
          148270.921875,
          127547.609375,
          170899.171875,
          180764.03125,
          130222.5625,
          132352.328125,
          118872.078125,
          129448.65625,
          112097.375,
          126577.4375,
          254400.578125,
          160714.453125,
          136920.34375,
          124816.140625,
          184424.8125,
          140981.796875,
          204329.671875,
          178956.65625,
          153974.921875,
          174392.453125,
          140004.671875,
          205617.765625,
          129966.609375,
          124885.515625,
          170670.015625,
          115135.078125,
          156014.5625,
          300546.90625,
          110535.8203125,
          116851.984375,
          161908.390625,
          261473.859375,
          137188.46875,
          178887.546875,
          236544.609375,
          121589.6640625,
          122067.5859375,
          238507.328125,
          135553.8125,
          202430.546875,
          128645.25,
          137302.03125,
          169268.390625,
          133098.171875,
          144801.484375,
          185263.046875,
          146546.09375,
          126251.46875,
          125587.7265625,
          133754.546875,
          225757.59375,
          128433.296875,
          289019.84375,
          149977.953125,
          130304.171875,
          120969.359375,
          150183.34375,
          305592.28125,
          166238.484375,
          192193.390625,
          210922.078125,
          216333.765625,
          143627.015625,
          374411.53125,
          112611.921875,
          143581.546875,
          218037.734375,
          167048.6875,
          192329.578125,
          137905.171875,
          257267.875,
          124787.859375,
          191684.109375,
          270541.34375,
          149946.828125,
          235687.828125,
          215181.015625,
          194076.65625,
          114567.09375,
          171530.875,
          138404.984375,
          216165.203125,
          190302.671875,
          123885.875,
          160427.015625,
          164631.90625,
          206766.9375,
          277907.15625,
          296844.21875,
          192047.8125,
          117646.2890625,
          204850.984375,
          116833.65625,
          149906.203125,
          174231.5625,
          133894.25,
          125800.703125,
          241862.15625,
          114861.0546875,
          255847.9375,
          245855.90625,
          140492.828125,
          176204.828125,
          136203.875,
          176853.3125,
          179659.4375,
          133349.140625,
          352633.28125,
          178810.859375,
          308195.65625,
          161097.078125,
          139563.203125,
          136967.265625,
          232588.078125,
          187973.125,
          215728.140625,
          136334.921875,
          214145.265625,
          153154.375,
          303654.28125,
          117301.0546875,
          287726.6875,
          105770.90625,
          272187.3125,
          107334.578125,
          146107.296875,
          221720.734375,
          232650.546875,
          200403.84375,
          130165.71875,
          152797.75,
          199023.328125,
          180775.046875,
          149775.046875,
          140392.875,
          119604.1875,
          148127.53125,
          125065.3046875,
          150598.984375,
          180689.671875,
          208443.9375,
          132381.09375,
          223113.671875,
          272584.625,
          248135.78125,
          156624.75,
          120092.2265625,
          202194.671875,
          233395.296875,
          146344.6875,
          161267.734375,
          265461.65625,
          155643.359375,
          172582.8125,
          177223.453125,
          219514.453125,
          219090.640625,
          164188.953125,
          222509.578125,
          118725.5078125,
          168356.328125,
          134641.046875,
          198731.546875,
          146298.90625,
          109707.71875,
          183077.296875,
          144453.03125,
          170146.546875,
          133775.765625,
          149555.234375,
          278467.21875,
          335375.625,
          194720.484375,
          113446.765625,
          186243.390625,
          285713.28125,
          119399.0546875,
          202946.453125,
          146846.703125,
          131998.453125,
          153249.078125,
          190585.046875,
          237360.46875,
          144482.046875,
          123139.3984375,
          164925.609375,
          158262.625,
          221545.015625,
          165740.046875,
          152588.359375,
          131572.046875,
          160237.359375,
          134178.421875,
          129439.953125,
          149368.078125,
          182852.703125,
          256695.796875,
          138284.25,
          136713.34375,
          112857,
          180196.265625,
          207595.390625,
          171791.578125,
          129895.03125,
          143087.90625,
          115026.8671875,
          217491.640625,
          145190.34375,
          153849.078125,
          139990.046875,
          114721.359375,
          265949.71875,
          116330.890625,
          213493.75,
          210032.609375,
          163450.046875,
          196160.984375,
          312283.6875,
          204552.46875,
          131952.140625,
          141524.96875,
          156376.53125,
          129533.703125,
          116737.1484375,
          169254.421875,
          250158.015625,
          119178.328125,
          222042.546875,
          198266.203125,
          109939.84375,
          107204.625,
          171138.953125,
          134960.828125,
          284185.75,
          225364.265625,
          163077.75,
          140964.421875,
          136260.15625,
          148696.75,
          127719.1328125,
          173961.25,
          146007.578125,
          272247.0625,
          227857.40625,
          129389.109375,
          133477.015625,
          145071.078125,
          156089.90625,
          209538.640625,
          148126.546875,
          204771.359375,
          195638.140625,
          276908.1875,
          123697.828125,
          169254.421875,
          153265.09375,
          179147.015625,
          199547.515625,
          125753.921875,
          141742.234375,
          138614.921875,
          142106.734375,
          154346.359375,
          236768.234375,
          189731.1875,
          113477.84375,
          130584.9765625,
          198531.359375,
          152421.84375,
          180790.71875,
          147613.1875,
          197479.234375,
          222979.71875,
          136334.921875,
          121756.015625,
          128375.2578125,
          168651.515625,
          136710.984375,
          114751.4765625,
          125928.171875,
          191039.484375,
          209207.046875,
          239520.234375,
          200736.578125,
          199907.46875,
          223761.796875,
          138377.953125,
          207894.65625,
          213535.59375,
          251834.515625,
          160655.203125,
          176620.203125,
          183227.171875,
          118701.7265625,
          148801.71875,
          119577.453125,
          171002.078125,
          208383.546875,
          280482.625,
          154497.765625,
          144252.515625,
          180518.28125,
          139266.390625,
          138873.921875,
          302405.6875,
          197833.515625,
          167741.234375,
          300726.78125,
          186595.53125,
          139063.140625,
          206914.953125,
          145521.296875,
          246549.484375,
          155378.953125,
          177201.234375,
          142632.8125,
          160767.703125,
          125811.53125,
          131545.953125,
          173523.078125,
          119823.21875,
          102714.78125,
          131506.046875,
          221800.40625,
          132359.203125,
          320750.25,
          160958.21875,
          183771.4375,
          111532.0625,
          124438.75,
          140114.40625,
          152415.890625,
          117971.65625,
          170914.328125,
          122632.7421875,
          153623.984375,
          129194.3359375,
          239569.53125,
          121712.03125,
          146063.984375,
          244660.65625,
          167587.65625,
          245591.125,
          236014.359375,
          161437.078125,
          121411.609375,
          323644.96875,
          310178.21875,
          129158.6875,
          115757.046875,
          132003.4375,
          134500.15625,
          136083.734375,
          154568.046875,
          133920.046875,
          296909.9375,
          119466.265625,
          170680.796875,
          188252.71875,
          296949.28125,
          208997.921875,
          141787.828125,
          143267.453125,
          167737.25,
          141670.453125,
          130430.09375,
          162918.828125,
          158168.453125,
          217741.171875,
          222598.09375,
          175612.109375,
          192247.46875,
          234865.765625,
          323070.03125,
          197094.359375,
          152465.34375,
          195886.25,
          152746.046875,
          112447.6953125,
          262085.921875,
          116816.28125,
          164469.171875,
          199417.390625,
          172304.984375,
          183430.8125,
          137070.015625,
          128061.234375,
          130376.0859375,
          203428.515625,
          255985.796875,
          290560.84375,
          149163.140625,
          126223.703125,
          217387.859375,
          169602.828125,
          116489.4296875,
          129715.28125,
          149519.109375,
          128878.296875,
          274582.5625,
          172830.265625,
          195822.921875,
          145736.4375,
          173153.609375,
          175468.328125,
          150525.046875,
          269136.15625,
          211038.578125,
          104077.609375,
          119323.765625,
          232710.09375,
          101888.921875,
          138104.234375,
          177033.421875,
          209596.1875,
          271952.875,
          201879.609375,
          190418.984375,
          169152.0625,
          205727.515625,
          235106.078125,
          231529.078125,
          187924.140625,
          131035,
          307991.84375,
          204074.375,
          109504.5546875,
          170733.515625,
          108950.3046875,
          144917.078125,
          167629.453125,
          174976.21875,
          217475.09375,
          121146.59375,
          323909.46875,
          148718.171875,
          174806.6875,
          143226.546875,
          200114.203125,
          188330.921875,
          179401.109375,
          152571.390625,
          320051.9375,
          153234.203125,
          165845.984375,
          211325.578125,
          113790.140625,
          195542.890625,
          148392.203125,
          132235.40625,
          217881.359375,
          218183.828125,
          110132.8671875,
          249502.78125,
          198384.625,
          150748.703125,
          195831.65625,
          135992.40625,
          190109.078125,
          129666.6015625,
          114177.6875,
          219697.234375,
          137095.859375,
          239931.765625,
          223385.03125,
          215641.390625,
          279812.0625,
          184415.25,
          183128.6875,
          166500.1875,
          260442.765625,
          215454.265625,
          235029.90625,
          145438.609375,
          123609.0546875,
          146989.96875,
          146971.953125,
          189222.078125,
          208328.015625,
          195863.859375,
          312717.90625,
          144771.421875,
          126386.84375,
          153339.828125,
          168589.734375,
          161842.171875,
          180270.296875,
          150143.296875,
          180932.421875,
          139770.78125,
          119099.8203125,
          187388.171875,
          138823.921875,
          238653.046875,
          136505.484375,
          147075.953125,
          123675.125,
          135958.828125,
          128797.03125,
          153296.765625,
          162444.328125,
          122128.71875,
          209996.515625,
          221560,
          231876.453125,
          185955,
          124035.890625,
          185837.625,
          220245.171875,
          330857.09375,
          125144.8359375,
          251155.390625,
          157548.171875,
          128110.390625,
          119426.859375,
          125764.21875,
          196212.359375,
          239530.328125,
          123265.9921875,
          159129.859375,
          159073.9375,
          188154.6875,
          220934.921875,
          136615.453125,
          250062.109375,
          260000.265625,
          194397.21875,
          165219.734375,
          239555.171875,
          115678.234375,
          223533,
          176202.4375,
          118012.28125,
          273218.28125,
          112738.09375,
          122745.9921875,
          158960.984375,
          172285.703125,
          148721.546875,
          175357.15625,
          138911.296875,
          175505.046875,
          117026.5078125,
          172533.609375,
          192781.015625,
          132415.265625,
          126259.609375,
          192659.078125,
          266447.53125,
          120436.9375,
          142511.265625,
          198145.265625,
          129767.6484375,
          139032.046875,
          178940.5625,
          143159.203125,
          138417.734375,
          198486.5,
          144337.671875,
          112634.9609375,
          114314.125,
          201688.640625,
          148559.390625,
          154808.21875,
          165849.96875,
          133818.71875,
          128668.2421875,
          190585.046875,
          133209.03125,
          145207.984375,
          149867.484375,
          156185.5,
          147565.828125,
          293302.875,
          132897.078125,
          215448.359375,
          144482.046875,
          235940.890625,
          138555.03125,
          133905.765625,
          138244.703125,
          140616.515625,
          122784.8984375,
          194172.078125,
          173735.140625,
          194113.3125,
          152702.359375,
          175328.921875,
          161807.484375,
          202960.515625,
          159002.421875,
          186271.0625,
          155720.140625,
          192688.921875,
          160542.203125,
          136478.609375,
          128997.390625,
          261376.203125,
          179350.625,
          283500.6875,
          131136.484375,
          145306.359375,
          198953.171875,
          129003.2109375,
          205289.5,
          260027.828125,
          178593.203125,
          112235.09375,
          234755.34375,
          170218.078125,
          332775.09375,
          188784.890625,
          140596.40625,
          189124.875,
          122286.046875,
          262108.234375,
          319119.6875,
          195707.46875,
          217457.4375,
          111426.734375,
          154566.484375,
          184330.921875,
          163208.140625,
          130496.25,
          183128,
          139276.390625,
          174078.421875,
          162176.234375,
          212604.609375,
          205335.796875,
          130488.890625,
          212755.546875,
          155139.203125,
          127045.046875,
          198350.046875,
          206924.0625,
          224143.390625,
          125383.0625,
          278482.09375,
          118025.703125,
          140603.921875,
          172722.875,
          169685.203125,
          229799.578125,
          205558.78125,
          199574.953125,
          126725.0625,
          183217.703125,
          195729.921875,
          222255.234375,
          139424.90625,
          147979.546875,
          195053.953125,
          130346.390625,
          224446.09375,
          310727.28125,
          132295.609375,
          182470.34375,
          198775.4375,
          135549.09375,
          132171.453125,
          189615.90625,
          129431.5234375,
          115397.140625,
          204242.453125,
          169915.265625,
          230636.75,
          162552.15625,
          141497.515625,
          210581.296875,
          127208.4921875,
          125751.953125,
          135608.21875,
          249789.546875,
          264188.84375,
          149880.265625,
          125718.625,
          245934.484375,
          126727.9140625,
          117994.8046875,
          263410.3125,
          130121.578125,
          210578.296875,
          161062.109375,
          219777,
          325464.40625,
          163137.015625,
          216475.578125,
          149008.515625,
          158744.796875,
          164597.015625,
          201095.140625,
          221282.703125,
          220602.984375,
          136300.109375,
          136761.453125,
          191337.015625,
          174731.203125,
          145299.546875,
          167276.4375,
          319642.21875,
          214256.734375,
          138131.46875,
          214888.75,
          125831,
          182291.15625,
          129721.1171875,
          125081.5234375,
          275495.375,
          151200.359375,
          152226.109375,
          169500.546875,
          169187.203125,
          332394.15625,
          225114.265625,
          204419.234375,
          224124.328125,
          211906.859375,
          242644.921875,
          235365.046875,
          115729.3125,
          124062.359375,
          132581.5625,
          138484.421875,
          123456.8515625,
          231047.890625,
          196889.609375,
          119513.2265625,
          311770.53125,
          126231.734375,
          179347.171875,
          136099.203125,
          246480.578125,
          162069.671875,
          198994.46875,
          191695.15625,
          132528.265625,
          153691.0625,
          216811.234375,
          178084.90625,
          168582.890625,
          244219.484375,
          125368.09375,
          115122.9921875,
          164100.453125,
          141492.546875,
          183488.359375,
          129045.4921875,
          126433.109375,
          236923.96875,
          124863.9921875,
          168572.734375,
          140491.0625,
          180454.625,
          110743.5390625,
          179957.53125,
          120402.8046875,
          162827.953125,
          284779.28125,
          326107.09375,
          209285.703125,
          296809.375,
          222194.359375,
          145783.046875,
          143737.421875,
          146690.765625,
          288021.59375,
          174293.859375,
          135509.453125,
          174512.640625,
          214102.15625,
          144482.046875,
          201184.984375,
          252707.40625,
          248487.953125,
          126428.4375,
          160366.890625,
          293834.4375,
          159378.3125,
          136813.71875,
          129338.4765625,
          133780.203125,
          167450.984375,
          116900.109375,
          159235.046875,
          205893.671875,
          222220.390625,
          174690.484375,
          118569.890625,
          113813.03125,
          152446.859375,
          262149.3125,
          107516.609375,
          167539.4375,
          220282.140625,
          126619.3828125,
          102968.015625,
          242473.359375,
          242632.546875,
          216888.828125,
          105161.7890625,
          132338.765625,
          150656.015625,
          117610.6328125,
          140737.609375,
          122321.65625,
          260097.515625,
          131054.7421875,
          140812.484375,
          121030.859375,
          139088.4375,
          193079.671875,
          222908.140625,
          245944.609375,
          310795.28125,
          221653.125,
          180260.046875,
          308262.53125,
          131063.890625,
          200126.015625,
          132488.453125,
          295206.59375,
          312940.84375,
          169627.046875,
          162542.15625,
          166839.5,
          272863.84375,
          201826.125,
          138755.171875,
          184893.828125,
          141140.984375,
          293314.40625,
          139975,
          105184.1796875,
          186043.8125,
          168365.0625,
          135846.109375,
          185302.3125,
          173500.984375,
          141330.390625,
          130517.7890625,
          127639.2265625,
          250840.90625,
          348170.78125,
          119351.1640625,
          123719.5,
          208838.140625,
          302788.40625,
          147779.953125,
          132208.671875,
          182829.671875,
          231489.234375,
          126035.90625,
          294810.71875,
          131921.609375,
          191282.640625,
          232797.109375,
          318069.03125,
          134538.640625,
          147540.8125,
          140013.078125,
          212045.5,
          140395.171875,
          118493.171875,
          137011.375,
          243625.890625,
          145712.625,
          111709.5390625,
          141969.734375,
          268282.71875,
          212578.765625,
          184062.265625,
          155666.953125,
          136793.890625,
          198171.75,
          111343.53125,
          192886.296875,
          108646.8125,
          165313.25,
          181631.390625,
          139744.90625,
          136810.375,
          157970.984375,
          157838.265625,
          188441.25,
          346455.03125,
          172309.609375,
          133304.5625,
          241046.359375,
          145870.78125,
          126851.90625,
          147604.359375,
          143882.953125,
          279489.25,
          155016.515625,
          270559.09375,
          204445.140625,
          137822.421875,
          124518.6796875,
          128219.1796875,
          140596.828125,
          250753.484375,
          206306.3125,
          163552.984375,
          207955.1875,
          153387.171875,
          125394.859375,
          201199.265625,
          187241.375,
          173371.40625,
          144293.90625
         ],
         "yaxis": "y"
        }
       ],
       "layout": {
        "legend": {
         "tracegroupgap": 0
        },
        "margin": {
         "t": 60
        },
        "shapes": [
         {
          "line": {
           "color": "Red"
          },
          "type": "line",
          "x0": 70000,
          "x1": 380000,
          "xref": "x",
          "y0": 70000,
          "y1": 380000,
          "yref": "y"
         }
        ],
        "template": {
         "data": {
          "bar": [
           {
            "error_x": {
             "color": "#2a3f5f"
            },
            "error_y": {
             "color": "#2a3f5f"
            },
            "marker": {
             "line": {
              "color": "#E5ECF6",
              "width": 0.5
             },
             "pattern": {
              "fillmode": "overlay",
              "size": 10,
              "solidity": 0.2
             }
            },
            "type": "bar"
           }
          ],
          "barpolar": [
           {
            "marker": {
             "line": {
              "color": "#E5ECF6",
              "width": 0.5
             },
             "pattern": {
              "fillmode": "overlay",
              "size": 10,
              "solidity": 0.2
             }
            },
            "type": "barpolar"
           }
          ],
          "carpet": [
           {
            "aaxis": {
             "endlinecolor": "#2a3f5f",
             "gridcolor": "white",
             "linecolor": "white",
             "minorgridcolor": "white",
             "startlinecolor": "#2a3f5f"
            },
            "baxis": {
             "endlinecolor": "#2a3f5f",
             "gridcolor": "white",
             "linecolor": "white",
             "minorgridcolor": "white",
             "startlinecolor": "#2a3f5f"
            },
            "type": "carpet"
           }
          ],
          "choropleth": [
           {
            "colorbar": {
             "outlinewidth": 0,
             "ticks": ""
            },
            "type": "choropleth"
           }
          ],
          "contour": [
           {
            "colorbar": {
             "outlinewidth": 0,
             "ticks": ""
            },
            "colorscale": [
             [
              0,
              "#0d0887"
             ],
             [
              0.1111111111111111,
              "#46039f"
             ],
             [
              0.2222222222222222,
              "#7201a8"
             ],
             [
              0.3333333333333333,
              "#9c179e"
             ],
             [
              0.4444444444444444,
              "#bd3786"
             ],
             [
              0.5555555555555556,
              "#d8576b"
             ],
             [
              0.6666666666666666,
              "#ed7953"
             ],
             [
              0.7777777777777778,
              "#fb9f3a"
             ],
             [
              0.8888888888888888,
              "#fdca26"
             ],
             [
              1,
              "#f0f921"
             ]
            ],
            "type": "contour"
           }
          ],
          "contourcarpet": [
           {
            "colorbar": {
             "outlinewidth": 0,
             "ticks": ""
            },
            "type": "contourcarpet"
           }
          ],
          "heatmap": [
           {
            "colorbar": {
             "outlinewidth": 0,
             "ticks": ""
            },
            "colorscale": [
             [
              0,
              "#0d0887"
             ],
             [
              0.1111111111111111,
              "#46039f"
             ],
             [
              0.2222222222222222,
              "#7201a8"
             ],
             [
              0.3333333333333333,
              "#9c179e"
             ],
             [
              0.4444444444444444,
              "#bd3786"
             ],
             [
              0.5555555555555556,
              "#d8576b"
             ],
             [
              0.6666666666666666,
              "#ed7953"
             ],
             [
              0.7777777777777778,
              "#fb9f3a"
             ],
             [
              0.8888888888888888,
              "#fdca26"
             ],
             [
              1,
              "#f0f921"
             ]
            ],
            "type": "heatmap"
           }
          ],
          "heatmapgl": [
           {
            "colorbar": {
             "outlinewidth": 0,
             "ticks": ""
            },
            "colorscale": [
             [
              0,
              "#0d0887"
             ],
             [
              0.1111111111111111,
              "#46039f"
             ],
             [
              0.2222222222222222,
              "#7201a8"
             ],
             [
              0.3333333333333333,
              "#9c179e"
             ],
             [
              0.4444444444444444,
              "#bd3786"
             ],
             [
              0.5555555555555556,
              "#d8576b"
             ],
             [
              0.6666666666666666,
              "#ed7953"
             ],
             [
              0.7777777777777778,
              "#fb9f3a"
             ],
             [
              0.8888888888888888,
              "#fdca26"
             ],
             [
              1,
              "#f0f921"
             ]
            ],
            "type": "heatmapgl"
           }
          ],
          "histogram": [
           {
            "marker": {
             "pattern": {
              "fillmode": "overlay",
              "size": 10,
              "solidity": 0.2
             }
            },
            "type": "histogram"
           }
          ],
          "histogram2d": [
           {
            "colorbar": {
             "outlinewidth": 0,
             "ticks": ""
            },
            "colorscale": [
             [
              0,
              "#0d0887"
             ],
             [
              0.1111111111111111,
              "#46039f"
             ],
             [
              0.2222222222222222,
              "#7201a8"
             ],
             [
              0.3333333333333333,
              "#9c179e"
             ],
             [
              0.4444444444444444,
              "#bd3786"
             ],
             [
              0.5555555555555556,
              "#d8576b"
             ],
             [
              0.6666666666666666,
              "#ed7953"
             ],
             [
              0.7777777777777778,
              "#fb9f3a"
             ],
             [
              0.8888888888888888,
              "#fdca26"
             ],
             [
              1,
              "#f0f921"
             ]
            ],
            "type": "histogram2d"
           }
          ],
          "histogram2dcontour": [
           {
            "colorbar": {
             "outlinewidth": 0,
             "ticks": ""
            },
            "colorscale": [
             [
              0,
              "#0d0887"
             ],
             [
              0.1111111111111111,
              "#46039f"
             ],
             [
              0.2222222222222222,
              "#7201a8"
             ],
             [
              0.3333333333333333,
              "#9c179e"
             ],
             [
              0.4444444444444444,
              "#bd3786"
             ],
             [
              0.5555555555555556,
              "#d8576b"
             ],
             [
              0.6666666666666666,
              "#ed7953"
             ],
             [
              0.7777777777777778,
              "#fb9f3a"
             ],
             [
              0.8888888888888888,
              "#fdca26"
             ],
             [
              1,
              "#f0f921"
             ]
            ],
            "type": "histogram2dcontour"
           }
          ],
          "mesh3d": [
           {
            "colorbar": {
             "outlinewidth": 0,
             "ticks": ""
            },
            "type": "mesh3d"
           }
          ],
          "parcoords": [
           {
            "line": {
             "colorbar": {
              "outlinewidth": 0,
              "ticks": ""
             }
            },
            "type": "parcoords"
           }
          ],
          "pie": [
           {
            "automargin": true,
            "type": "pie"
           }
          ],
          "scatter": [
           {
            "fillpattern": {
             "fillmode": "overlay",
             "size": 10,
             "solidity": 0.2
            },
            "type": "scatter"
           }
          ],
          "scatter3d": [
           {
            "line": {
             "colorbar": {
              "outlinewidth": 0,
              "ticks": ""
             }
            },
            "marker": {
             "colorbar": {
              "outlinewidth": 0,
              "ticks": ""
             }
            },
            "type": "scatter3d"
           }
          ],
          "scattercarpet": [
           {
            "marker": {
             "colorbar": {
              "outlinewidth": 0,
              "ticks": ""
             }
            },
            "type": "scattercarpet"
           }
          ],
          "scattergeo": [
           {
            "marker": {
             "colorbar": {
              "outlinewidth": 0,
              "ticks": ""
             }
            },
            "type": "scattergeo"
           }
          ],
          "scattergl": [
           {
            "marker": {
             "colorbar": {
              "outlinewidth": 0,
              "ticks": ""
             }
            },
            "type": "scattergl"
           }
          ],
          "scattermapbox": [
           {
            "marker": {
             "colorbar": {
              "outlinewidth": 0,
              "ticks": ""
             }
            },
            "type": "scattermapbox"
           }
          ],
          "scatterpolar": [
           {
            "marker": {
             "colorbar": {
              "outlinewidth": 0,
              "ticks": ""
             }
            },
            "type": "scatterpolar"
           }
          ],
          "scatterpolargl": [
           {
            "marker": {
             "colorbar": {
              "outlinewidth": 0,
              "ticks": ""
             }
            },
            "type": "scatterpolargl"
           }
          ],
          "scatterternary": [
           {
            "marker": {
             "colorbar": {
              "outlinewidth": 0,
              "ticks": ""
             }
            },
            "type": "scatterternary"
           }
          ],
          "surface": [
           {
            "colorbar": {
             "outlinewidth": 0,
             "ticks": ""
            },
            "colorscale": [
             [
              0,
              "#0d0887"
             ],
             [
              0.1111111111111111,
              "#46039f"
             ],
             [
              0.2222222222222222,
              "#7201a8"
             ],
             [
              0.3333333333333333,
              "#9c179e"
             ],
             [
              0.4444444444444444,
              "#bd3786"
             ],
             [
              0.5555555555555556,
              "#d8576b"
             ],
             [
              0.6666666666666666,
              "#ed7953"
             ],
             [
              0.7777777777777778,
              "#fb9f3a"
             ],
             [
              0.8888888888888888,
              "#fdca26"
             ],
             [
              1,
              "#f0f921"
             ]
            ],
            "type": "surface"
           }
          ],
          "table": [
           {
            "cells": {
             "fill": {
              "color": "#EBF0F8"
             },
             "line": {
              "color": "white"
             }
            },
            "header": {
             "fill": {
              "color": "#C8D4E3"
             },
             "line": {
              "color": "white"
             }
            },
            "type": "table"
           }
          ]
         },
         "layout": {
          "annotationdefaults": {
           "arrowcolor": "#2a3f5f",
           "arrowhead": 0,
           "arrowwidth": 1
          },
          "autotypenumbers": "strict",
          "coloraxis": {
           "colorbar": {
            "outlinewidth": 0,
            "ticks": ""
           }
          },
          "colorscale": {
           "diverging": [
            [
             0,
             "#8e0152"
            ],
            [
             0.1,
             "#c51b7d"
            ],
            [
             0.2,
             "#de77ae"
            ],
            [
             0.3,
             "#f1b6da"
            ],
            [
             0.4,
             "#fde0ef"
            ],
            [
             0.5,
             "#f7f7f7"
            ],
            [
             0.6,
             "#e6f5d0"
            ],
            [
             0.7,
             "#b8e186"
            ],
            [
             0.8,
             "#7fbc41"
            ],
            [
             0.9,
             "#4d9221"
            ],
            [
             1,
             "#276419"
            ]
           ],
           "sequential": [
            [
             0,
             "#0d0887"
            ],
            [
             0.1111111111111111,
             "#46039f"
            ],
            [
             0.2222222222222222,
             "#7201a8"
            ],
            [
             0.3333333333333333,
             "#9c179e"
            ],
            [
             0.4444444444444444,
             "#bd3786"
            ],
            [
             0.5555555555555556,
             "#d8576b"
            ],
            [
             0.6666666666666666,
             "#ed7953"
            ],
            [
             0.7777777777777778,
             "#fb9f3a"
            ],
            [
             0.8888888888888888,
             "#fdca26"
            ],
            [
             1,
             "#f0f921"
            ]
           ],
           "sequentialminus": [
            [
             0,
             "#0d0887"
            ],
            [
             0.1111111111111111,
             "#46039f"
            ],
            [
             0.2222222222222222,
             "#7201a8"
            ],
            [
             0.3333333333333333,
             "#9c179e"
            ],
            [
             0.4444444444444444,
             "#bd3786"
            ],
            [
             0.5555555555555556,
             "#d8576b"
            ],
            [
             0.6666666666666666,
             "#ed7953"
            ],
            [
             0.7777777777777778,
             "#fb9f3a"
            ],
            [
             0.8888888888888888,
             "#fdca26"
            ],
            [
             1,
             "#f0f921"
            ]
           ]
          },
          "colorway": [
           "#636efa",
           "#EF553B",
           "#00cc96",
           "#ab63fa",
           "#FFA15A",
           "#19d3f3",
           "#FF6692",
           "#B6E880",
           "#FF97FF",
           "#FECB52"
          ],
          "font": {
           "color": "#2a3f5f"
          },
          "geo": {
           "bgcolor": "white",
           "lakecolor": "white",
           "landcolor": "#E5ECF6",
           "showlakes": true,
           "showland": true,
           "subunitcolor": "white"
          },
          "hoverlabel": {
           "align": "left"
          },
          "hovermode": "closest",
          "mapbox": {
           "style": "light"
          },
          "paper_bgcolor": "white",
          "plot_bgcolor": "#E5ECF6",
          "polar": {
           "angularaxis": {
            "gridcolor": "white",
            "linecolor": "white",
            "ticks": ""
           },
           "bgcolor": "#E5ECF6",
           "radialaxis": {
            "gridcolor": "white",
            "linecolor": "white",
            "ticks": ""
           }
          },
          "scene": {
           "xaxis": {
            "backgroundcolor": "#E5ECF6",
            "gridcolor": "white",
            "gridwidth": 2,
            "linecolor": "white",
            "showbackground": true,
            "ticks": "",
            "zerolinecolor": "white"
           },
           "yaxis": {
            "backgroundcolor": "#E5ECF6",
            "gridcolor": "white",
            "gridwidth": 2,
            "linecolor": "white",
            "showbackground": true,
            "ticks": "",
            "zerolinecolor": "white"
           },
           "zaxis": {
            "backgroundcolor": "#E5ECF6",
            "gridcolor": "white",
            "gridwidth": 2,
            "linecolor": "white",
            "showbackground": true,
            "ticks": "",
            "zerolinecolor": "white"
           }
          },
          "shapedefaults": {
           "line": {
            "color": "#2a3f5f"
           }
          },
          "ternary": {
           "aaxis": {
            "gridcolor": "white",
            "linecolor": "white",
            "ticks": ""
           },
           "baxis": {
            "gridcolor": "white",
            "linecolor": "white",
            "ticks": ""
           },
           "bgcolor": "#E5ECF6",
           "caxis": {
            "gridcolor": "white",
            "linecolor": "white",
            "ticks": ""
           }
          },
          "title": {
           "x": 0.05
          },
          "xaxis": {
           "automargin": true,
           "gridcolor": "white",
           "linecolor": "white",
           "ticks": "",
           "title": {
            "standoff": 15
           },
           "zerolinecolor": "white",
           "zerolinewidth": 2
          },
          "yaxis": {
           "automargin": true,
           "gridcolor": "white",
           "linecolor": "white",
           "ticks": "",
           "title": {
            "standoff": 15
           },
           "zerolinecolor": "white",
           "zerolinewidth": 2
          }
         }
        },
        "xaxis": {
         "anchor": "y",
         "domain": [
          0,
          1
         ],
         "range": [
          50000,
          400000
         ],
         "title": {
          "text": "Actual"
         }
        },
        "yaxis": {
         "anchor": "x",
         "domain": [
          0,
          1
         ],
         "range": [
          50000,
          400000
         ],
         "title": {
          "text": "Predicted"
         }
        }
       }
      },
      "text/html": [
       "<div>                            <div id=\"2a29a76a-2741-46bc-a6c7-fb440d45a308\" class=\"plotly-graph-div\" style=\"height:525px; width:100%;\"></div>            <script type=\"text/javascript\">                require([\"plotly\"], function(Plotly) {                    window.PLOTLYENV=window.PLOTLYENV || {};                                    if (document.getElementById(\"2a29a76a-2741-46bc-a6c7-fb440d45a308\")) {                    Plotly.newPlot(                        \"2a29a76a-2741-46bc-a6c7-fb440d45a308\",                        [{\"hovertemplate\":\"Actual=%{x}<br>Predicted=%{y}<extra></extra>\",\"legendgroup\":\"\",\"marker\":{\"color\":\"#636efa\",\"symbol\":\"circle\"},\"mode\":\"markers\",\"name\":\"\",\"showlegend\":false,\"x\":[145250,98000,137000,164000,124000,110000,135960,155000,140000,119900,180500,129500,132500,328900,80000,155000,115000,163000,226700,174000,229000,133000,129500,165400,268000,132000,130500,276000,105900,307000,188000,206300,262000,141000,295493,202500,201000,202500,287090,186500,342643,163990,170000,175900,146800,155000,173000,163900,168500,325624,205000,204900,345000,139900,167500,149500,133000,105000,144000,125500,140000,222500,151000,129900,210000,305000,216837,319000,204750,290000,179500,138000,149000,446261,157900,180500,170000,200500,225000,147000,117500,162000,259000,220000,241500,187500,128500,176000,170000,89471,166000,143000,171000,315000,157500,165000,210000,125000,132000,261500,257000,159500,143000,127000,233230,319900,223000,144000,175000,125000,255000,175500,235000,149500,130000,142600,174000,159434,150000,122500,87000,119000,114500,262500,154000,153337,93000,189000,145000,181000,175500,145000,187000,125000,234000,119500,110000,155000,109000,197500,281213,100000,102000,161500,228000,137000,158000,230000,135750,88000,274300,141000,213490,133700,122000,147400,127000,140000,204000,152000,128000,134800,139400,220000,132000,372402,140000,125000,118500,155000,325000,174500,193500,222000,237000,155000,412500,110000,162900,187500,178000,174000,137500,392500,62383,239000,281000,180500,260400,200000,207500,115000,185000,170000,227875,179540,107000,177000,172500,194500,277500,266000,178000,110000,250580,127000,150500,140000,126175,130000,311500,144000,255000,286000,131500,167000,153575,193000,235000,141000,333168,178900,310000,181500,166000,127000,219210,190000,223500,127500,174000,137450,317000,109900,250000,91300,293077,90350,157000,257500,212900,181134,133000,157000,202665,175000,150000,132500,112000,142000,142000,148000,186000,192000,134000,187100,248900,232600,167900,106000,190000,205000,153000,174000,250000,140000,139000,169000,215000,179900,167900,214000,108000,151000,135000,176485,141000,79500,230000,160000,188700,122900,165000,245350,394432,157000,66500,175000,255900,129900,208500,106000,119500,160000,130000,236000,136500,112500,165150,119000,164000,181000,161500,127000,143000,133000,128000,138800,174000,282922,155000,139000,125500,173900,192500,177500,126500,139500,68400,231500,160000,159000,130500,113000,227000,83000,205000,180000,125000,208900,320000,200141,139000,151000,158900,120000,73000,144152,240000,154900,200000,183000,95000,121600,176000,149900,301000,202500,143000,153900,98600,90000,120500,180000,149300,230000,243000,130000,125000,120000,155000,228500,161750,181000,230000,258000,120500,151000,143000,201000,197000,123000,148000,124900,119000,171000,212000,82500,91000,128900,195000,135000,142500,148000,205000,252678,140000,113000,132500,145000,155000,112000,120000,217000,246578,230000,184000,194000,224500,167500,192000,259500,260000,153900,171900,181000,119750,150000,108000,181000,190000,306000,144000,149000,197500,99500,145000,348000,214500,159000,309000,180000,177500,193000,125000,209500,163000,187000,144000,159950,123000,120500,218000,67000,86000,97000,254000,135500,336000,143000,173000,88000,134000,164500,171000,96500,173000,124500,144500,129000,392000,115000,165000,284000,173000,263435,224900,177500,108000,314813,354000,105500,119000,110000,117000,134500,151500,139000,290000,109008,178000,206000,337000,179665,139400,148000,169500,159000,129000,124000,173000,213500,230000,185000,186500,270000,374000,193879,131500,185900,168500,119000,239000,110500,160000,197900,110000,185000,119500,127000,129900,194500,269500,315000,135000,124500,214000,167000,110000,128000,104900,127500,265000,160000,178740,154000,178400,145000,140000,235128,225000,79000,119900,277000,40000,126000,155000,192000,271000,178000,194000,168500,190000,253000,213250,163500,124000,301500,189000,128000,156932,58500,144000,110000,185000,227680,110000,345000,140000,165000,145500,194201,211000,158000,147000,325000,145000,176000,191000,130000,171750,150750,131400,214900,192500,100000,239799,185000,143500,191000,139000,172785,135000,85000,222500,117000,271000,215000,235000,274900,188500,162900,178000,245000,213000,233000,133000,116050,148000,135000,178000,197900,179000,239000,134450,139000,115000,175900,170000,136000,159500,197000,125000,116000,189000,129000,254900,134900,160000,107900,129500,112500,157000,129900,107000,244000,214000,190000,159895,118500,171000,213500,326000,114500,275000,149900,129000,87000,117000,155835,236500,116900,122000,160000,176000,245500,144000,266500,328000,193500,140000,239000,104900,214000,161000,93000,250000,108480,82500,138000,135000,135000,160200,139000,162000,137500,172500,172500,145000,94750,184100,290000,121000,147000,196000,124500,142125,167500,124500,137500,185000,133500,91000,83000,215200,148500,165000,158500,128500,148000,137500,154000,162000,169500,163000,149000,316600,141000,207500,140000,225000,165500,109000,158000,128500,131000,219500,187500,187750,154500,136905,135000,191000,165000,167240,137000,193000,172500,156000,108000,250000,184000,297000,140000,144500,207000,110000,198900,324000,187000,87000,221000,176000,395192,179000,156000,176000,118000,240000,377500,200000,236000,106500,157000,154000,158000,129500,180000,137500,188000,158000,219500,180000,143750,220000,153000,139000,185850,201800,215000,139000,260000,80000,138000,217500,152000,220000,197000,237500,135000,157500,207500,229456,130000,151000,207000,115000,210000,335000,133900,181000,212000,154000,123000,195400,135000,105000,241000,165000,279500,179200,108959,187500,135000,123500,129000,264561,239686,170000,120000,240000,122000,113000,272000,115000,190000,165600,212000,350000,131000,190000,146000,164000,175000,216000,275000,221000,131000,130500,179200,196000,143000,176500,318061,204000,134900,215000,105000,172400,149000,123000,228500,177000,171000,175500,225000,315000,269790,184000,195000,203000,221500,250000,160000,109900,153500,142000,100000,225000,194500,102000,394617,110000,155000,144000,222000,121500,187500,155000,140000,136500,227000,177000,162500,278000,118400,116000,175000,145000,178000,138500,127500,232000,91500,177000,145000,208300,116000,146000,100000,148800,275000,372500,210000,267000,227000,128000,146000,138887,290000,205000,140000,185000,226000,131500,150900,280000,311872,125000,167000,285000,145000,159500,149900,119000,136900,125500,145000,224900,133900,187500,75000,82000,107000,230500,68500,184000,172500,129000,102776,265900,234000,199900,89000,135000,140000,111000,142500,125500,262280,130000,60000,135000,132500,189000,225000,239900,325300,214000,194700,290000,100000,205000,130250,260000,313000,159000,137500,167000,339750,183500,158000,196000,140000,283463,143000,119000,190000,180000,137000,169990,168000,174900,132500,114504,202900,315000,110000,117000,192000,370878,148500,132000,176432,220000,145000,312500,128500,213000,260000,305900,135000,140000,115000,200000,119200,95000,139000,251000,148000,78000,140200,249700,196500,173000,164900,127000,176500,108500,207500,107400,155000,176000,136000,144900,152000,160000,190000,378500,183900,128200,289000,146500,118000,179900,163500,315750,134000,248000,230000,110000,83500,175000,175000,275000,189000,185000,179600,168000,115000,224000,189000,179400,142000],\"xaxis\":\"x\",\"y\":[155285.671875,117393.2578125,156605.28125,158519.203125,128257.078125,121270.46875,137587.25,156329.78125,147933.671875,122260.7265625,162130.546875,137161.234375,135458.4375,284412.15625,113513.265625,131205.953125,116185.890625,151168.953125,214685.828125,193757.234375,248617.671875,129218.9453125,150007.890625,192941.09375,255657.328125,143477.671875,177288.796875,325023.84375,122998.4375,270078.03125,204708.953125,201136.78125,255051.953125,146007.578125,273094.15625,199262.71875,221220.484375,213436.515625,265704.09375,198056.1875,358694.875,172225.171875,176002.203125,215671.609375,155423.3125,144012.875,189203.203125,166987.71875,157873.40625,301588.15625,227212.75,221865.4375,343371.0,145961.5,157605.140625,168091.359375,129561.2734375,132401.078125,163206.953125,124571.328125,164301.453125,234002.796875,152338.4375,129978.25,139139.78125,305229.46875,256703.984375,291315.5,197698.515625,268715.40625,172461.6875,151025.203125,172792.546875,375747.75,157226.59375,163041.21875,193830.265625,180904.140625,240359.953125,139695.609375,129270.359375,158801.546875,232306.171875,157677.4375,245528.109375,200008.25,128458.4375,151194.546875,169649.515625,108596.8046875,161303.109375,136348.234375,261904.375,317353.78125,135487.171875,158729.9375,223882.71875,125320.3984375,128544.421875,255877.671875,292578.46875,207418.671875,140214.3125,125287.2578125,267496.21875,301216.03125,213926.484375,140440.390625,184096.203125,130410.34375,275697.375,183990.3125,210371.453125,148270.921875,127547.609375,170899.171875,180764.03125,130222.5625,132352.328125,118872.078125,129448.65625,112097.375,126577.4375,254400.578125,160714.453125,136920.34375,124816.140625,184424.8125,140981.796875,204329.671875,178956.65625,153974.921875,174392.453125,140004.671875,205617.765625,129966.609375,124885.515625,170670.015625,115135.078125,156014.5625,300546.90625,110535.8203125,116851.984375,161908.390625,261473.859375,137188.46875,178887.546875,236544.609375,121589.6640625,122067.5859375,238507.328125,135553.8125,202430.546875,128645.25,137302.03125,169268.390625,133098.171875,144801.484375,185263.046875,146546.09375,126251.46875,125587.7265625,133754.546875,225757.59375,128433.296875,289019.84375,149977.953125,130304.171875,120969.359375,150183.34375,305592.28125,166238.484375,192193.390625,210922.078125,216333.765625,143627.015625,374411.53125,112611.921875,143581.546875,218037.734375,167048.6875,192329.578125,137905.171875,257267.875,124787.859375,191684.109375,270541.34375,149946.828125,235687.828125,215181.015625,194076.65625,114567.09375,171530.875,138404.984375,216165.203125,190302.671875,123885.875,160427.015625,164631.90625,206766.9375,277907.15625,296844.21875,192047.8125,117646.2890625,204850.984375,116833.65625,149906.203125,174231.5625,133894.25,125800.703125,241862.15625,114861.0546875,255847.9375,245855.90625,140492.828125,176204.828125,136203.875,176853.3125,179659.4375,133349.140625,352633.28125,178810.859375,308195.65625,161097.078125,139563.203125,136967.265625,232588.078125,187973.125,215728.140625,136334.921875,214145.265625,153154.375,303654.28125,117301.0546875,287726.6875,105770.90625,272187.3125,107334.578125,146107.296875,221720.734375,232650.546875,200403.84375,130165.71875,152797.75,199023.328125,180775.046875,149775.046875,140392.875,119604.1875,148127.53125,125065.3046875,150598.984375,180689.671875,208443.9375,132381.09375,223113.671875,272584.625,248135.78125,156624.75,120092.2265625,202194.671875,233395.296875,146344.6875,161267.734375,265461.65625,155643.359375,172582.8125,177223.453125,219514.453125,219090.640625,164188.953125,222509.578125,118725.5078125,168356.328125,134641.046875,198731.546875,146298.90625,109707.71875,183077.296875,144453.03125,170146.546875,133775.765625,149555.234375,278467.21875,335375.625,194720.484375,113446.765625,186243.390625,285713.28125,119399.0546875,202946.453125,146846.703125,131998.453125,153249.078125,190585.046875,237360.46875,144482.046875,123139.3984375,164925.609375,158262.625,221545.015625,165740.046875,152588.359375,131572.046875,160237.359375,134178.421875,129439.953125,149368.078125,182852.703125,256695.796875,138284.25,136713.34375,112857.0,180196.265625,207595.390625,171791.578125,129895.03125,143087.90625,115026.8671875,217491.640625,145190.34375,153849.078125,139990.046875,114721.359375,265949.71875,116330.890625,213493.75,210032.609375,163450.046875,196160.984375,312283.6875,204552.46875,131952.140625,141524.96875,156376.53125,129533.703125,116737.1484375,169254.421875,250158.015625,119178.328125,222042.546875,198266.203125,109939.84375,107204.625,171138.953125,134960.828125,284185.75,225364.265625,163077.75,140964.421875,136260.15625,148696.75,127719.1328125,173961.25,146007.578125,272247.0625,227857.40625,129389.109375,133477.015625,145071.078125,156089.90625,209538.640625,148126.546875,204771.359375,195638.140625,276908.1875,123697.828125,169254.421875,153265.09375,179147.015625,199547.515625,125753.921875,141742.234375,138614.921875,142106.734375,154346.359375,236768.234375,189731.1875,113477.84375,130584.9765625,198531.359375,152421.84375,180790.71875,147613.1875,197479.234375,222979.71875,136334.921875,121756.015625,128375.2578125,168651.515625,136710.984375,114751.4765625,125928.171875,191039.484375,209207.046875,239520.234375,200736.578125,199907.46875,223761.796875,138377.953125,207894.65625,213535.59375,251834.515625,160655.203125,176620.203125,183227.171875,118701.7265625,148801.71875,119577.453125,171002.078125,208383.546875,280482.625,154497.765625,144252.515625,180518.28125,139266.390625,138873.921875,302405.6875,197833.515625,167741.234375,300726.78125,186595.53125,139063.140625,206914.953125,145521.296875,246549.484375,155378.953125,177201.234375,142632.8125,160767.703125,125811.53125,131545.953125,173523.078125,119823.21875,102714.78125,131506.046875,221800.40625,132359.203125,320750.25,160958.21875,183771.4375,111532.0625,124438.75,140114.40625,152415.890625,117971.65625,170914.328125,122632.7421875,153623.984375,129194.3359375,239569.53125,121712.03125,146063.984375,244660.65625,167587.65625,245591.125,236014.359375,161437.078125,121411.609375,323644.96875,310178.21875,129158.6875,115757.046875,132003.4375,134500.15625,136083.734375,154568.046875,133920.046875,296909.9375,119466.265625,170680.796875,188252.71875,296949.28125,208997.921875,141787.828125,143267.453125,167737.25,141670.453125,130430.09375,162918.828125,158168.453125,217741.171875,222598.09375,175612.109375,192247.46875,234865.765625,323070.03125,197094.359375,152465.34375,195886.25,152746.046875,112447.6953125,262085.921875,116816.28125,164469.171875,199417.390625,172304.984375,183430.8125,137070.015625,128061.234375,130376.0859375,203428.515625,255985.796875,290560.84375,149163.140625,126223.703125,217387.859375,169602.828125,116489.4296875,129715.28125,149519.109375,128878.296875,274582.5625,172830.265625,195822.921875,145736.4375,173153.609375,175468.328125,150525.046875,269136.15625,211038.578125,104077.609375,119323.765625,232710.09375,101888.921875,138104.234375,177033.421875,209596.1875,271952.875,201879.609375,190418.984375,169152.0625,205727.515625,235106.078125,231529.078125,187924.140625,131035.0,307991.84375,204074.375,109504.5546875,170733.515625,108950.3046875,144917.078125,167629.453125,174976.21875,217475.09375,121146.59375,323909.46875,148718.171875,174806.6875,143226.546875,200114.203125,188330.921875,179401.109375,152571.390625,320051.9375,153234.203125,165845.984375,211325.578125,113790.140625,195542.890625,148392.203125,132235.40625,217881.359375,218183.828125,110132.8671875,249502.78125,198384.625,150748.703125,195831.65625,135992.40625,190109.078125,129666.6015625,114177.6875,219697.234375,137095.859375,239931.765625,223385.03125,215641.390625,279812.0625,184415.25,183128.6875,166500.1875,260442.765625,215454.265625,235029.90625,145438.609375,123609.0546875,146989.96875,146971.953125,189222.078125,208328.015625,195863.859375,312717.90625,144771.421875,126386.84375,153339.828125,168589.734375,161842.171875,180270.296875,150143.296875,180932.421875,139770.78125,119099.8203125,187388.171875,138823.921875,238653.046875,136505.484375,147075.953125,123675.125,135958.828125,128797.03125,153296.765625,162444.328125,122128.71875,209996.515625,221560.0,231876.453125,185955.0,124035.890625,185837.625,220245.171875,330857.09375,125144.8359375,251155.390625,157548.171875,128110.390625,119426.859375,125764.21875,196212.359375,239530.328125,123265.9921875,159129.859375,159073.9375,188154.6875,220934.921875,136615.453125,250062.109375,260000.265625,194397.21875,165219.734375,239555.171875,115678.234375,223533.0,176202.4375,118012.28125,273218.28125,112738.09375,122745.9921875,158960.984375,172285.703125,148721.546875,175357.15625,138911.296875,175505.046875,117026.5078125,172533.609375,192781.015625,132415.265625,126259.609375,192659.078125,266447.53125,120436.9375,142511.265625,198145.265625,129767.6484375,139032.046875,178940.5625,143159.203125,138417.734375,198486.5,144337.671875,112634.9609375,114314.125,201688.640625,148559.390625,154808.21875,165849.96875,133818.71875,128668.2421875,190585.046875,133209.03125,145207.984375,149867.484375,156185.5,147565.828125,293302.875,132897.078125,215448.359375,144482.046875,235940.890625,138555.03125,133905.765625,138244.703125,140616.515625,122784.8984375,194172.078125,173735.140625,194113.3125,152702.359375,175328.921875,161807.484375,202960.515625,159002.421875,186271.0625,155720.140625,192688.921875,160542.203125,136478.609375,128997.390625,261376.203125,179350.625,283500.6875,131136.484375,145306.359375,198953.171875,129003.2109375,205289.5,260027.828125,178593.203125,112235.09375,234755.34375,170218.078125,332775.09375,188784.890625,140596.40625,189124.875,122286.046875,262108.234375,319119.6875,195707.46875,217457.4375,111426.734375,154566.484375,184330.921875,163208.140625,130496.25,183128.0,139276.390625,174078.421875,162176.234375,212604.609375,205335.796875,130488.890625,212755.546875,155139.203125,127045.046875,198350.046875,206924.0625,224143.390625,125383.0625,278482.09375,118025.703125,140603.921875,172722.875,169685.203125,229799.578125,205558.78125,199574.953125,126725.0625,183217.703125,195729.921875,222255.234375,139424.90625,147979.546875,195053.953125,130346.390625,224446.09375,310727.28125,132295.609375,182470.34375,198775.4375,135549.09375,132171.453125,189615.90625,129431.5234375,115397.140625,204242.453125,169915.265625,230636.75,162552.15625,141497.515625,210581.296875,127208.4921875,125751.953125,135608.21875,249789.546875,264188.84375,149880.265625,125718.625,245934.484375,126727.9140625,117994.8046875,263410.3125,130121.578125,210578.296875,161062.109375,219777.0,325464.40625,163137.015625,216475.578125,149008.515625,158744.796875,164597.015625,201095.140625,221282.703125,220602.984375,136300.109375,136761.453125,191337.015625,174731.203125,145299.546875,167276.4375,319642.21875,214256.734375,138131.46875,214888.75,125831.0,182291.15625,129721.1171875,125081.5234375,275495.375,151200.359375,152226.109375,169500.546875,169187.203125,332394.15625,225114.265625,204419.234375,224124.328125,211906.859375,242644.921875,235365.046875,115729.3125,124062.359375,132581.5625,138484.421875,123456.8515625,231047.890625,196889.609375,119513.2265625,311770.53125,126231.734375,179347.171875,136099.203125,246480.578125,162069.671875,198994.46875,191695.15625,132528.265625,153691.0625,216811.234375,178084.90625,168582.890625,244219.484375,125368.09375,115122.9921875,164100.453125,141492.546875,183488.359375,129045.4921875,126433.109375,236923.96875,124863.9921875,168572.734375,140491.0625,180454.625,110743.5390625,179957.53125,120402.8046875,162827.953125,284779.28125,326107.09375,209285.703125,296809.375,222194.359375,145783.046875,143737.421875,146690.765625,288021.59375,174293.859375,135509.453125,174512.640625,214102.15625,144482.046875,201184.984375,252707.40625,248487.953125,126428.4375,160366.890625,293834.4375,159378.3125,136813.71875,129338.4765625,133780.203125,167450.984375,116900.109375,159235.046875,205893.671875,222220.390625,174690.484375,118569.890625,113813.03125,152446.859375,262149.3125,107516.609375,167539.4375,220282.140625,126619.3828125,102968.015625,242473.359375,242632.546875,216888.828125,105161.7890625,132338.765625,150656.015625,117610.6328125,140737.609375,122321.65625,260097.515625,131054.7421875,140812.484375,121030.859375,139088.4375,193079.671875,222908.140625,245944.609375,310795.28125,221653.125,180260.046875,308262.53125,131063.890625,200126.015625,132488.453125,295206.59375,312940.84375,169627.046875,162542.15625,166839.5,272863.84375,201826.125,138755.171875,184893.828125,141140.984375,293314.40625,139975.0,105184.1796875,186043.8125,168365.0625,135846.109375,185302.3125,173500.984375,141330.390625,130517.7890625,127639.2265625,250840.90625,348170.78125,119351.1640625,123719.5,208838.140625,302788.40625,147779.953125,132208.671875,182829.671875,231489.234375,126035.90625,294810.71875,131921.609375,191282.640625,232797.109375,318069.03125,134538.640625,147540.8125,140013.078125,212045.5,140395.171875,118493.171875,137011.375,243625.890625,145712.625,111709.5390625,141969.734375,268282.71875,212578.765625,184062.265625,155666.953125,136793.890625,198171.75,111343.53125,192886.296875,108646.8125,165313.25,181631.390625,139744.90625,136810.375,157970.984375,157838.265625,188441.25,346455.03125,172309.609375,133304.5625,241046.359375,145870.78125,126851.90625,147604.359375,143882.953125,279489.25,155016.515625,270559.09375,204445.140625,137822.421875,124518.6796875,128219.1796875,140596.828125,250753.484375,206306.3125,163552.984375,207955.1875,153387.171875,125394.859375,201199.265625,187241.375,173371.40625,144293.90625],\"yaxis\":\"y\",\"type\":\"scattergl\"}],                        {\"template\":{\"data\":{\"histogram2dcontour\":[{\"type\":\"histogram2dcontour\",\"colorbar\":{\"outlinewidth\":0,\"ticks\":\"\"},\"colorscale\":[[0.0,\"#0d0887\"],[0.1111111111111111,\"#46039f\"],[0.2222222222222222,\"#7201a8\"],[0.3333333333333333,\"#9c179e\"],[0.4444444444444444,\"#bd3786\"],[0.5555555555555556,\"#d8576b\"],[0.6666666666666666,\"#ed7953\"],[0.7777777777777778,\"#fb9f3a\"],[0.8888888888888888,\"#fdca26\"],[1.0,\"#f0f921\"]]}],\"choropleth\":[{\"type\":\"choropleth\",\"colorbar\":{\"outlinewidth\":0,\"ticks\":\"\"}}],\"histogram2d\":[{\"type\":\"histogram2d\",\"colorbar\":{\"outlinewidth\":0,\"ticks\":\"\"},\"colorscale\":[[0.0,\"#0d0887\"],[0.1111111111111111,\"#46039f\"],[0.2222222222222222,\"#7201a8\"],[0.3333333333333333,\"#9c179e\"],[0.4444444444444444,\"#bd3786\"],[0.5555555555555556,\"#d8576b\"],[0.6666666666666666,\"#ed7953\"],[0.7777777777777778,\"#fb9f3a\"],[0.8888888888888888,\"#fdca26\"],[1.0,\"#f0f921\"]]}],\"heatmap\":[{\"type\":\"heatmap\",\"colorbar\":{\"outlinewidth\":0,\"ticks\":\"\"},\"colorscale\":[[0.0,\"#0d0887\"],[0.1111111111111111,\"#46039f\"],[0.2222222222222222,\"#7201a8\"],[0.3333333333333333,\"#9c179e\"],[0.4444444444444444,\"#bd3786\"],[0.5555555555555556,\"#d8576b\"],[0.6666666666666666,\"#ed7953\"],[0.7777777777777778,\"#fb9f3a\"],[0.8888888888888888,\"#fdca26\"],[1.0,\"#f0f921\"]]}],\"heatmapgl\":[{\"type\":\"heatmapgl\",\"colorbar\":{\"outlinewidth\":0,\"ticks\":\"\"},\"colorscale\":[[0.0,\"#0d0887\"],[0.1111111111111111,\"#46039f\"],[0.2222222222222222,\"#7201a8\"],[0.3333333333333333,\"#9c179e\"],[0.4444444444444444,\"#bd3786\"],[0.5555555555555556,\"#d8576b\"],[0.6666666666666666,\"#ed7953\"],[0.7777777777777778,\"#fb9f3a\"],[0.8888888888888888,\"#fdca26\"],[1.0,\"#f0f921\"]]}],\"contourcarpet\":[{\"type\":\"contourcarpet\",\"colorbar\":{\"outlinewidth\":0,\"ticks\":\"\"}}],\"contour\":[{\"type\":\"contour\",\"colorbar\":{\"outlinewidth\":0,\"ticks\":\"\"},\"colorscale\":[[0.0,\"#0d0887\"],[0.1111111111111111,\"#46039f\"],[0.2222222222222222,\"#7201a8\"],[0.3333333333333333,\"#9c179e\"],[0.4444444444444444,\"#bd3786\"],[0.5555555555555556,\"#d8576b\"],[0.6666666666666666,\"#ed7953\"],[0.7777777777777778,\"#fb9f3a\"],[0.8888888888888888,\"#fdca26\"],[1.0,\"#f0f921\"]]}],\"surface\":[{\"type\":\"surface\",\"colorbar\":{\"outlinewidth\":0,\"ticks\":\"\"},\"colorscale\":[[0.0,\"#0d0887\"],[0.1111111111111111,\"#46039f\"],[0.2222222222222222,\"#7201a8\"],[0.3333333333333333,\"#9c179e\"],[0.4444444444444444,\"#bd3786\"],[0.5555555555555556,\"#d8576b\"],[0.6666666666666666,\"#ed7953\"],[0.7777777777777778,\"#fb9f3a\"],[0.8888888888888888,\"#fdca26\"],[1.0,\"#f0f921\"]]}],\"mesh3d\":[{\"type\":\"mesh3d\",\"colorbar\":{\"outlinewidth\":0,\"ticks\":\"\"}}],\"scatter\":[{\"fillpattern\":{\"fillmode\":\"overlay\",\"size\":10,\"solidity\":0.2},\"type\":\"scatter\"}],\"parcoords\":[{\"type\":\"parcoords\",\"line\":{\"colorbar\":{\"outlinewidth\":0,\"ticks\":\"\"}}}],\"scatterpolargl\":[{\"type\":\"scatterpolargl\",\"marker\":{\"colorbar\":{\"outlinewidth\":0,\"ticks\":\"\"}}}],\"bar\":[{\"error_x\":{\"color\":\"#2a3f5f\"},\"error_y\":{\"color\":\"#2a3f5f\"},\"marker\":{\"line\":{\"color\":\"#E5ECF6\",\"width\":0.5},\"pattern\":{\"fillmode\":\"overlay\",\"size\":10,\"solidity\":0.2}},\"type\":\"bar\"}],\"scattergeo\":[{\"type\":\"scattergeo\",\"marker\":{\"colorbar\":{\"outlinewidth\":0,\"ticks\":\"\"}}}],\"scatterpolar\":[{\"type\":\"scatterpolar\",\"marker\":{\"colorbar\":{\"outlinewidth\":0,\"ticks\":\"\"}}}],\"histogram\":[{\"marker\":{\"pattern\":{\"fillmode\":\"overlay\",\"size\":10,\"solidity\":0.2}},\"type\":\"histogram\"}],\"scattergl\":[{\"type\":\"scattergl\",\"marker\":{\"colorbar\":{\"outlinewidth\":0,\"ticks\":\"\"}}}],\"scatter3d\":[{\"type\":\"scatter3d\",\"line\":{\"colorbar\":{\"outlinewidth\":0,\"ticks\":\"\"}},\"marker\":{\"colorbar\":{\"outlinewidth\":0,\"ticks\":\"\"}}}],\"scattermapbox\":[{\"type\":\"scattermapbox\",\"marker\":{\"colorbar\":{\"outlinewidth\":0,\"ticks\":\"\"}}}],\"scatterternary\":[{\"type\":\"scatterternary\",\"marker\":{\"colorbar\":{\"outlinewidth\":0,\"ticks\":\"\"}}}],\"scattercarpet\":[{\"type\":\"scattercarpet\",\"marker\":{\"colorbar\":{\"outlinewidth\":0,\"ticks\":\"\"}}}],\"carpet\":[{\"aaxis\":{\"endlinecolor\":\"#2a3f5f\",\"gridcolor\":\"white\",\"linecolor\":\"white\",\"minorgridcolor\":\"white\",\"startlinecolor\":\"#2a3f5f\"},\"baxis\":{\"endlinecolor\":\"#2a3f5f\",\"gridcolor\":\"white\",\"linecolor\":\"white\",\"minorgridcolor\":\"white\",\"startlinecolor\":\"#2a3f5f\"},\"type\":\"carpet\"}],\"table\":[{\"cells\":{\"fill\":{\"color\":\"#EBF0F8\"},\"line\":{\"color\":\"white\"}},\"header\":{\"fill\":{\"color\":\"#C8D4E3\"},\"line\":{\"color\":\"white\"}},\"type\":\"table\"}],\"barpolar\":[{\"marker\":{\"line\":{\"color\":\"#E5ECF6\",\"width\":0.5},\"pattern\":{\"fillmode\":\"overlay\",\"size\":10,\"solidity\":0.2}},\"type\":\"barpolar\"}],\"pie\":[{\"automargin\":true,\"type\":\"pie\"}]},\"layout\":{\"autotypenumbers\":\"strict\",\"colorway\":[\"#636efa\",\"#EF553B\",\"#00cc96\",\"#ab63fa\",\"#FFA15A\",\"#19d3f3\",\"#FF6692\",\"#B6E880\",\"#FF97FF\",\"#FECB52\"],\"font\":{\"color\":\"#2a3f5f\"},\"hovermode\":\"closest\",\"hoverlabel\":{\"align\":\"left\"},\"paper_bgcolor\":\"white\",\"plot_bgcolor\":\"#E5ECF6\",\"polar\":{\"bgcolor\":\"#E5ECF6\",\"angularaxis\":{\"gridcolor\":\"white\",\"linecolor\":\"white\",\"ticks\":\"\"},\"radialaxis\":{\"gridcolor\":\"white\",\"linecolor\":\"white\",\"ticks\":\"\"}},\"ternary\":{\"bgcolor\":\"#E5ECF6\",\"aaxis\":{\"gridcolor\":\"white\",\"linecolor\":\"white\",\"ticks\":\"\"},\"baxis\":{\"gridcolor\":\"white\",\"linecolor\":\"white\",\"ticks\":\"\"},\"caxis\":{\"gridcolor\":\"white\",\"linecolor\":\"white\",\"ticks\":\"\"}},\"coloraxis\":{\"colorbar\":{\"outlinewidth\":0,\"ticks\":\"\"}},\"colorscale\":{\"sequential\":[[0.0,\"#0d0887\"],[0.1111111111111111,\"#46039f\"],[0.2222222222222222,\"#7201a8\"],[0.3333333333333333,\"#9c179e\"],[0.4444444444444444,\"#bd3786\"],[0.5555555555555556,\"#d8576b\"],[0.6666666666666666,\"#ed7953\"],[0.7777777777777778,\"#fb9f3a\"],[0.8888888888888888,\"#fdca26\"],[1.0,\"#f0f921\"]],\"sequentialminus\":[[0.0,\"#0d0887\"],[0.1111111111111111,\"#46039f\"],[0.2222222222222222,\"#7201a8\"],[0.3333333333333333,\"#9c179e\"],[0.4444444444444444,\"#bd3786\"],[0.5555555555555556,\"#d8576b\"],[0.6666666666666666,\"#ed7953\"],[0.7777777777777778,\"#fb9f3a\"],[0.8888888888888888,\"#fdca26\"],[1.0,\"#f0f921\"]],\"diverging\":[[0,\"#8e0152\"],[0.1,\"#c51b7d\"],[0.2,\"#de77ae\"],[0.3,\"#f1b6da\"],[0.4,\"#fde0ef\"],[0.5,\"#f7f7f7\"],[0.6,\"#e6f5d0\"],[0.7,\"#b8e186\"],[0.8,\"#7fbc41\"],[0.9,\"#4d9221\"],[1,\"#276419\"]]},\"xaxis\":{\"gridcolor\":\"white\",\"linecolor\":\"white\",\"ticks\":\"\",\"title\":{\"standoff\":15},\"zerolinecolor\":\"white\",\"automargin\":true,\"zerolinewidth\":2},\"yaxis\":{\"gridcolor\":\"white\",\"linecolor\":\"white\",\"ticks\":\"\",\"title\":{\"standoff\":15},\"zerolinecolor\":\"white\",\"automargin\":true,\"zerolinewidth\":2},\"scene\":{\"xaxis\":{\"backgroundcolor\":\"#E5ECF6\",\"gridcolor\":\"white\",\"linecolor\":\"white\",\"showbackground\":true,\"ticks\":\"\",\"zerolinecolor\":\"white\",\"gridwidth\":2},\"yaxis\":{\"backgroundcolor\":\"#E5ECF6\",\"gridcolor\":\"white\",\"linecolor\":\"white\",\"showbackground\":true,\"ticks\":\"\",\"zerolinecolor\":\"white\",\"gridwidth\":2},\"zaxis\":{\"backgroundcolor\":\"#E5ECF6\",\"gridcolor\":\"white\",\"linecolor\":\"white\",\"showbackground\":true,\"ticks\":\"\",\"zerolinecolor\":\"white\",\"gridwidth\":2}},\"shapedefaults\":{\"line\":{\"color\":\"#2a3f5f\"}},\"annotationdefaults\":{\"arrowcolor\":\"#2a3f5f\",\"arrowhead\":0,\"arrowwidth\":1},\"geo\":{\"bgcolor\":\"white\",\"landcolor\":\"#E5ECF6\",\"subunitcolor\":\"white\",\"showland\":true,\"showlakes\":true,\"lakecolor\":\"white\"},\"title\":{\"x\":0.05},\"mapbox\":{\"style\":\"light\"}}},\"xaxis\":{\"anchor\":\"y\",\"domain\":[0.0,1.0],\"title\":{\"text\":\"Actual\"},\"range\":[50000,400000]},\"yaxis\":{\"anchor\":\"x\",\"domain\":[0.0,1.0],\"title\":{\"text\":\"Predicted\"},\"range\":[50000,400000]},\"legend\":{\"tracegroupgap\":0},\"margin\":{\"t\":60},\"shapes\":[{\"line\":{\"color\":\"Red\"},\"type\":\"line\",\"x0\":70000,\"x1\":380000,\"xref\":\"x\",\"y0\":70000,\"y1\":380000,\"yref\":\"y\"}]},                        {\"responsive\": true}                    ).then(function(){\n",
       "                            \n",
       "var gd = document.getElementById('2a29a76a-2741-46bc-a6c7-fb440d45a308');\n",
       "var x = new MutationObserver(function (mutations, observer) {{\n",
       "        var display = window.getComputedStyle(gd).display;\n",
       "        if (!display || display === 'none') {{\n",
       "            console.log([gd, 'removed!']);\n",
       "            Plotly.purge(gd);\n",
       "            observer.disconnect();\n",
       "        }}\n",
       "}});\n",
       "\n",
       "// Listen for the removal of the full notebook cells\n",
       "var notebookContainer = gd.closest('#notebook-container');\n",
       "if (notebookContainer) {{\n",
       "    x.observe(notebookContainer, {childList: true});\n",
       "}}\n",
       "\n",
       "// Listen for the clearing of the current output cell\n",
       "var outputEl = gd.closest('.output');\n",
       "if (outputEl) {{\n",
       "    x.observe(outputEl, {childList: true});\n",
       "}}\n",
       "\n",
       "                        })                };                });            </script>        </div>"
      ]
     },
     "metadata": {},
     "output_type": "display_data"
    }
   ],
   "source": [
    "fig=px.scatter({'Actual':list(Y_train),'Predicted':list(Y_train_prediction)},\n",
    "           x='Actual',\n",
    "           y='Predicted',\n",
    "           range_x=[50_000,400_000],range_y=[50_000,400_000])\n",
    "\n",
    "fig.add_shape(type='line',\n",
    "                x0=70_000,\n",
    "                y0=70_000,\n",
    "                x1=380_000,\n",
    "                y1=380_000,\n",
    "                line=dict(color='Red',),\n",
    "                xref='x',\n",
    "                yref='y'\n",
    ")\n",
    "fig"
   ]
  },
  {
   "cell_type": "markdown",
   "id": "2a05d6b0",
   "metadata": {},
   "source": [
    "Prediction"
   ]
  },
  {
   "cell_type": "code",
   "execution_count": 29,
   "id": "2c9934ff",
   "metadata": {},
   "outputs": [
    {
     "name": "stdout",
     "output_type": "stream",
     "text": [
      "1/1 [==============================] - 0s 31ms/step\n"
     ]
    },
    {
     "data": {
      "text/plain": [
       "array([[141590.83],\n",
       "       [160609.14],\n",
       "       [175665.73],\n",
       "       [181359.2 ]], dtype=float32)"
      ]
     },
     "execution_count": 29,
     "metadata": {},
     "output_type": "execute_result"
    }
   ],
   "source": [
    "inhereted=pd.read_pickle('../data/inhereted_houses_corr.pkl')\n",
    "inhereted.pop('KitchenQual')\n",
    "inhereted.pop('LotFrontage')\n",
    "model.predict(inhereted)"
   ]
  },
  {
   "cell_type": "markdown",
   "id": "8451fd1c",
   "metadata": {},
   "source": [
    "Saving the model"
   ]
  },
  {
   "cell_type": "code",
   "execution_count": 30,
   "id": "ecf29c67",
   "metadata": {},
   "outputs": [
    {
     "name": "stderr",
     "output_type": "stream",
     "text": [
      "WARNING:absl:Found untraced functions such as _update_step_xla while saving (showing 1 of 1). These functions will not be directly callable after loading.\n"
     ]
    },
    {
     "name": "stdout",
     "output_type": "stream",
     "text": [
      "INFO:tensorflow:Assets written to: ../data/Model\\assets\n"
     ]
    },
    {
     "name": "stderr",
     "output_type": "stream",
     "text": [
      "INFO:tensorflow:Assets written to: ../data/Model\\assets\n"
     ]
    }
   ],
   "source": [
    "model.save('../data/Model')"
   ]
  }
 ],
 "metadata": {
  "kernelspec": {
   "display_name": "Python 3 (ipykernel)",
   "language": "python",
   "name": "python3"
  },
  "language_info": {
   "codemirror_mode": {
    "name": "ipython",
    "version": 3
   },
   "file_extension": ".py",
   "mimetype": "text/x-python",
   "name": "python",
   "nbconvert_exporter": "python",
   "pygments_lexer": "ipython3",
   "version": "3.9.13"
  },
  "vscode": {
   "interpreter": {
    "hash": "608a66ed029b568824734d0199cb5a5f578611fd811281c649c76eec28177495"
   }
  }
 },
 "nbformat": 4,
 "nbformat_minor": 5
}
