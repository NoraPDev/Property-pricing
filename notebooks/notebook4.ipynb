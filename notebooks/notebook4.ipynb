{
 "cells": [
  {
   "cell_type": "markdown",
   "id": "391346b3",
   "metadata": {},
   "source": [
    "## Predicting sale price\n",
    "### This notebook contains the necessary code for predicting sale price with ML"
   ]
  },
  {
   "cell_type": "markdown",
   "id": "e316b2be",
   "metadata": {},
   "source": [
    "Importing packages"
   ]
  },
  {
   "cell_type": "code",
   "execution_count": 7,
   "id": "990fbaf7",
   "metadata": {},
   "outputs": [],
   "source": [
    "try:\n",
    "    import pandas as pd\n",
    "    import plotly.express as px \n",
    "    import numpy as np\n",
    "    import tensorflow as tf\n",
    "    from sklearn.model_selection import train_test_split\n",
    "    import sklearn\n",
    "except:\n",
    "    !pip install scikit-learn\n",
    "    !pip install pandas\n",
    "    !pip install plotly\n",
    "    !pip install tensorflow\n",
    "    import pandas as pd\n",
    "    import plotly.express as px \n",
    "    import numpy as np\n",
    "    import tensorflow as tf\n",
    "    from sklearn.model_selection import train_test_split\n",
    "    import sklearn"
   ]
  },
  {
   "cell_type": "markdown",
   "id": "a6574b52",
   "metadata": {},
   "source": [
    "Defining the modell"
   ]
  },
  {
   "cell_type": "code",
   "execution_count": 8,
   "id": "220afeff",
   "metadata": {},
   "outputs": [],
   "source": [
    "def createModel(normlayer,trainshape1):\n",
    "    model=tf.keras.Sequential([\n",
    "        normlayer,\n",
    "        tf.keras.layers.Dense(256,activation='relu',input_shape=(trainshape1,)),\n",
    "        tf.keras.layers.Dropout(.1),\n",
    "        tf.keras.layers.Dense(256,activation='relu'),\n",
    "        tf.keras.layers.Dropout(.1),\n",
    "        tf.keras.layers.Dense(128,activation='relu'),\n",
    "        tf.keras.layers.Dense(1)\n",
    "        \n",
    "        \n",
    "    ])\n",
    "    model.compile(optimizer='adam',loss='mse',metrics=['mae'])\n",
    "    return model"
   ]
  },
  {
   "cell_type": "markdown",
   "id": "00fe58a0",
   "metadata": {},
   "source": [
    "Loading data and removing KitchenQual since I have concluded that this knowledge doesn't improve the results as significant as it makes the program more complex "
   ]
  },
  {
   "cell_type": "code",
   "execution_count": 9,
   "id": "d4992fd6",
   "metadata": {},
   "outputs": [],
   "source": [
    "data = pd.read_pickle('../data/clean_housing_data.pkl')\n",
    "a=data.pop('KitchenQual')"
   ]
  },
  {
   "cell_type": "code",
   "execution_count": 10,
   "id": "a1ef13d0",
   "metadata": {},
   "outputs": [
    {
     "data": {
      "text/plain": [
       "Index(['1stFlrSF', 'GarageArea', 'GarageYrBlt', 'GrLivArea', 'LotArea',\n",
       "       'MasVnrArea', 'OpenPorchSF', 'OverallQual', 'TotalBsmtSF', 'YearBuilt',\n",
       "       'YearRemodAdd', 'SalePrice'],\n",
       "      dtype='object')"
      ]
     },
     "execution_count": 10,
     "metadata": {},
     "output_type": "execute_result"
    }
   ],
   "source": [
    "data.columns"
   ]
  },
  {
   "cell_type": "markdown",
   "id": "3e945ff2",
   "metadata": {},
   "source": [
    "Splitting the data to feature and target sets"
   ]
  },
  {
   "cell_type": "code",
   "execution_count": 11,
   "id": "60bb0aa8",
   "metadata": {},
   "outputs": [],
   "source": [
    "features = data.copy()\n",
    "target=features.pop('SalePrice')"
   ]
  },
  {
   "cell_type": "code",
   "execution_count": null,
   "id": "816b6408",
   "metadata": {},
   "outputs": [],
   "source": []
  }
 ],
 "metadata": {
  "kernelspec": {
   "display_name": "Python 3 (ipykernel)",
   "language": "python",
   "name": "python3"
  },
  "language_info": {
   "codemirror_mode": {
    "name": "ipython",
    "version": 3
   },
   "file_extension": ".py",
   "mimetype": "text/x-python",
   "name": "python",
   "nbconvert_exporter": "python",
   "pygments_lexer": "ipython3",
   "version": "3.9.13"
  }
 },
 "nbformat": 4,
 "nbformat_minor": 5
}
