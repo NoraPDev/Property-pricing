{
 "cells": [
  {
   "cell_type": "markdown",
   "id": "391346b3",
   "metadata": {},
   "source": [
    "## Predicting sale price\n",
    "### This notebook contains the necessary code for predicting sale price with ML"
   ]
  },
  {
   "cell_type": "markdown",
   "id": "e316b2be",
   "metadata": {},
   "source": [
    "Importing packages"
   ]
  },
  {
   "cell_type": "code",
   "execution_count": 28,
   "id": "990fbaf7",
   "metadata": {},
   "outputs": [],
   "source": [
    "try:\n",
    "    import pandas as pd\n",
    "    import plotly.express as px \n",
    "    import numpy as np\n",
    "    import tensorflow as tf\n",
    "    from sklearn.model_selection import train_test_split\n",
    "    import sklearn\n",
    "except:\n",
    "    !pip install scikit-learn\n",
    "    !pip install pandas\n",
    "    !pip install plotly\n",
    "    !pip install tensorflow\n",
    "    import pandas as pd\n",
    "    import plotly.express as px \n",
    "    import numpy as np\n",
    "    import tensorflow as tf\n",
    "    from sklearn.model_selection import train_test_split\n",
    "    import sklearn"
   ]
  },
  {
   "cell_type": "markdown",
   "id": "a6574b52",
   "metadata": {},
   "source": [
    "Defining the modell"
   ]
  },
  {
   "cell_type": "code",
   "execution_count": 29,
   "id": "220afeff",
   "metadata": {},
   "outputs": [],
   "source": [
    "def createModel(normlayer,trainshape1):\n",
    "    model=tf.keras.Sequential([\n",
    "        normlayer,\n",
    "        tf.keras.layers.Dense(256,activation='relu',input_shape=(trainshape1,)),\n",
    "        tf.keras.layers.Dropout(.1),\n",
    "        tf.keras.layers.Dense(256,activation='relu'),\n",
    "        tf.keras.layers.Dropout(.1),\n",
    "        tf.keras.layers.Dense(128,activation='relu'),\n",
    "        tf.keras.layers.Dense(1)\n",
    "        \n",
    "        \n",
    "    ])\n",
    "    model.compile(optimizer='adam',loss='mse',metrics=['mae'])\n",
    "    return model"
   ]
  },
  {
   "cell_type": "markdown",
   "id": "00fe58a0",
   "metadata": {},
   "source": [
    "Loading data and removing KitchenQual since I have concluded that this knowledge doesn't improve the results as significant as it makes the program more complex "
   ]
  },
  {
   "cell_type": "code",
   "execution_count": 30,
   "id": "d4992fd6",
   "metadata": {},
   "outputs": [],
   "source": [
    "data = pd.read_pickle('../data/clean_housing_data.pkl')\n",
    "a=data.pop('KitchenQual')"
   ]
  },
  {
   "cell_type": "code",
   "execution_count": 31,
   "id": "a1ef13d0",
   "metadata": {},
   "outputs": [
    {
     "data": {
      "text/plain": [
       "Index(['1stFlrSF', 'GarageArea', 'GarageYrBlt', 'GrLivArea', 'LotArea',\n",
       "       'MasVnrArea', 'OpenPorchSF', 'OverallQual', 'TotalBsmtSF', 'YearBuilt',\n",
       "       'YearRemodAdd', 'SalePrice'],\n",
       "      dtype='object')"
      ]
     },
     "execution_count": 31,
     "metadata": {},
     "output_type": "execute_result"
    }
   ],
   "source": [
    "data.columns"
   ]
  },
  {
   "cell_type": "markdown",
   "id": "3e945ff2",
   "metadata": {},
   "source": [
    "Splitting the data to feature and target sets"
   ]
  },
  {
   "cell_type": "code",
   "execution_count": 32,
   "id": "60bb0aa8",
   "metadata": {},
   "outputs": [],
   "source": [
    "features = data.copy()\n",
    "target=features.pop('SalePrice')"
   ]
  },
  {
   "cell_type": "markdown",
   "id": "de23ea48",
   "metadata": {},
   "source": [
    "Save the list of important features"
   ]
  },
  {
   "cell_type": "code",
   "execution_count": 33,
   "id": "4b17f5a8",
   "metadata": {},
   "outputs": [],
   "source": [
    "import pickle\n",
    "with open('../data/important_features.pkl','wb') as f:\n",
    "    pickle.dump(list(features.columns),f)"
   ]
  },
  {
   "cell_type": "markdown",
   "id": "38c7e517",
   "metadata": {},
   "source": [
    "Creating test and train sets"
   ]
  },
  {
   "cell_type": "code",
   "execution_count": 34,
   "id": "d015827a",
   "metadata": {},
   "outputs": [],
   "source": [
    "X_train,X_test,Y_train,Y_test=train_test_split(features,target,test_size=.1)"
   ]
  },
  {
   "cell_type": "markdown",
   "id": "b26a8851",
   "metadata": {},
   "source": [
    "Setting up the normalisation layer"
   ]
  },
  {
   "cell_type": "code",
   "execution_count": 35,
   "id": "5be62c96",
   "metadata": {},
   "outputs": [],
   "source": [
    "normlayer=tf.keras.layers.Normalization()\n",
    "normlayer.adapt(X_train)"
   ]
  },
  {
   "cell_type": "markdown",
   "id": "7bc2a453",
   "metadata": {},
   "source": [
    "Create and fitting the modell"
   ]
  },
  {
   "cell_type": "code",
   "execution_count": 36,
   "id": "b62b629c",
   "metadata": {},
   "outputs": [
    {
     "name": "stdout",
     "output_type": "stream",
     "text": [
      "Epoch 1/50\n",
      "205/205 [==============================] - 7s 16ms/step - loss: 28655360000.0000 - mae: 157214.1562 - val_loss: 7091656192.0000 - val_mae: 75961.6328\n",
      "Epoch 2/50\n",
      "205/205 [==============================] - 3s 13ms/step - loss: 3266996992.0000 - mae: 46179.3125 - val_loss: 2256882688.0000 - val_mae: 37347.0625\n",
      "Epoch 3/50\n",
      "205/205 [==============================] - 1s 6ms/step - loss: 1756648832.0000 - mae: 32915.0469 - val_loss: 1436691712.0000 - val_mae: 28929.8828\n",
      "Epoch 4/50\n",
      "205/205 [==============================] - 1s 6ms/step - loss: 1181229568.0000 - mae: 26743.4375 - val_loss: 1072522880.0000 - val_mae: 25145.9238\n",
      "Epoch 5/50\n",
      "205/205 [==============================] - 1s 6ms/step - loss: 930410240.0000 - mae: 23613.4746 - val_loss: 931235648.0000 - val_mae: 22401.5898\n",
      "Epoch 6/50\n",
      "205/205 [==============================] - 1s 6ms/step - loss: 826230912.0000 - mae: 22211.7012 - val_loss: 920104576.0000 - val_mae: 22774.4609\n",
      "Epoch 7/50\n",
      "205/205 [==============================] - 1s 6ms/step - loss: 716224640.0000 - mae: 20411.4512 - val_loss: 791678016.0000 - val_mae: 20354.5957\n",
      "Epoch 8/50\n",
      "205/205 [==============================] - 1s 6ms/step - loss: 685377152.0000 - mae: 19665.9004 - val_loss: 761631680.0000 - val_mae: 19761.4922\n",
      "Epoch 9/50\n",
      "205/205 [==============================] - 1s 6ms/step - loss: 648485504.0000 - mae: 19138.7988 - val_loss: 741689984.0000 - val_mae: 19624.2480\n",
      "Epoch 10/50\n",
      "205/205 [==============================] - 1s 6ms/step - loss: 647307136.0000 - mae: 18852.0215 - val_loss: 720577600.0000 - val_mae: 18913.5039\n",
      "Epoch 11/50\n",
      "205/205 [==============================] - 1s 6ms/step - loss: 615427136.0000 - mae: 18437.0996 - val_loss: 703141568.0000 - val_mae: 19201.5410\n",
      "Epoch 12/50\n",
      "205/205 [==============================] - 1s 6ms/step - loss: 613815744.0000 - mae: 18198.2227 - val_loss: 687838336.0000 - val_mae: 18685.6152\n",
      "Epoch 13/50\n",
      "205/205 [==============================] - 1s 6ms/step - loss: 587642560.0000 - mae: 17964.5078 - val_loss: 714147840.0000 - val_mae: 19817.3320\n",
      "Epoch 14/50\n",
      "205/205 [==============================] - 1s 6ms/step - loss: 589221952.0000 - mae: 18054.8906 - val_loss: 661714048.0000 - val_mae: 18401.2754\n",
      "Epoch 15/50\n",
      "205/205 [==============================] - 1s 6ms/step - loss: 599970944.0000 - mae: 17926.7988 - val_loss: 693355520.0000 - val_mae: 18989.1855\n",
      "Epoch 16/50\n",
      "205/205 [==============================] - 1s 6ms/step - loss: 573133632.0000 - mae: 17606.5254 - val_loss: 645666688.0000 - val_mae: 17870.2461\n",
      "Epoch 17/50\n",
      "205/205 [==============================] - 1s 6ms/step - loss: 580127488.0000 - mae: 17711.7109 - val_loss: 685056512.0000 - val_mae: 19225.9180\n",
      "Epoch 18/50\n",
      "205/205 [==============================] - 1s 6ms/step - loss: 578926528.0000 - mae: 17662.6719 - val_loss: 640084544.0000 - val_mae: 18351.8594\n",
      "Epoch 19/50\n",
      "205/205 [==============================] - 1s 6ms/step - loss: 555555776.0000 - mae: 17077.7148 - val_loss: 726014848.0000 - val_mae: 19743.9004\n",
      "Epoch 20/50\n",
      "205/205 [==============================] - 1s 6ms/step - loss: 561800192.0000 - mae: 17257.4355 - val_loss: 652844480.0000 - val_mae: 17994.5566\n",
      "Epoch 21/50\n",
      "205/205 [==============================] - 1s 6ms/step - loss: 583798400.0000 - mae: 17425.6855 - val_loss: 643531520.0000 - val_mae: 18016.5820\n",
      "Epoch 22/50\n",
      "205/205 [==============================] - 1s 6ms/step - loss: 565123392.0000 - mae: 17537.4258 - val_loss: 647071680.0000 - val_mae: 18214.7168\n",
      "Epoch 23/50\n",
      "205/205 [==============================] - 1s 6ms/step - loss: 557762432.0000 - mae: 17332.5664 - val_loss: 646149248.0000 - val_mae: 18152.3320\n",
      "Epoch 24/50\n",
      "205/205 [==============================] - 1s 6ms/step - loss: 561850752.0000 - mae: 17433.5391 - val_loss: 621078848.0000 - val_mae: 17680.9473\n",
      "Epoch 25/50\n",
      "205/205 [==============================] - 1s 6ms/step - loss: 560310848.0000 - mae: 17369.8809 - val_loss: 626312320.0000 - val_mae: 17916.2969\n",
      "Epoch 26/50\n",
      "205/205 [==============================] - 1s 6ms/step - loss: 551455488.0000 - mae: 17045.7305 - val_loss: 626479360.0000 - val_mae: 17398.0410\n",
      "Epoch 27/50\n",
      "205/205 [==============================] - 1s 6ms/step - loss: 566742784.0000 - mae: 17221.6250 - val_loss: 638748160.0000 - val_mae: 17451.8770\n",
      "Epoch 28/50\n",
      "205/205 [==============================] - 1s 6ms/step - loss: 544797056.0000 - mae: 17217.0176 - val_loss: 657016512.0000 - val_mae: 18600.9727\n",
      "Epoch 29/50\n",
      "205/205 [==============================] - 1s 6ms/step - loss: 543937408.0000 - mae: 17092.7012 - val_loss: 622316224.0000 - val_mae: 17719.0723\n",
      "Epoch 30/50\n",
      "205/205 [==============================] - 1s 6ms/step - loss: 547399808.0000 - mae: 17207.9746 - val_loss: 646828992.0000 - val_mae: 18396.0137\n",
      "Epoch 31/50\n",
      "205/205 [==============================] - 1s 6ms/step - loss: 554686784.0000 - mae: 17223.3340 - val_loss: 624969280.0000 - val_mae: 17528.8027\n",
      "Epoch 32/50\n",
      "205/205 [==============================] - 1s 6ms/step - loss: 529207360.0000 - mae: 16802.6465 - val_loss: 624084672.0000 - val_mae: 17742.4434\n",
      "Epoch 33/50\n",
      "205/205 [==============================] - 1s 6ms/step - loss: 522362080.0000 - mae: 16513.5293 - val_loss: 650501568.0000 - val_mae: 18412.9766\n",
      "Epoch 34/50\n",
      "205/205 [==============================] - 1s 6ms/step - loss: 564848192.0000 - mae: 17068.4082 - val_loss: 618841728.0000 - val_mae: 17275.3262\n",
      "Epoch 35/50\n",
      "205/205 [==============================] - 1s 6ms/step - loss: 542881088.0000 - mae: 16913.0547 - val_loss: 622158272.0000 - val_mae: 17528.3066\n",
      "Epoch 36/50\n",
      "205/205 [==============================] - 1s 6ms/step - loss: 529464736.0000 - mae: 16689.9297 - val_loss: 624940416.0000 - val_mae: 17317.8398\n",
      "Epoch 37/50\n",
      "205/205 [==============================] - 1s 6ms/step - loss: 529649344.0000 - mae: 16620.8926 - val_loss: 615007616.0000 - val_mae: 17371.8984\n",
      "Epoch 38/50\n",
      "205/205 [==============================] - 1s 6ms/step - loss: 533319200.0000 - mae: 16639.1504 - val_loss: 625665536.0000 - val_mae: 17306.2852\n",
      "Epoch 39/50\n",
      "205/205 [==============================] - 1s 6ms/step - loss: 562309504.0000 - mae: 17660.5195 - val_loss: 608436480.0000 - val_mae: 17345.8359\n",
      "Epoch 40/50\n",
      "205/205 [==============================] - 1s 6ms/step - loss: 531542336.0000 - mae: 16839.4941 - val_loss: 618571904.0000 - val_mae: 17518.7324\n",
      "Epoch 41/50\n",
      "205/205 [==============================] - 1s 6ms/step - loss: 546294912.0000 - mae: 16993.4688 - val_loss: 645294592.0000 - val_mae: 17355.0137\n",
      "Epoch 42/50\n",
      "205/205 [==============================] - 1s 6ms/step - loss: 558024960.0000 - mae: 17159.1348 - val_loss: 614371712.0000 - val_mae: 17031.3652\n",
      "Epoch 43/50\n",
      "205/205 [==============================] - 1s 6ms/step - loss: 543274176.0000 - mae: 16879.9688 - val_loss: 609825728.0000 - val_mae: 17128.4863\n",
      "Epoch 44/50\n",
      "205/205 [==============================] - 1s 6ms/step - loss: 550373312.0000 - mae: 17137.2539 - val_loss: 623778304.0000 - val_mae: 17932.2520\n",
      "Epoch 45/50\n",
      "205/205 [==============================] - 1s 6ms/step - loss: 544005312.0000 - mae: 16875.6602 - val_loss: 609732096.0000 - val_mae: 17385.0898\n",
      "Epoch 46/50\n",
      "205/205 [==============================] - 1s 6ms/step - loss: 514670336.0000 - mae: 16584.8516 - val_loss: 619168960.0000 - val_mae: 17645.0625\n",
      "Epoch 47/50\n",
      "205/205 [==============================] - 1s 6ms/step - loss: 541102528.0000 - mae: 17085.1523 - val_loss: 639105024.0000 - val_mae: 17559.5430\n",
      "Epoch 48/50\n",
      "205/205 [==============================] - 1s 6ms/step - loss: 545785152.0000 - mae: 17183.9727 - val_loss: 647310720.0000 - val_mae: 17707.1895\n",
      "Epoch 49/50\n",
      "205/205 [==============================] - 1s 6ms/step - loss: 529515520.0000 - mae: 16765.2402 - val_loss: 631546560.0000 - val_mae: 17180.3223\n"
     ]
    },
    {
     "data": {
      "text/plain": [
       "<keras.callbacks.History at 0x1c5154c07c0>"
      ]
     },
     "execution_count": 36,
     "metadata": {},
     "output_type": "execute_result"
    }
   ],
   "source": [
    "es=tf.keras.callbacks.EarlyStopping(patience=10)\n",
    "model=createModel(normlayer,X_train.shape[1])\n",
    "model.fit(X_train,Y_train,batch_size=4,epochs=50,verbose=1,validation_split=.2,callbacks=[es])"
   ]
  },
  {
   "cell_type": "markdown",
   "id": "2b251264",
   "metadata": {},
   "source": [
    "### Evaluating the modell"
   ]
  },
  {
   "cell_type": "markdown",
   "id": "b81d0543",
   "metadata": {},
   "source": [
    "Evaluate on test set given the metrics Mean Squared Error and Mean Absolute Error"
   ]
  },
  {
   "cell_type": "code",
   "execution_count": 37,
   "id": "e85e5d16",
   "metadata": {},
   "outputs": [
    {
     "name": "stdout",
     "output_type": "stream",
     "text": [
      "4/4 [==============================] - 1s 3ms/step - loss: 510480192.0000 - mae: 17000.2891\n"
     ]
    },
    {
     "data": {
      "text/plain": [
       "[510480192.0, 17000.2890625]"
      ]
     },
     "execution_count": 37,
     "metadata": {},
     "output_type": "execute_result"
    }
   ],
   "source": [
    "model.evaluate(X_test,Y_test)"
   ]
  },
  {
   "cell_type": "markdown",
   "id": "2b71c3fb",
   "metadata": {},
   "source": [
    "Calculating R2"
   ]
  },
  {
   "cell_type": "code",
   "execution_count": 38,
   "id": "858af167",
   "metadata": {},
   "outputs": [
    {
     "name": "stdout",
     "output_type": "stream",
     "text": [
      "4/4 [==============================] - 3s 2ms/step\n",
      "32/32 [==============================] - 2s 1ms/step\n",
      "R2 on test set: 0.8131592506600557\n",
      "R2 on train set: 0.8164066285069682\n"
     ]
    }
   ],
   "source": [
    "Y_test_prediction=model.predict(X_test).flatten()\n",
    "Y_train_prediction= model.predict(X_train).flatten()\n",
    "\n",
    "import pickle\n",
    "\n",
    "with open('../data/Y_test_prediction.pkl','wb') as f:\n",
    "    pickle.dump(list(Y_test_prediction),f)\n",
    "\n",
    "with open('../data/Y_train_prediction.pkl','wb') as f:\n",
    "    pickle.dump(list(Y_train_prediction),f)\n",
    "    \n",
    "with open('../data/Y_test.pkl','wb') as f:\n",
    "    pickle.dump(list(Y_test),f)\n",
    "    \n",
    "with open('../data/Y_train.pkl','wb') as f:\n",
    "    pickle.dump(list(Y_train),f)\n",
    "\n",
    "r2_scores=[sklearn.metrics.r2_score(list(Y_test_prediction),list(Y_test)),\n",
    "           sklearn.metrics.r2_score(list(Y_train_prediction),list(Y_train))]\n",
    "\n",
    "print(f'R2 on test set: {r2_scores[0]}')\n",
    "print(f'R2 on train set: {r2_scores[1]}')\n",
    "\n",
    "with open('../data/r2_scores.pkl','wb') as f:\n",
    "    pickle.dump(r2_scores,f)"
   ]
  },
  {
   "cell_type": "markdown",
   "id": "cc21649c",
   "metadata": {},
   "source": [
    "Plotting the actual and the predicted values"
   ]
  },
  {
   "cell_type": "code",
   "execution_count": 39,
   "id": "31d93fc7",
   "metadata": {},
   "outputs": [
    {
     "data": {
      "application/vnd.plotly.v1+json": {
       "config": {
        "plotlyServerURL": "https://plot.ly"
       },
       "data": [
        {
         "hovertemplate": "Actual=%{x}<br>Predicted=%{y}<extra></extra>",
         "legendgroup": "",
         "marker": {
          "color": "#636efa",
          "symbol": "circle"
         },
         "mode": "markers",
         "name": "",
         "orientation": "v",
         "showlegend": false,
         "type": "scatter",
         "x": [
          160200,
          214900,
          123000,
          214000,
          174000,
          211000,
          241500,
          132500,
          228500,
          106000,
          170000,
          175000,
          181134,
          127500,
          205000,
          188000,
          208500,
          328900,
          142500,
          171000,
          190000,
          142500,
          185000,
          153900,
          184100,
          138000,
          136000,
          131000,
          175000,
          134900,
          154900,
          177000,
          261500,
          89000,
          176000,
          267000,
          271000,
          190000,
          154000,
          210000,
          280000,
          165500,
          121600,
          148000,
          208300,
          202665,
          158000,
          116000,
          189000,
          165000,
          152000,
          180500,
          173000,
          109500,
          87000,
          315000,
          145000,
          119000,
          124500,
          201000,
          163000,
          148000,
          149350,
          326000,
          90000,
          235000,
          138000,
          144000,
          149900,
          91000,
          175000,
          155000,
          132000,
          169990,
          78000,
          116000,
          130000,
          370878,
          105000,
          189000,
          181000,
          82000,
          119000,
          190000,
          186500,
          394432,
          150000,
          132500,
          310000,
          316600,
          143900,
          172500,
          134900,
          140000,
          115000,
          181000,
          184000,
          167000,
          188500,
          155000,
          174000,
          207000,
          139900,
          185000,
          145000,
          249700,
          223000,
          83500,
          137450,
          195000,
          269500,
          153000,
          128900,
          110000
         ],
         "xaxis": "x",
         "y": [
          166952.875,
          209740.0625,
          115513.2109375,
          214932.71875,
          153745.125,
          181285.6875,
          239051.09375,
          121628.3515625,
          206565.21875,
          109327.8359375,
          157947.125,
          144886.65625,
          193821.921875,
          119400.2421875,
          232218.375,
          201419.71875,
          196314.046875,
          270497.6875,
          177374.90625,
          183388,
          199080.875,
          130152.8671875,
          164643,
          122738.6171875,
          186166.125,
          143642.65625,
          186391.359375,
          163896.28125,
          155351.46875,
          127684.890625,
          108800.375,
          156027.25,
          245796.234375,
          91971.2421875,
          162958.0625,
          284513.6875,
          266850.21875,
          172402.59375,
          149187.140625,
          199361.53125,
          244397.46875,
          131396.78125,
          95593.1484375,
          142043.84375,
          175985.34375,
          192047.125,
          154683.0625,
          114469.4921875,
          199677.953125,
          146134.5625,
          153945.734375,
          137310.75,
          162519.875,
          111816.8671875,
          111437.875,
          307274.1875,
          130329.3671875,
          130056.4921875,
          138857.375,
          173409.21875,
          154545.3125,
          136145.65625,
          145158,
          320367.25,
          158138.71875,
          250606.359375,
          136076.75,
          135885.28125,
          152730.75,
          112975.2890625,
          125021.4453125,
          132429.78125,
          122765.4296875,
          179800.25,
          98855.0546875,
          104935.125,
          132199.25,
          288055.3125,
          106983.890625,
          178555.125,
          204026.03125,
          101703.296875,
          159676.421875,
          211849.515625,
          184256.5,
          327266.125,
          127990.3046875,
          120615.1640625,
          294507.625,
          278070.8125,
          153703,
          155845.859375,
          127642.5546875,
          126308.5390625,
          126651.1171875,
          163131.75,
          204384.109375,
          165376.328125,
          177523.875,
          143328.4375,
          177013.96875,
          192522.28125,
          142196.6875,
          171741.515625,
          132755,
          262725.9375,
          211075.34375,
          108949.1953125,
          147078.140625,
          216769.5625,
          248264.34375,
          144365.625,
          119693.109375,
          116619.0546875
         ],
         "yaxis": "y"
        }
       ],
       "layout": {
        "legend": {
         "tracegroupgap": 0
        },
        "margin": {
         "t": 60
        },
        "shapes": [
         {
          "line": {
           "color": "Red"
          },
          "type": "line",
          "x0": 70000,
          "x1": 380000,
          "xref": "x",
          "y0": 70000,
          "y1": 380000,
          "yref": "y"
         }
        ],
        "template": {
         "data": {
          "bar": [
           {
            "error_x": {
             "color": "#2a3f5f"
            },
            "error_y": {
             "color": "#2a3f5f"
            },
            "marker": {
             "line": {
              "color": "#E5ECF6",
              "width": 0.5
             },
             "pattern": {
              "fillmode": "overlay",
              "size": 10,
              "solidity": 0.2
             }
            },
            "type": "bar"
           }
          ],
          "barpolar": [
           {
            "marker": {
             "line": {
              "color": "#E5ECF6",
              "width": 0.5
             },
             "pattern": {
              "fillmode": "overlay",
              "size": 10,
              "solidity": 0.2
             }
            },
            "type": "barpolar"
           }
          ],
          "carpet": [
           {
            "aaxis": {
             "endlinecolor": "#2a3f5f",
             "gridcolor": "white",
             "linecolor": "white",
             "minorgridcolor": "white",
             "startlinecolor": "#2a3f5f"
            },
            "baxis": {
             "endlinecolor": "#2a3f5f",
             "gridcolor": "white",
             "linecolor": "white",
             "minorgridcolor": "white",
             "startlinecolor": "#2a3f5f"
            },
            "type": "carpet"
           }
          ],
          "choropleth": [
           {
            "colorbar": {
             "outlinewidth": 0,
             "ticks": ""
            },
            "type": "choropleth"
           }
          ],
          "contour": [
           {
            "colorbar": {
             "outlinewidth": 0,
             "ticks": ""
            },
            "colorscale": [
             [
              0,
              "#0d0887"
             ],
             [
              0.1111111111111111,
              "#46039f"
             ],
             [
              0.2222222222222222,
              "#7201a8"
             ],
             [
              0.3333333333333333,
              "#9c179e"
             ],
             [
              0.4444444444444444,
              "#bd3786"
             ],
             [
              0.5555555555555556,
              "#d8576b"
             ],
             [
              0.6666666666666666,
              "#ed7953"
             ],
             [
              0.7777777777777778,
              "#fb9f3a"
             ],
             [
              0.8888888888888888,
              "#fdca26"
             ],
             [
              1,
              "#f0f921"
             ]
            ],
            "type": "contour"
           }
          ],
          "contourcarpet": [
           {
            "colorbar": {
             "outlinewidth": 0,
             "ticks": ""
            },
            "type": "contourcarpet"
           }
          ],
          "heatmap": [
           {
            "colorbar": {
             "outlinewidth": 0,
             "ticks": ""
            },
            "colorscale": [
             [
              0,
              "#0d0887"
             ],
             [
              0.1111111111111111,
              "#46039f"
             ],
             [
              0.2222222222222222,
              "#7201a8"
             ],
             [
              0.3333333333333333,
              "#9c179e"
             ],
             [
              0.4444444444444444,
              "#bd3786"
             ],
             [
              0.5555555555555556,
              "#d8576b"
             ],
             [
              0.6666666666666666,
              "#ed7953"
             ],
             [
              0.7777777777777778,
              "#fb9f3a"
             ],
             [
              0.8888888888888888,
              "#fdca26"
             ],
             [
              1,
              "#f0f921"
             ]
            ],
            "type": "heatmap"
           }
          ],
          "heatmapgl": [
           {
            "colorbar": {
             "outlinewidth": 0,
             "ticks": ""
            },
            "colorscale": [
             [
              0,
              "#0d0887"
             ],
             [
              0.1111111111111111,
              "#46039f"
             ],
             [
              0.2222222222222222,
              "#7201a8"
             ],
             [
              0.3333333333333333,
              "#9c179e"
             ],
             [
              0.4444444444444444,
              "#bd3786"
             ],
             [
              0.5555555555555556,
              "#d8576b"
             ],
             [
              0.6666666666666666,
              "#ed7953"
             ],
             [
              0.7777777777777778,
              "#fb9f3a"
             ],
             [
              0.8888888888888888,
              "#fdca26"
             ],
             [
              1,
              "#f0f921"
             ]
            ],
            "type": "heatmapgl"
           }
          ],
          "histogram": [
           {
            "marker": {
             "pattern": {
              "fillmode": "overlay",
              "size": 10,
              "solidity": 0.2
             }
            },
            "type": "histogram"
           }
          ],
          "histogram2d": [
           {
            "colorbar": {
             "outlinewidth": 0,
             "ticks": ""
            },
            "colorscale": [
             [
              0,
              "#0d0887"
             ],
             [
              0.1111111111111111,
              "#46039f"
             ],
             [
              0.2222222222222222,
              "#7201a8"
             ],
             [
              0.3333333333333333,
              "#9c179e"
             ],
             [
              0.4444444444444444,
              "#bd3786"
             ],
             [
              0.5555555555555556,
              "#d8576b"
             ],
             [
              0.6666666666666666,
              "#ed7953"
             ],
             [
              0.7777777777777778,
              "#fb9f3a"
             ],
             [
              0.8888888888888888,
              "#fdca26"
             ],
             [
              1,
              "#f0f921"
             ]
            ],
            "type": "histogram2d"
           }
          ],
          "histogram2dcontour": [
           {
            "colorbar": {
             "outlinewidth": 0,
             "ticks": ""
            },
            "colorscale": [
             [
              0,
              "#0d0887"
             ],
             [
              0.1111111111111111,
              "#46039f"
             ],
             [
              0.2222222222222222,
              "#7201a8"
             ],
             [
              0.3333333333333333,
              "#9c179e"
             ],
             [
              0.4444444444444444,
              "#bd3786"
             ],
             [
              0.5555555555555556,
              "#d8576b"
             ],
             [
              0.6666666666666666,
              "#ed7953"
             ],
             [
              0.7777777777777778,
              "#fb9f3a"
             ],
             [
              0.8888888888888888,
              "#fdca26"
             ],
             [
              1,
              "#f0f921"
             ]
            ],
            "type": "histogram2dcontour"
           }
          ],
          "mesh3d": [
           {
            "colorbar": {
             "outlinewidth": 0,
             "ticks": ""
            },
            "type": "mesh3d"
           }
          ],
          "parcoords": [
           {
            "line": {
             "colorbar": {
              "outlinewidth": 0,
              "ticks": ""
             }
            },
            "type": "parcoords"
           }
          ],
          "pie": [
           {
            "automargin": true,
            "type": "pie"
           }
          ],
          "scatter": [
           {
            "fillpattern": {
             "fillmode": "overlay",
             "size": 10,
             "solidity": 0.2
            },
            "type": "scatter"
           }
          ],
          "scatter3d": [
           {
            "line": {
             "colorbar": {
              "outlinewidth": 0,
              "ticks": ""
             }
            },
            "marker": {
             "colorbar": {
              "outlinewidth": 0,
              "ticks": ""
             }
            },
            "type": "scatter3d"
           }
          ],
          "scattercarpet": [
           {
            "marker": {
             "colorbar": {
              "outlinewidth": 0,
              "ticks": ""
             }
            },
            "type": "scattercarpet"
           }
          ],
          "scattergeo": [
           {
            "marker": {
             "colorbar": {
              "outlinewidth": 0,
              "ticks": ""
             }
            },
            "type": "scattergeo"
           }
          ],
          "scattergl": [
           {
            "marker": {
             "colorbar": {
              "outlinewidth": 0,
              "ticks": ""
             }
            },
            "type": "scattergl"
           }
          ],
          "scattermapbox": [
           {
            "marker": {
             "colorbar": {
              "outlinewidth": 0,
              "ticks": ""
             }
            },
            "type": "scattermapbox"
           }
          ],
          "scatterpolar": [
           {
            "marker": {
             "colorbar": {
              "outlinewidth": 0,
              "ticks": ""
             }
            },
            "type": "scatterpolar"
           }
          ],
          "scatterpolargl": [
           {
            "marker": {
             "colorbar": {
              "outlinewidth": 0,
              "ticks": ""
             }
            },
            "type": "scatterpolargl"
           }
          ],
          "scatterternary": [
           {
            "marker": {
             "colorbar": {
              "outlinewidth": 0,
              "ticks": ""
             }
            },
            "type": "scatterternary"
           }
          ],
          "surface": [
           {
            "colorbar": {
             "outlinewidth": 0,
             "ticks": ""
            },
            "colorscale": [
             [
              0,
              "#0d0887"
             ],
             [
              0.1111111111111111,
              "#46039f"
             ],
             [
              0.2222222222222222,
              "#7201a8"
             ],
             [
              0.3333333333333333,
              "#9c179e"
             ],
             [
              0.4444444444444444,
              "#bd3786"
             ],
             [
              0.5555555555555556,
              "#d8576b"
             ],
             [
              0.6666666666666666,
              "#ed7953"
             ],
             [
              0.7777777777777778,
              "#fb9f3a"
             ],
             [
              0.8888888888888888,
              "#fdca26"
             ],
             [
              1,
              "#f0f921"
             ]
            ],
            "type": "surface"
           }
          ],
          "table": [
           {
            "cells": {
             "fill": {
              "color": "#EBF0F8"
             },
             "line": {
              "color": "white"
             }
            },
            "header": {
             "fill": {
              "color": "#C8D4E3"
             },
             "line": {
              "color": "white"
             }
            },
            "type": "table"
           }
          ]
         },
         "layout": {
          "annotationdefaults": {
           "arrowcolor": "#2a3f5f",
           "arrowhead": 0,
           "arrowwidth": 1
          },
          "autotypenumbers": "strict",
          "coloraxis": {
           "colorbar": {
            "outlinewidth": 0,
            "ticks": ""
           }
          },
          "colorscale": {
           "diverging": [
            [
             0,
             "#8e0152"
            ],
            [
             0.1,
             "#c51b7d"
            ],
            [
             0.2,
             "#de77ae"
            ],
            [
             0.3,
             "#f1b6da"
            ],
            [
             0.4,
             "#fde0ef"
            ],
            [
             0.5,
             "#f7f7f7"
            ],
            [
             0.6,
             "#e6f5d0"
            ],
            [
             0.7,
             "#b8e186"
            ],
            [
             0.8,
             "#7fbc41"
            ],
            [
             0.9,
             "#4d9221"
            ],
            [
             1,
             "#276419"
            ]
           ],
           "sequential": [
            [
             0,
             "#0d0887"
            ],
            [
             0.1111111111111111,
             "#46039f"
            ],
            [
             0.2222222222222222,
             "#7201a8"
            ],
            [
             0.3333333333333333,
             "#9c179e"
            ],
            [
             0.4444444444444444,
             "#bd3786"
            ],
            [
             0.5555555555555556,
             "#d8576b"
            ],
            [
             0.6666666666666666,
             "#ed7953"
            ],
            [
             0.7777777777777778,
             "#fb9f3a"
            ],
            [
             0.8888888888888888,
             "#fdca26"
            ],
            [
             1,
             "#f0f921"
            ]
           ],
           "sequentialminus": [
            [
             0,
             "#0d0887"
            ],
            [
             0.1111111111111111,
             "#46039f"
            ],
            [
             0.2222222222222222,
             "#7201a8"
            ],
            [
             0.3333333333333333,
             "#9c179e"
            ],
            [
             0.4444444444444444,
             "#bd3786"
            ],
            [
             0.5555555555555556,
             "#d8576b"
            ],
            [
             0.6666666666666666,
             "#ed7953"
            ],
            [
             0.7777777777777778,
             "#fb9f3a"
            ],
            [
             0.8888888888888888,
             "#fdca26"
            ],
            [
             1,
             "#f0f921"
            ]
           ]
          },
          "colorway": [
           "#636efa",
           "#EF553B",
           "#00cc96",
           "#ab63fa",
           "#FFA15A",
           "#19d3f3",
           "#FF6692",
           "#B6E880",
           "#FF97FF",
           "#FECB52"
          ],
          "font": {
           "color": "#2a3f5f"
          },
          "geo": {
           "bgcolor": "white",
           "lakecolor": "white",
           "landcolor": "#E5ECF6",
           "showlakes": true,
           "showland": true,
           "subunitcolor": "white"
          },
          "hoverlabel": {
           "align": "left"
          },
          "hovermode": "closest",
          "mapbox": {
           "style": "light"
          },
          "paper_bgcolor": "white",
          "plot_bgcolor": "#E5ECF6",
          "polar": {
           "angularaxis": {
            "gridcolor": "white",
            "linecolor": "white",
            "ticks": ""
           },
           "bgcolor": "#E5ECF6",
           "radialaxis": {
            "gridcolor": "white",
            "linecolor": "white",
            "ticks": ""
           }
          },
          "scene": {
           "xaxis": {
            "backgroundcolor": "#E5ECF6",
            "gridcolor": "white",
            "gridwidth": 2,
            "linecolor": "white",
            "showbackground": true,
            "ticks": "",
            "zerolinecolor": "white"
           },
           "yaxis": {
            "backgroundcolor": "#E5ECF6",
            "gridcolor": "white",
            "gridwidth": 2,
            "linecolor": "white",
            "showbackground": true,
            "ticks": "",
            "zerolinecolor": "white"
           },
           "zaxis": {
            "backgroundcolor": "#E5ECF6",
            "gridcolor": "white",
            "gridwidth": 2,
            "linecolor": "white",
            "showbackground": true,
            "ticks": "",
            "zerolinecolor": "white"
           }
          },
          "shapedefaults": {
           "line": {
            "color": "#2a3f5f"
           }
          },
          "ternary": {
           "aaxis": {
            "gridcolor": "white",
            "linecolor": "white",
            "ticks": ""
           },
           "baxis": {
            "gridcolor": "white",
            "linecolor": "white",
            "ticks": ""
           },
           "bgcolor": "#E5ECF6",
           "caxis": {
            "gridcolor": "white",
            "linecolor": "white",
            "ticks": ""
           }
          },
          "title": {
           "x": 0.05
          },
          "xaxis": {
           "automargin": true,
           "gridcolor": "white",
           "linecolor": "white",
           "ticks": "",
           "title": {
            "standoff": 15
           },
           "zerolinecolor": "white",
           "zerolinewidth": 2
          },
          "yaxis": {
           "automargin": true,
           "gridcolor": "white",
           "linecolor": "white",
           "ticks": "",
           "title": {
            "standoff": 15
           },
           "zerolinecolor": "white",
           "zerolinewidth": 2
          }
         }
        },
        "xaxis": {
         "anchor": "y",
         "domain": [
          0,
          1
         ],
         "range": [
          50000,
          400000
         ],
         "title": {
          "text": "Actual"
         }
        },
        "yaxis": {
         "anchor": "x",
         "domain": [
          0,
          1
         ],
         "range": [
          50000,
          400000
         ],
         "title": {
          "text": "Predicted"
         }
        }
       }
      },
      "text/html": [
       "<div>                            <div id=\"300e0e78-82ee-40a4-99c5-fe49a256fee7\" class=\"plotly-graph-div\" style=\"height:525px; width:100%;\"></div>            <script type=\"text/javascript\">                require([\"plotly\"], function(Plotly) {                    window.PLOTLYENV=window.PLOTLYENV || {};                                    if (document.getElementById(\"300e0e78-82ee-40a4-99c5-fe49a256fee7\")) {                    Plotly.newPlot(                        \"300e0e78-82ee-40a4-99c5-fe49a256fee7\",                        [{\"hovertemplate\":\"Actual=%{x}<br>Predicted=%{y}<extra></extra>\",\"legendgroup\":\"\",\"marker\":{\"color\":\"#636efa\",\"symbol\":\"circle\"},\"mode\":\"markers\",\"name\":\"\",\"orientation\":\"v\",\"showlegend\":false,\"x\":[160200,214900,123000,214000,174000,211000,241500,132500,228500,106000,170000,175000,181134,127500,205000,188000,208500,328900,142500,171000,190000,142500,185000,153900,184100,138000,136000,131000,175000,134900,154900,177000,261500,89000,176000,267000,271000,190000,154000,210000,280000,165500,121600,148000,208300,202665,158000,116000,189000,165000,152000,180500,173000,109500,87000,315000,145000,119000,124500,201000,163000,148000,149350,326000,90000,235000,138000,144000,149900,91000,175000,155000,132000,169990,78000,116000,130000,370878,105000,189000,181000,82000,119000,190000,186500,394432,150000,132500,310000,316600,143900,172500,134900,140000,115000,181000,184000,167000,188500,155000,174000,207000,139900,185000,145000,249700,223000,83500,137450,195000,269500,153000,128900,110000],\"xaxis\":\"x\",\"y\":[166952.875,209740.0625,115513.2109375,214932.71875,153745.125,181285.6875,239051.09375,121628.3515625,206565.21875,109327.8359375,157947.125,144886.65625,193821.921875,119400.2421875,232218.375,201419.71875,196314.046875,270497.6875,177374.90625,183388.0,199080.875,130152.8671875,164643.0,122738.6171875,186166.125,143642.65625,186391.359375,163896.28125,155351.46875,127684.890625,108800.375,156027.25,245796.234375,91971.2421875,162958.0625,284513.6875,266850.21875,172402.59375,149187.140625,199361.53125,244397.46875,131396.78125,95593.1484375,142043.84375,175985.34375,192047.125,154683.0625,114469.4921875,199677.953125,146134.5625,153945.734375,137310.75,162519.875,111816.8671875,111437.875,307274.1875,130329.3671875,130056.4921875,138857.375,173409.21875,154545.3125,136145.65625,145158.0,320367.25,158138.71875,250606.359375,136076.75,135885.28125,152730.75,112975.2890625,125021.4453125,132429.78125,122765.4296875,179800.25,98855.0546875,104935.125,132199.25,288055.3125,106983.890625,178555.125,204026.03125,101703.296875,159676.421875,211849.515625,184256.5,327266.125,127990.3046875,120615.1640625,294507.625,278070.8125,153703.0,155845.859375,127642.5546875,126308.5390625,126651.1171875,163131.75,204384.109375,165376.328125,177523.875,143328.4375,177013.96875,192522.28125,142196.6875,171741.515625,132755.0,262725.9375,211075.34375,108949.1953125,147078.140625,216769.5625,248264.34375,144365.625,119693.109375,116619.0546875],\"yaxis\":\"y\",\"type\":\"scatter\"}],                        {\"template\":{\"data\":{\"histogram2dcontour\":[{\"type\":\"histogram2dcontour\",\"colorbar\":{\"outlinewidth\":0,\"ticks\":\"\"},\"colorscale\":[[0.0,\"#0d0887\"],[0.1111111111111111,\"#46039f\"],[0.2222222222222222,\"#7201a8\"],[0.3333333333333333,\"#9c179e\"],[0.4444444444444444,\"#bd3786\"],[0.5555555555555556,\"#d8576b\"],[0.6666666666666666,\"#ed7953\"],[0.7777777777777778,\"#fb9f3a\"],[0.8888888888888888,\"#fdca26\"],[1.0,\"#f0f921\"]]}],\"choropleth\":[{\"type\":\"choropleth\",\"colorbar\":{\"outlinewidth\":0,\"ticks\":\"\"}}],\"histogram2d\":[{\"type\":\"histogram2d\",\"colorbar\":{\"outlinewidth\":0,\"ticks\":\"\"},\"colorscale\":[[0.0,\"#0d0887\"],[0.1111111111111111,\"#46039f\"],[0.2222222222222222,\"#7201a8\"],[0.3333333333333333,\"#9c179e\"],[0.4444444444444444,\"#bd3786\"],[0.5555555555555556,\"#d8576b\"],[0.6666666666666666,\"#ed7953\"],[0.7777777777777778,\"#fb9f3a\"],[0.8888888888888888,\"#fdca26\"],[1.0,\"#f0f921\"]]}],\"heatmap\":[{\"type\":\"heatmap\",\"colorbar\":{\"outlinewidth\":0,\"ticks\":\"\"},\"colorscale\":[[0.0,\"#0d0887\"],[0.1111111111111111,\"#46039f\"],[0.2222222222222222,\"#7201a8\"],[0.3333333333333333,\"#9c179e\"],[0.4444444444444444,\"#bd3786\"],[0.5555555555555556,\"#d8576b\"],[0.6666666666666666,\"#ed7953\"],[0.7777777777777778,\"#fb9f3a\"],[0.8888888888888888,\"#fdca26\"],[1.0,\"#f0f921\"]]}],\"heatmapgl\":[{\"type\":\"heatmapgl\",\"colorbar\":{\"outlinewidth\":0,\"ticks\":\"\"},\"colorscale\":[[0.0,\"#0d0887\"],[0.1111111111111111,\"#46039f\"],[0.2222222222222222,\"#7201a8\"],[0.3333333333333333,\"#9c179e\"],[0.4444444444444444,\"#bd3786\"],[0.5555555555555556,\"#d8576b\"],[0.6666666666666666,\"#ed7953\"],[0.7777777777777778,\"#fb9f3a\"],[0.8888888888888888,\"#fdca26\"],[1.0,\"#f0f921\"]]}],\"contourcarpet\":[{\"type\":\"contourcarpet\",\"colorbar\":{\"outlinewidth\":0,\"ticks\":\"\"}}],\"contour\":[{\"type\":\"contour\",\"colorbar\":{\"outlinewidth\":0,\"ticks\":\"\"},\"colorscale\":[[0.0,\"#0d0887\"],[0.1111111111111111,\"#46039f\"],[0.2222222222222222,\"#7201a8\"],[0.3333333333333333,\"#9c179e\"],[0.4444444444444444,\"#bd3786\"],[0.5555555555555556,\"#d8576b\"],[0.6666666666666666,\"#ed7953\"],[0.7777777777777778,\"#fb9f3a\"],[0.8888888888888888,\"#fdca26\"],[1.0,\"#f0f921\"]]}],\"surface\":[{\"type\":\"surface\",\"colorbar\":{\"outlinewidth\":0,\"ticks\":\"\"},\"colorscale\":[[0.0,\"#0d0887\"],[0.1111111111111111,\"#46039f\"],[0.2222222222222222,\"#7201a8\"],[0.3333333333333333,\"#9c179e\"],[0.4444444444444444,\"#bd3786\"],[0.5555555555555556,\"#d8576b\"],[0.6666666666666666,\"#ed7953\"],[0.7777777777777778,\"#fb9f3a\"],[0.8888888888888888,\"#fdca26\"],[1.0,\"#f0f921\"]]}],\"mesh3d\":[{\"type\":\"mesh3d\",\"colorbar\":{\"outlinewidth\":0,\"ticks\":\"\"}}],\"scatter\":[{\"fillpattern\":{\"fillmode\":\"overlay\",\"size\":10,\"solidity\":0.2},\"type\":\"scatter\"}],\"parcoords\":[{\"type\":\"parcoords\",\"line\":{\"colorbar\":{\"outlinewidth\":0,\"ticks\":\"\"}}}],\"scatterpolargl\":[{\"type\":\"scatterpolargl\",\"marker\":{\"colorbar\":{\"outlinewidth\":0,\"ticks\":\"\"}}}],\"bar\":[{\"error_x\":{\"color\":\"#2a3f5f\"},\"error_y\":{\"color\":\"#2a3f5f\"},\"marker\":{\"line\":{\"color\":\"#E5ECF6\",\"width\":0.5},\"pattern\":{\"fillmode\":\"overlay\",\"size\":10,\"solidity\":0.2}},\"type\":\"bar\"}],\"scattergeo\":[{\"type\":\"scattergeo\",\"marker\":{\"colorbar\":{\"outlinewidth\":0,\"ticks\":\"\"}}}],\"scatterpolar\":[{\"type\":\"scatterpolar\",\"marker\":{\"colorbar\":{\"outlinewidth\":0,\"ticks\":\"\"}}}],\"histogram\":[{\"marker\":{\"pattern\":{\"fillmode\":\"overlay\",\"size\":10,\"solidity\":0.2}},\"type\":\"histogram\"}],\"scattergl\":[{\"type\":\"scattergl\",\"marker\":{\"colorbar\":{\"outlinewidth\":0,\"ticks\":\"\"}}}],\"scatter3d\":[{\"type\":\"scatter3d\",\"line\":{\"colorbar\":{\"outlinewidth\":0,\"ticks\":\"\"}},\"marker\":{\"colorbar\":{\"outlinewidth\":0,\"ticks\":\"\"}}}],\"scattermapbox\":[{\"type\":\"scattermapbox\",\"marker\":{\"colorbar\":{\"outlinewidth\":0,\"ticks\":\"\"}}}],\"scatterternary\":[{\"type\":\"scatterternary\",\"marker\":{\"colorbar\":{\"outlinewidth\":0,\"ticks\":\"\"}}}],\"scattercarpet\":[{\"type\":\"scattercarpet\",\"marker\":{\"colorbar\":{\"outlinewidth\":0,\"ticks\":\"\"}}}],\"carpet\":[{\"aaxis\":{\"endlinecolor\":\"#2a3f5f\",\"gridcolor\":\"white\",\"linecolor\":\"white\",\"minorgridcolor\":\"white\",\"startlinecolor\":\"#2a3f5f\"},\"baxis\":{\"endlinecolor\":\"#2a3f5f\",\"gridcolor\":\"white\",\"linecolor\":\"white\",\"minorgridcolor\":\"white\",\"startlinecolor\":\"#2a3f5f\"},\"type\":\"carpet\"}],\"table\":[{\"cells\":{\"fill\":{\"color\":\"#EBF0F8\"},\"line\":{\"color\":\"white\"}},\"header\":{\"fill\":{\"color\":\"#C8D4E3\"},\"line\":{\"color\":\"white\"}},\"type\":\"table\"}],\"barpolar\":[{\"marker\":{\"line\":{\"color\":\"#E5ECF6\",\"width\":0.5},\"pattern\":{\"fillmode\":\"overlay\",\"size\":10,\"solidity\":0.2}},\"type\":\"barpolar\"}],\"pie\":[{\"automargin\":true,\"type\":\"pie\"}]},\"layout\":{\"autotypenumbers\":\"strict\",\"colorway\":[\"#636efa\",\"#EF553B\",\"#00cc96\",\"#ab63fa\",\"#FFA15A\",\"#19d3f3\",\"#FF6692\",\"#B6E880\",\"#FF97FF\",\"#FECB52\"],\"font\":{\"color\":\"#2a3f5f\"},\"hovermode\":\"closest\",\"hoverlabel\":{\"align\":\"left\"},\"paper_bgcolor\":\"white\",\"plot_bgcolor\":\"#E5ECF6\",\"polar\":{\"bgcolor\":\"#E5ECF6\",\"angularaxis\":{\"gridcolor\":\"white\",\"linecolor\":\"white\",\"ticks\":\"\"},\"radialaxis\":{\"gridcolor\":\"white\",\"linecolor\":\"white\",\"ticks\":\"\"}},\"ternary\":{\"bgcolor\":\"#E5ECF6\",\"aaxis\":{\"gridcolor\":\"white\",\"linecolor\":\"white\",\"ticks\":\"\"},\"baxis\":{\"gridcolor\":\"white\",\"linecolor\":\"white\",\"ticks\":\"\"},\"caxis\":{\"gridcolor\":\"white\",\"linecolor\":\"white\",\"ticks\":\"\"}},\"coloraxis\":{\"colorbar\":{\"outlinewidth\":0,\"ticks\":\"\"}},\"colorscale\":{\"sequential\":[[0.0,\"#0d0887\"],[0.1111111111111111,\"#46039f\"],[0.2222222222222222,\"#7201a8\"],[0.3333333333333333,\"#9c179e\"],[0.4444444444444444,\"#bd3786\"],[0.5555555555555556,\"#d8576b\"],[0.6666666666666666,\"#ed7953\"],[0.7777777777777778,\"#fb9f3a\"],[0.8888888888888888,\"#fdca26\"],[1.0,\"#f0f921\"]],\"sequentialminus\":[[0.0,\"#0d0887\"],[0.1111111111111111,\"#46039f\"],[0.2222222222222222,\"#7201a8\"],[0.3333333333333333,\"#9c179e\"],[0.4444444444444444,\"#bd3786\"],[0.5555555555555556,\"#d8576b\"],[0.6666666666666666,\"#ed7953\"],[0.7777777777777778,\"#fb9f3a\"],[0.8888888888888888,\"#fdca26\"],[1.0,\"#f0f921\"]],\"diverging\":[[0,\"#8e0152\"],[0.1,\"#c51b7d\"],[0.2,\"#de77ae\"],[0.3,\"#f1b6da\"],[0.4,\"#fde0ef\"],[0.5,\"#f7f7f7\"],[0.6,\"#e6f5d0\"],[0.7,\"#b8e186\"],[0.8,\"#7fbc41\"],[0.9,\"#4d9221\"],[1,\"#276419\"]]},\"xaxis\":{\"gridcolor\":\"white\",\"linecolor\":\"white\",\"ticks\":\"\",\"title\":{\"standoff\":15},\"zerolinecolor\":\"white\",\"automargin\":true,\"zerolinewidth\":2},\"yaxis\":{\"gridcolor\":\"white\",\"linecolor\":\"white\",\"ticks\":\"\",\"title\":{\"standoff\":15},\"zerolinecolor\":\"white\",\"automargin\":true,\"zerolinewidth\":2},\"scene\":{\"xaxis\":{\"backgroundcolor\":\"#E5ECF6\",\"gridcolor\":\"white\",\"linecolor\":\"white\",\"showbackground\":true,\"ticks\":\"\",\"zerolinecolor\":\"white\",\"gridwidth\":2},\"yaxis\":{\"backgroundcolor\":\"#E5ECF6\",\"gridcolor\":\"white\",\"linecolor\":\"white\",\"showbackground\":true,\"ticks\":\"\",\"zerolinecolor\":\"white\",\"gridwidth\":2},\"zaxis\":{\"backgroundcolor\":\"#E5ECF6\",\"gridcolor\":\"white\",\"linecolor\":\"white\",\"showbackground\":true,\"ticks\":\"\",\"zerolinecolor\":\"white\",\"gridwidth\":2}},\"shapedefaults\":{\"line\":{\"color\":\"#2a3f5f\"}},\"annotationdefaults\":{\"arrowcolor\":\"#2a3f5f\",\"arrowhead\":0,\"arrowwidth\":1},\"geo\":{\"bgcolor\":\"white\",\"landcolor\":\"#E5ECF6\",\"subunitcolor\":\"white\",\"showland\":true,\"showlakes\":true,\"lakecolor\":\"white\"},\"title\":{\"x\":0.05},\"mapbox\":{\"style\":\"light\"}}},\"xaxis\":{\"anchor\":\"y\",\"domain\":[0.0,1.0],\"title\":{\"text\":\"Actual\"},\"range\":[50000,400000]},\"yaxis\":{\"anchor\":\"x\",\"domain\":[0.0,1.0],\"title\":{\"text\":\"Predicted\"},\"range\":[50000,400000]},\"legend\":{\"tracegroupgap\":0},\"margin\":{\"t\":60},\"shapes\":[{\"line\":{\"color\":\"Red\"},\"type\":\"line\",\"x0\":70000,\"x1\":380000,\"xref\":\"x\",\"y0\":70000,\"y1\":380000,\"yref\":\"y\"}]},                        {\"responsive\": true}                    ).then(function(){\n",
       "                            \n",
       "var gd = document.getElementById('300e0e78-82ee-40a4-99c5-fe49a256fee7');\n",
       "var x = new MutationObserver(function (mutations, observer) {{\n",
       "        var display = window.getComputedStyle(gd).display;\n",
       "        if (!display || display === 'none') {{\n",
       "            console.log([gd, 'removed!']);\n",
       "            Plotly.purge(gd);\n",
       "            observer.disconnect();\n",
       "        }}\n",
       "}});\n",
       "\n",
       "// Listen for the removal of the full notebook cells\n",
       "var notebookContainer = gd.closest('#notebook-container');\n",
       "if (notebookContainer) {{\n",
       "    x.observe(notebookContainer, {childList: true});\n",
       "}}\n",
       "\n",
       "// Listen for the clearing of the current output cell\n",
       "var outputEl = gd.closest('.output');\n",
       "if (outputEl) {{\n",
       "    x.observe(outputEl, {childList: true});\n",
       "}}\n",
       "\n",
       "                        })                };                });            </script>        </div>"
      ]
     },
     "metadata": {},
     "output_type": "display_data"
    }
   ],
   "source": [
    "fig=px.scatter({'Actual':list(Y_test),'Predicted':list(Y_test_prediction)},\n",
    "           x='Actual',\n",
    "           y='Predicted',\n",
    "           range_x=[50_000,400_000],range_y=[50_000,400_000])\n",
    "\n",
    "fig.add_shape(type='line',\n",
    "                x0=70_000,\n",
    "                y0=70_000,\n",
    "                x1=380_000,\n",
    "                y1=380_000,\n",
    "                line=dict(color='Red',),\n",
    "                xref='x',\n",
    "                yref='y'\n",
    ")\n",
    "fig"
   ]
  },
  {
   "cell_type": "code",
   "execution_count": null,
   "id": "813b939c",
   "metadata": {},
   "outputs": [],
   "source": []
  }
 ],
 "metadata": {
  "kernelspec": {
   "display_name": "Python 3 (ipykernel)",
   "language": "python",
   "name": "python3"
  },
  "language_info": {
   "codemirror_mode": {
    "name": "ipython",
    "version": 3
   },
   "file_extension": ".py",
   "mimetype": "text/x-python",
   "name": "python",
   "nbconvert_exporter": "python",
   "pygments_lexer": "ipython3",
   "version": "3.9.13"
  }
 },
 "nbformat": 4,
 "nbformat_minor": 5
}
