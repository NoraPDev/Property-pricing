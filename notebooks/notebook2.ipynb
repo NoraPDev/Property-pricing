{
 "cells": [
  {
   "cell_type": "markdown",
   "id": "c1a9788f",
   "metadata": {},
   "source": [
    "## Data analysis\n",
    "### This notebook is for anlysing the housing prices"
   ]
  },
  {
   "cell_type": "markdown",
   "id": "a355f930",
   "metadata": {},
   "source": [
    "Importing packages and installing them if they are not installed yet"
   ]
  },
  {
   "cell_type": "code",
   "execution_count": 1,
   "id": "71f845f0",
   "metadata": {},
   "outputs": [],
   "source": [
    "try:\n",
    "    import pandas as pd\n",
    "    from ydata_profiling import ProfileReport\n",
    "    import plotly.express as px \n",
    "except:\n",
    "    !pip install ydata-profiling\n",
    "    !pip install pandas\n",
    "    !pip install plotly\n",
    "    import pandas as pd\n",
    "    from ydata_profiling import ProfileReport\n",
    "    import plotly.express as px "
   ]
  },
  {
   "cell_type": "markdown",
   "id": "b5d3f854",
   "metadata": {},
   "source": [
    "Loading the data gathered in the previous notebook"
   ]
  },
  {
   "cell_type": "code",
   "execution_count": 2,
   "id": "658f5c30",
   "metadata": {},
   "outputs": [],
   "source": [
    "house_prices = pd.read_pickle('../data/house_prices.pkl')"
   ]
  },
  {
   "cell_type": "markdown",
   "id": "7498b557",
   "metadata": {},
   "source": [
    "Creating profiling"
   ]
  },
  {
   "cell_type": "code",
   "execution_count": 3,
   "id": "96eb0e9f",
   "metadata": {},
   "outputs": [],
   "source": [
    "profiling = ProfileReport(house_prices)"
   ]
  },
  {
   "cell_type": "markdown",
   "id": "b8ea219c",
   "metadata": {},
   "source": [
    "Show profiling results"
   ]
  },
  {
   "cell_type": "code",
   "execution_count": 4,
   "id": "f449b93c",
   "metadata": {},
   "outputs": [
    {
     "data": {
      "application/vnd.jupyter.widget-view+json": {
       "model_id": "",
       "version_major": 2,
       "version_minor": 0
      },
      "text/plain": [
       "Summarize dataset:   0%|          | 0/5 [00:00<?, ?it/s]"
      ]
     },
     "metadata": {},
     "output_type": "display_data"
    },
    {
     "data": {
      "application/vnd.jupyter.widget-view+json": {
       "model_id": "",
       "version_major": 2,
       "version_minor": 0
      },
      "text/plain": [
       "Generate report structure:   0%|          | 0/1 [00:00<?, ?it/s]"
      ]
     },
     "metadata": {},
     "output_type": "display_data"
    },
    {
     "data": {
      "application/vnd.jupyter.widget-view+json": {
       "model_id": "",
       "version_major": 2,
       "version_minor": 0
      },
      "text/plain": [
       "Render HTML:   0%|          | 0/1 [00:00<?, ?it/s]"
      ]
     },
     "metadata": {},
     "output_type": "display_data"
    },
    {
     "data": {
      "application/vnd.jupyter.widget-view+json": {
       "model_id": "",
       "version_major": 2,
       "version_minor": 0
      },
      "text/plain": [
       "Export report to file:   0%|          | 0/1 [00:00<?, ?it/s]"
      ]
     },
     "metadata": {},
     "output_type": "display_data"
    }
   ],
   "source": [
    "profiling.to_file('../data/profiling.html')"
   ]
  },
  {
   "cell_type": "markdown",
   "id": "05fabc04",
   "metadata": {},
   "source": [
    "Select correlations with sale price from profiling result"
   ]
  },
  {
   "cell_type": "code",
   "execution_count": 5,
   "id": "bce834b0",
   "metadata": {},
   "outputs": [],
   "source": [
    "correlations_matrix=profiling.description_set['correlations']['auto']\n",
    "correlations_matrix.to_pickle('../data/correlation_matrix.pkl')\n",
    "correlations = profiling.description_set['correlations']['auto']['SalePrice']"
   ]
  },
  {
   "cell_type": "markdown",
   "id": "58db9481",
   "metadata": {},
   "source": [
    "Drop sales price from correlation and choose columns that have higher than avearage correlation with sale price"
   ]
  },
  {
   "cell_type": "code",
   "execution_count": 6,
   "id": "f0ff50df",
   "metadata": {},
   "outputs": [],
   "source": [
    "correlations.pop('SalePrice')\n",
    "correlations=correlations[correlations>correlations.mean()]"
   ]
  },
  {
   "cell_type": "markdown",
   "id": "30537c3f",
   "metadata": {},
   "source": [
    "Create and save dataset with only columns which show higher than average correlation with sale price"
   ]
  },
  {
   "cell_type": "code",
   "execution_count": 7,
   "id": "efdf8a2b",
   "metadata": {},
   "outputs": [
    {
     "ename": "FileNotFoundError",
     "evalue": "[Errno 2] No such file or directory: '../data/inhereted_houses.pkl'",
     "output_type": "error",
     "traceback": [
      "\u001b[1;31m---------------------------------------------------------------------------\u001b[0m",
      "\u001b[1;31mFileNotFoundError\u001b[0m                         Traceback (most recent call last)",
      "\u001b[1;32m~\\AppData\\Local\\Temp\\ipykernel_13148\\2215210358.py\u001b[0m in \u001b[0;36m<module>\u001b[1;34m\u001b[0m\n\u001b[0;32m      1\u001b[0m \u001b[0mcols_to_keep\u001b[0m\u001b[1;33m=\u001b[0m\u001b[0mcorrelations\u001b[0m\u001b[1;33m.\u001b[0m\u001b[0mindex\u001b[0m\u001b[1;33m.\u001b[0m\u001b[0mto_list\u001b[0m\u001b[1;33m(\u001b[0m\u001b[1;33m)\u001b[0m\u001b[1;33m\u001b[0m\u001b[1;33m\u001b[0m\u001b[0m\n\u001b[1;32m----> 2\u001b[1;33m \u001b[0mcorrelating_data_inhereted\u001b[0m\u001b[1;33m=\u001b[0m\u001b[0mpd\u001b[0m\u001b[1;33m.\u001b[0m\u001b[0mread_pickle\u001b[0m\u001b[1;33m(\u001b[0m\u001b[1;34m'../data/inhereted_houses.pkl'\u001b[0m\u001b[1;33m)\u001b[0m\u001b[1;33m[\u001b[0m\u001b[0mcols_to_keep\u001b[0m\u001b[1;33m]\u001b[0m\u001b[1;33m\u001b[0m\u001b[1;33m\u001b[0m\u001b[0m\n\u001b[0m\u001b[0;32m      3\u001b[0m \u001b[0mcorrelating_data_inhereted\u001b[0m\u001b[1;33m.\u001b[0m\u001b[0mto_pickle\u001b[0m\u001b[1;33m(\u001b[0m\u001b[1;34m'../data/inhereted_houses_corr.pkl'\u001b[0m\u001b[1;33m)\u001b[0m\u001b[1;33m\u001b[0m\u001b[1;33m\u001b[0m\u001b[0m\n\u001b[0;32m      4\u001b[0m \u001b[0mcols_to_keep\u001b[0m\u001b[1;33m.\u001b[0m\u001b[0mappend\u001b[0m\u001b[1;33m(\u001b[0m\u001b[1;34m'SalePrice'\u001b[0m\u001b[1;33m)\u001b[0m\u001b[1;33m\u001b[0m\u001b[1;33m\u001b[0m\u001b[0m\n\u001b[0;32m      5\u001b[0m \u001b[0mcorrelating_data\u001b[0m\u001b[1;33m=\u001b[0m\u001b[0mhouse_prices\u001b[0m\u001b[1;33m[\u001b[0m\u001b[0mcols_to_keep\u001b[0m\u001b[1;33m]\u001b[0m\u001b[1;33m\u001b[0m\u001b[1;33m\u001b[0m\u001b[0m\n",
      "\u001b[1;32m~\\Anaconda3\\lib\\site-packages\\pandas\\io\\pickle.py\u001b[0m in \u001b[0;36mread_pickle\u001b[1;34m(filepath_or_buffer, compression, storage_options)\u001b[0m\n\u001b[0;32m    185\u001b[0m     \"\"\"  # noqa: E501\n\u001b[0;32m    186\u001b[0m     \u001b[0mexcs_to_catch\u001b[0m \u001b[1;33m=\u001b[0m \u001b[1;33m(\u001b[0m\u001b[0mAttributeError\u001b[0m\u001b[1;33m,\u001b[0m \u001b[0mImportError\u001b[0m\u001b[1;33m,\u001b[0m \u001b[0mModuleNotFoundError\u001b[0m\u001b[1;33m,\u001b[0m \u001b[0mTypeError\u001b[0m\u001b[1;33m)\u001b[0m\u001b[1;33m\u001b[0m\u001b[1;33m\u001b[0m\u001b[0m\n\u001b[1;32m--> 187\u001b[1;33m     with get_handle(\n\u001b[0m\u001b[0;32m    188\u001b[0m         \u001b[0mfilepath_or_buffer\u001b[0m\u001b[1;33m,\u001b[0m\u001b[1;33m\u001b[0m\u001b[1;33m\u001b[0m\u001b[0m\n\u001b[0;32m    189\u001b[0m         \u001b[1;34m\"rb\"\u001b[0m\u001b[1;33m,\u001b[0m\u001b[1;33m\u001b[0m\u001b[1;33m\u001b[0m\u001b[0m\n",
      "\u001b[1;32m~\\Anaconda3\\lib\\site-packages\\pandas\\io\\common.py\u001b[0m in \u001b[0;36mget_handle\u001b[1;34m(path_or_buf, mode, encoding, compression, memory_map, is_text, errors, storage_options)\u001b[0m\n\u001b[0;32m    793\u001b[0m         \u001b[1;32melse\u001b[0m\u001b[1;33m:\u001b[0m\u001b[1;33m\u001b[0m\u001b[1;33m\u001b[0m\u001b[0m\n\u001b[0;32m    794\u001b[0m             \u001b[1;31m# Binary mode\u001b[0m\u001b[1;33m\u001b[0m\u001b[1;33m\u001b[0m\u001b[0m\n\u001b[1;32m--> 795\u001b[1;33m             \u001b[0mhandle\u001b[0m \u001b[1;33m=\u001b[0m \u001b[0mopen\u001b[0m\u001b[1;33m(\u001b[0m\u001b[0mhandle\u001b[0m\u001b[1;33m,\u001b[0m \u001b[0mioargs\u001b[0m\u001b[1;33m.\u001b[0m\u001b[0mmode\u001b[0m\u001b[1;33m)\u001b[0m\u001b[1;33m\u001b[0m\u001b[1;33m\u001b[0m\u001b[0m\n\u001b[0m\u001b[0;32m    796\u001b[0m         \u001b[0mhandles\u001b[0m\u001b[1;33m.\u001b[0m\u001b[0mappend\u001b[0m\u001b[1;33m(\u001b[0m\u001b[0mhandle\u001b[0m\u001b[1;33m)\u001b[0m\u001b[1;33m\u001b[0m\u001b[1;33m\u001b[0m\u001b[0m\n\u001b[0;32m    797\u001b[0m \u001b[1;33m\u001b[0m\u001b[0m\n",
      "\u001b[1;31mFileNotFoundError\u001b[0m: [Errno 2] No such file or directory: '../data/inhereted_houses.pkl'"
     ]
    }
   ],
   "source": [
    "cols_to_keep=correlations.index.to_list()\n",
    "correlating_data_inhereted=pd.read_pickle('../data/inhereted_houses.pkl')[cols_to_keep]\n",
    "correlating_data_inhereted.to_pickle('../data/inhereted_houses_corr.pkl')\n",
    "cols_to_keep.append('SalePrice')\n",
    "correlating_data=house_prices[cols_to_keep]\n",
    "correlating_data.to_pickle('../data/house_pricing_corr.pkl')"
   ]
  },
  {
   "cell_type": "code",
   "execution_count": null,
   "id": "b794a35d",
   "metadata": {},
   "outputs": [],
   "source": []
  }
 ],
 "metadata": {
  "kernelspec": {
   "display_name": "Python 3 (ipykernel)",
   "language": "python",
   "name": "python3"
  },
  "language_info": {
   "codemirror_mode": {
    "name": "ipython",
    "version": 3
   },
   "file_extension": ".py",
   "mimetype": "text/x-python",
   "name": "python",
   "nbconvert_exporter": "python",
   "pygments_lexer": "ipython3",
   "version": "3.9.13"
  }
 },
 "nbformat": 4,
 "nbformat_minor": 5
}
