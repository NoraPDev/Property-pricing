{
 "cells": [
  {
   "cell_type": "markdown",
   "id": "09fc4f2d",
   "metadata": {},
   "source": [
    "## Data cleaning\n",
    "### This notebook is for cleaning the house pricing data"
   ]
  },
  {
   "cell_type": "markdown",
   "id": "22e040e8",
   "metadata": {},
   "source": [
    "Importing packages"
   ]
  },
  {
   "cell_type": "code",
   "execution_count": 10,
   "id": "82d6c03e",
   "metadata": {},
   "outputs": [],
   "source": [
    "try:\n",
    "    import pandas as pd\n",
    "    import plotly.express as px \n",
    "    import numpy as np\n",
    "except:\n",
    "    !pip install pandas\n",
    "    !pip install plotly\n",
    "    import pandas as pd\n",
    "    import plotly.express as px "
   ]
  },
  {
   "cell_type": "markdown",
   "id": "caae91b3",
   "metadata": {},
   "source": [
    "Loading the data"
   ]
  },
  {
   "cell_type": "code",
   "execution_count": 11,
   "id": "1d1d2e2f",
   "metadata": {},
   "outputs": [],
   "source": [
    "corr_data = pd.read_pickle('../data/house_pricing_corr.pkl')"
   ]
  },
  {
   "cell_type": "markdown",
   "id": "50f9477b",
   "metadata": {},
   "source": [
    "First I inspect the empty cells column wise"
   ]
  },
  {
   "cell_type": "code",
   "execution_count": 12,
   "id": "afbbeb93",
   "metadata": {},
   "outputs": [
    {
     "name": "stdout",
     "output_type": "stream",
     "text": [
      "1stFlrSF:0\n",
      "GarageArea:0\n",
      "GarageYrBlt:81\n",
      "GrLivArea:0\n",
      "LotArea:0\n",
      "LotFrontage:259\n",
      "MasVnrArea:8\n",
      "OpenPorchSF:0\n",
      "OverallQual:0\n",
      "TotalBsmtSF:0\n",
      "YearBuilt:0\n",
      "YearRemodAdd:0\n",
      "KitchenQual:0\n",
      "SalePrice:0\n"
     ]
    }
   ],
   "source": [
    "for c in corr_data.columns:\n",
    "    print(f'{c}:{corr_data[c].isna().sum()}')"
   ]
  },
  {
   "cell_type": "markdown",
   "id": "7e5ba355",
   "metadata": {},
   "source": [
    "As LotFrontage has a low correlation with the sale price I have decided that this column can be removed, that way I presever as much as possible from the data."
   ]
  },
  {
   "cell_type": "code",
   "execution_count": 13,
   "id": "1f224a06",
   "metadata": {},
   "outputs": [
    {
     "data": {
      "text/plain": [
       "0       65.0\n",
       "1       80.0\n",
       "2       68.0\n",
       "3       60.0\n",
       "4       84.0\n",
       "        ... \n",
       "1455    62.0\n",
       "1456    85.0\n",
       "1457    66.0\n",
       "1458    68.0\n",
       "1459    75.0\n",
       "Name: LotFrontage, Length: 1460, dtype: float64"
      ]
     },
     "execution_count": 13,
     "metadata": {},
     "output_type": "execute_result"
    }
   ],
   "source": [
    "corr_data.pop('LotFrontage')"
   ]
  },
  {
   "cell_type": "markdown",
   "id": "82f84e00",
   "metadata": {},
   "source": [
    "I drop all records with empty cell in it"
   ]
  },
  {
   "cell_type": "code",
   "execution_count": 14,
   "id": "368ba1a9",
   "metadata": {},
   "outputs": [],
   "source": [
    "corr_data_nona=corr_data.dropna()"
   ]
  },
  {
   "cell_type": "markdown",
   "id": "3dbfaf88",
   "metadata": {},
   "source": [
    "Defining a function to find the outlier and return with a boolean series so later I can preserve as much data as I can, since if I remove outliers in an iterating manner, it can cause a loss which is higher than necessary"
   ]
  },
  {
   "cell_type": "code",
   "execution_count": 15,
   "id": "4b559ea7",
   "metadata": {},
   "outputs": [],
   "source": [
    "def removeOutliers(data, col):\n",
    "    Q3 = np.quantile(data[col], 0.75)\n",
    "    Q1 = np.quantile(data[col], 0.25)\n",
    "    IQR = Q3 - Q1 \n",
    "    lower_range = Q1 - 1.5 * IQR\n",
    "    upper_range = Q3 + 1.5 * IQR\n",
    "    data1 = data[col]>lower_range\n",
    "    data2 = data[col]<upper_range\n",
    "    return data1 & data2"
   ]
  },
  {
   "cell_type": "markdown",
   "id": "d0a65701",
   "metadata": {},
   "source": [
    "Removing the outliers"
   ]
  },
  {
   "cell_type": "code",
   "execution_count": 16,
   "id": "abe3fa4b",
   "metadata": {},
   "outputs": [
    {
     "name": "stdout",
     "output_type": "stream",
     "text": [
      "ufunc 'subtract' did not contain a loop with signature matching types (dtype('<U2'), dtype('<U2')) -> None\n"
     ]
    }
   ],
   "source": [
    "s = removeOutliers(corr_data_nona,corr_data_nona.columns[0])\n",
    "\n",
    "for c in corr_data_nona.columns:\n",
    "    try:\n",
    "        if not c=='SalePrice' and not c=='MasVnrArea':\n",
    "            t=removeOutliers(corr_data_nona,c)\n",
    "            s = s & t\n",
    "    except Exception as e:\n",
    "        print(e)\n",
    "\n",
    "corr_data_nona_n=corr_data_nona[s]"
   ]
  },
  {
   "cell_type": "code",
   "execution_count": 17,
   "id": "c499d9ec",
   "metadata": {},
   "outputs": [
    {
     "data": {
      "text/html": [
       "<div>\n",
       "<style scoped>\n",
       "    .dataframe tbody tr th:only-of-type {\n",
       "        vertical-align: middle;\n",
       "    }\n",
       "\n",
       "    .dataframe tbody tr th {\n",
       "        vertical-align: top;\n",
       "    }\n",
       "\n",
       "    .dataframe thead th {\n",
       "        text-align: right;\n",
       "    }\n",
       "</style>\n",
       "<table border=\"1\" class=\"dataframe\">\n",
       "  <thead>\n",
       "    <tr style=\"text-align: right;\">\n",
       "      <th></th>\n",
       "      <th>1stFlrSF</th>\n",
       "      <th>GarageArea</th>\n",
       "      <th>GarageYrBlt</th>\n",
       "      <th>GrLivArea</th>\n",
       "      <th>LotArea</th>\n",
       "      <th>MasVnrArea</th>\n",
       "      <th>OpenPorchSF</th>\n",
       "      <th>OverallQual</th>\n",
       "      <th>TotalBsmtSF</th>\n",
       "      <th>YearBuilt</th>\n",
       "      <th>YearRemodAdd</th>\n",
       "      <th>KitchenQual</th>\n",
       "      <th>SalePrice</th>\n",
       "    </tr>\n",
       "  </thead>\n",
       "  <tbody>\n",
       "    <tr>\n",
       "      <th>0</th>\n",
       "      <td>856</td>\n",
       "      <td>548</td>\n",
       "      <td>2003.0</td>\n",
       "      <td>1710</td>\n",
       "      <td>8450</td>\n",
       "      <td>196.0</td>\n",
       "      <td>61</td>\n",
       "      <td>7</td>\n",
       "      <td>856</td>\n",
       "      <td>2003</td>\n",
       "      <td>2003</td>\n",
       "      <td>Gd</td>\n",
       "      <td>208500</td>\n",
       "    </tr>\n",
       "    <tr>\n",
       "      <th>1</th>\n",
       "      <td>1262</td>\n",
       "      <td>460</td>\n",
       "      <td>1976.0</td>\n",
       "      <td>1262</td>\n",
       "      <td>9600</td>\n",
       "      <td>0.0</td>\n",
       "      <td>0</td>\n",
       "      <td>6</td>\n",
       "      <td>1262</td>\n",
       "      <td>1976</td>\n",
       "      <td>1976</td>\n",
       "      <td>TA</td>\n",
       "      <td>181500</td>\n",
       "    </tr>\n",
       "    <tr>\n",
       "      <th>2</th>\n",
       "      <td>920</td>\n",
       "      <td>608</td>\n",
       "      <td>2001.0</td>\n",
       "      <td>1786</td>\n",
       "      <td>11250</td>\n",
       "      <td>162.0</td>\n",
       "      <td>42</td>\n",
       "      <td>7</td>\n",
       "      <td>920</td>\n",
       "      <td>2001</td>\n",
       "      <td>2002</td>\n",
       "      <td>Gd</td>\n",
       "      <td>223500</td>\n",
       "    </tr>\n",
       "    <tr>\n",
       "      <th>3</th>\n",
       "      <td>961</td>\n",
       "      <td>642</td>\n",
       "      <td>1998.0</td>\n",
       "      <td>1717</td>\n",
       "      <td>9550</td>\n",
       "      <td>0.0</td>\n",
       "      <td>35</td>\n",
       "      <td>7</td>\n",
       "      <td>756</td>\n",
       "      <td>1915</td>\n",
       "      <td>1970</td>\n",
       "      <td>Gd</td>\n",
       "      <td>140000</td>\n",
       "    </tr>\n",
       "    <tr>\n",
       "      <th>4</th>\n",
       "      <td>1145</td>\n",
       "      <td>836</td>\n",
       "      <td>2000.0</td>\n",
       "      <td>2198</td>\n",
       "      <td>14260</td>\n",
       "      <td>350.0</td>\n",
       "      <td>84</td>\n",
       "      <td>8</td>\n",
       "      <td>1145</td>\n",
       "      <td>2000</td>\n",
       "      <td>2000</td>\n",
       "      <td>Gd</td>\n",
       "      <td>250000</td>\n",
       "    </tr>\n",
       "    <tr>\n",
       "      <th>...</th>\n",
       "      <td>...</td>\n",
       "      <td>...</td>\n",
       "      <td>...</td>\n",
       "      <td>...</td>\n",
       "      <td>...</td>\n",
       "      <td>...</td>\n",
       "      <td>...</td>\n",
       "      <td>...</td>\n",
       "      <td>...</td>\n",
       "      <td>...</td>\n",
       "      <td>...</td>\n",
       "      <td>...</td>\n",
       "      <td>...</td>\n",
       "    </tr>\n",
       "    <tr>\n",
       "      <th>1455</th>\n",
       "      <td>953</td>\n",
       "      <td>460</td>\n",
       "      <td>1999.0</td>\n",
       "      <td>1647</td>\n",
       "      <td>7917</td>\n",
       "      <td>0.0</td>\n",
       "      <td>40</td>\n",
       "      <td>6</td>\n",
       "      <td>953</td>\n",
       "      <td>1999</td>\n",
       "      <td>2000</td>\n",
       "      <td>TA</td>\n",
       "      <td>175000</td>\n",
       "    </tr>\n",
       "    <tr>\n",
       "      <th>1456</th>\n",
       "      <td>2073</td>\n",
       "      <td>500</td>\n",
       "      <td>1978.0</td>\n",
       "      <td>2073</td>\n",
       "      <td>13175</td>\n",
       "      <td>119.0</td>\n",
       "      <td>0</td>\n",
       "      <td>6</td>\n",
       "      <td>1542</td>\n",
       "      <td>1978</td>\n",
       "      <td>1988</td>\n",
       "      <td>TA</td>\n",
       "      <td>210000</td>\n",
       "    </tr>\n",
       "    <tr>\n",
       "      <th>1457</th>\n",
       "      <td>1188</td>\n",
       "      <td>252</td>\n",
       "      <td>1941.0</td>\n",
       "      <td>2340</td>\n",
       "      <td>9042</td>\n",
       "      <td>0.0</td>\n",
       "      <td>60</td>\n",
       "      <td>7</td>\n",
       "      <td>1152</td>\n",
       "      <td>1941</td>\n",
       "      <td>2006</td>\n",
       "      <td>Gd</td>\n",
       "      <td>266500</td>\n",
       "    </tr>\n",
       "    <tr>\n",
       "      <th>1458</th>\n",
       "      <td>1078</td>\n",
       "      <td>240</td>\n",
       "      <td>1950.0</td>\n",
       "      <td>1078</td>\n",
       "      <td>9717</td>\n",
       "      <td>0.0</td>\n",
       "      <td>0</td>\n",
       "      <td>5</td>\n",
       "      <td>1078</td>\n",
       "      <td>1950</td>\n",
       "      <td>1996</td>\n",
       "      <td>Gd</td>\n",
       "      <td>142125</td>\n",
       "    </tr>\n",
       "    <tr>\n",
       "      <th>1459</th>\n",
       "      <td>1256</td>\n",
       "      <td>276</td>\n",
       "      <td>1965.0</td>\n",
       "      <td>1256</td>\n",
       "      <td>9937</td>\n",
       "      <td>0.0</td>\n",
       "      <td>68</td>\n",
       "      <td>5</td>\n",
       "      <td>1256</td>\n",
       "      <td>1965</td>\n",
       "      <td>1965</td>\n",
       "      <td>TA</td>\n",
       "      <td>147500</td>\n",
       "    </tr>\n",
       "  </tbody>\n",
       "</table>\n",
       "<p>1138 rows × 13 columns</p>\n",
       "</div>"
      ],
      "text/plain": [
       "      1stFlrSF  GarageArea  GarageYrBlt  GrLivArea  LotArea  MasVnrArea  \\\n",
       "0          856         548       2003.0       1710     8450       196.0   \n",
       "1         1262         460       1976.0       1262     9600         0.0   \n",
       "2          920         608       2001.0       1786    11250       162.0   \n",
       "3          961         642       1998.0       1717     9550         0.0   \n",
       "4         1145         836       2000.0       2198    14260       350.0   \n",
       "...        ...         ...          ...        ...      ...         ...   \n",
       "1455       953         460       1999.0       1647     7917         0.0   \n",
       "1456      2073         500       1978.0       2073    13175       119.0   \n",
       "1457      1188         252       1941.0       2340     9042         0.0   \n",
       "1458      1078         240       1950.0       1078     9717         0.0   \n",
       "1459      1256         276       1965.0       1256     9937         0.0   \n",
       "\n",
       "      OpenPorchSF  OverallQual  TotalBsmtSF  YearBuilt  YearRemodAdd  \\\n",
       "0              61            7          856       2003          2003   \n",
       "1               0            6         1262       1976          1976   \n",
       "2              42            7          920       2001          2002   \n",
       "3              35            7          756       1915          1970   \n",
       "4              84            8         1145       2000          2000   \n",
       "...           ...          ...          ...        ...           ...   \n",
       "1455           40            6          953       1999          2000   \n",
       "1456            0            6         1542       1978          1988   \n",
       "1457           60            7         1152       1941          2006   \n",
       "1458            0            5         1078       1950          1996   \n",
       "1459           68            5         1256       1965          1965   \n",
       "\n",
       "     KitchenQual  SalePrice  \n",
       "0             Gd     208500  \n",
       "1             TA     181500  \n",
       "2             Gd     223500  \n",
       "3             Gd     140000  \n",
       "4             Gd     250000  \n",
       "...          ...        ...  \n",
       "1455          TA     175000  \n",
       "1456          TA     210000  \n",
       "1457          Gd     266500  \n",
       "1458          Gd     142125  \n",
       "1459          TA     147500  \n",
       "\n",
       "[1138 rows x 13 columns]"
      ]
     },
     "execution_count": 17,
     "metadata": {},
     "output_type": "execute_result"
    }
   ],
   "source": [
    "corr_data_nona_n"
   ]
  },
  {
   "cell_type": "code",
   "execution_count": 18,
   "id": "9c4541c2",
   "metadata": {},
   "outputs": [],
   "source": [
    "corr_data_nona_n.to_pickle('../data/clean_housing_data.pkl')"
   ]
  },
  {
   "cell_type": "code",
   "execution_count": null,
   "id": "d6618ea3",
   "metadata": {},
   "outputs": [],
   "source": []
  }
 ],
 "metadata": {
  "kernelspec": {
   "display_name": "Python 3 (ipykernel)",
   "language": "python",
   "name": "python3"
  },
  "language_info": {
   "codemirror_mode": {
    "name": "ipython",
    "version": 3
   },
   "file_extension": ".py",
   "mimetype": "text/x-python",
   "name": "python",
   "nbconvert_exporter": "python",
   "pygments_lexer": "ipython3",
   "version": "3.9.13"
  }
 },
 "nbformat": 4,
 "nbformat_minor": 5
}
