{
 "cells": [
  {
   "cell_type": "markdown",
   "id": "09fc4f2d",
   "metadata": {},
   "source": [
    "## Data cleaning\n",
    "### This notebook is for cleaning the house pricing data"
   ]
  },
  {
   "cell_type": "markdown",
   "id": "22e040e8",
   "metadata": {},
   "source": [
    "Importing packages"
   ]
  },
  {
   "cell_type": "code",
   "execution_count": null,
   "id": "82d6c03e",
   "metadata": {},
   "outputs": [],
   "source": [
    "try:\n",
    "    import pandas as pd\n",
    "    import plotly.express as px \n",
    "    import numpy as np\n",
    "except:\n",
    "    !pip install pandas\n",
    "    !pip install plotly\n",
    "    import pandas as pd\n",
    "    import plotly.express as px "
   ]
  },
  {
   "cell_type": "markdown",
   "id": "caae91b3",
   "metadata": {},
   "source": [
    "Loading the data"
   ]
  },
  {
   "cell_type": "code",
   "execution_count": null,
   "id": "1d1d2e2f",
   "metadata": {},
   "outputs": [],
   "source": [
    "corr_data = pd.read_pickle('../data/house_pricing_corr.pkl')"
   ]
  },
  {
   "cell_type": "markdown",
   "id": "50f9477b",
   "metadata": {},
   "source": [
    "First I inspect the empty cells column wise"
   ]
  },
  {
   "cell_type": "code",
   "execution_count": null,
   "id": "afbbeb93",
   "metadata": {},
   "outputs": [],
   "source": [
    "for c in corr_data.columns:\n",
    "    print(f'{c}:{corr_data[c].isna().sum()}')"
   ]
  },
  {
   "cell_type": "markdown",
   "id": "7e5ba355",
   "metadata": {},
   "source": [
    "As LotFrontage has a low correlation with the sale price I have decided that this column can be removed, that way I presever as much as possible from the data."
   ]
  },
  {
   "cell_type": "code",
   "execution_count": null,
   "id": "1f224a06",
   "metadata": {},
   "outputs": [],
   "source": [
    "corr_data.pop('LotFrontage')"
   ]
  },
  {
   "cell_type": "markdown",
   "id": "82f84e00",
   "metadata": {},
   "source": [
    "I drop all records with empty cell in it"
   ]
  },
  {
   "cell_type": "code",
   "execution_count": 7,
   "id": "368ba1a9",
   "metadata": {},
   "outputs": [],
   "source": [
    "corr_data_nona=corr_data.dropna()"
   ]
  },
  {
   "cell_type": "code",
   "execution_count": null,
   "id": "b57de8d4",
   "metadata": {},
   "outputs": [],
   "source": []
  }
 ],
 "metadata": {
  "kernelspec": {
   "display_name": "Python 3 (ipykernel)",
   "language": "python",
   "name": "python3"
  },
  "language_info": {
   "codemirror_mode": {
    "name": "ipython",
    "version": 3
   },
   "file_extension": ".py",
   "mimetype": "text/x-python",
   "name": "python",
   "nbconvert_exporter": "python",
   "pygments_lexer": "ipython3",
   "version": "3.9.13"
  }
 },
 "nbformat": 4,
 "nbformat_minor": 5
}
