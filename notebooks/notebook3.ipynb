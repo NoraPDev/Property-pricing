{
 "cells": [
  {
   "cell_type": "markdown",
   "id": "22c0255e",
   "metadata": {},
   "source": [
    "## Data cleaning\n",
    "### This notebook is for cleaning the house pricing data"
   ]
  },
  {
   "cell_type": "markdown",
   "id": "18e39159",
   "metadata": {},
   "source": [
    "Importing packages"
   ]
  },
  {
   "cell_type": "code",
   "execution_count": null,
   "id": "95e6d74a",
   "metadata": {},
   "outputs": [],
   "source": [
    "try:\n",
    "    import pandas as pd\n",
    "    import plotly.express as px \n",
    "    import numpy as np\n",
    "except:\n",
    "    !pip install pandas\n",
    "    !pip install plotly\n",
    "    import pandas as pd\n",
    "    import plotly.express as px "
   ]
  },
  {
   "cell_type": "markdown",
   "id": "fcfbc8fe",
   "metadata": {},
   "source": [
    "Loading the data"
   ]
  },
  {
   "cell_type": "code",
   "execution_count": null,
   "id": "35b6fabb",
   "metadata": {},
   "outputs": [],
   "source": [
    "corr_data = pd.read_pickle('../data/house_pricing_corr.pkl')"
   ]
  },
  {
   "cell_type": "markdown",
   "id": "1be46ab9",
   "metadata": {},
   "source": [
    "First I inspect the empty cells column wise"
   ]
  },
  {
   "cell_type": "code",
   "execution_count": null,
   "id": "f7c378b8",
   "metadata": {},
   "outputs": [],
   "source": [
    "for c in corr_data.columns:\n",
    "    print(f'{c}:{corr_data[c].isna().sum()}')"
   ]
  },
  {
   "cell_type": "markdown",
   "id": "20240ec0",
   "metadata": {},
   "source": [
    "As LotFrontage has a low correlation with the sale price I have decided that this column can be removed, that way I presever as much as possible from the data."
   ]
  },
  {
   "cell_type": "code",
   "execution_count": null,
   "id": "930038e0",
   "metadata": {},
   "outputs": [],
   "source": [
    "corr_data.pop('LotFrontage')"
   ]
  },
  {
   "cell_type": "code",
   "execution_count": null,
   "id": "5629bdf4",
   "metadata": {},
   "outputs": [],
   "source": []
  }
 ],
 "metadata": {
  "kernelspec": {
   "display_name": "Python 3 (ipykernel)",
   "language": "python",
   "name": "python3"
  },
  "language_info": {
   "codemirror_mode": {
    "name": "ipython",
    "version": 3
   },
   "file_extension": ".py",
   "mimetype": "text/x-python",
   "name": "python",
   "nbconvert_exporter": "python",
   "pygments_lexer": "ipython3",
   "version": "3.9.13"
  }
 },
 "nbformat": 4,
 "nbformat_minor": 5
}
