{
 "cells": [
  {
   "cell_type": "markdown",
   "id": "c78832d8",
   "metadata": {},
   "source": [
    "## Data cleaning\n",
    "### This notebook is for cleaning the house pricing data"
   ]
  },
  {
   "cell_type": "markdown",
   "id": "dde48435",
   "metadata": {},
   "source": [
    "Importing packages"
   ]
  },
  {
   "cell_type": "code",
   "execution_count": 3,
   "id": "d899b4e3",
   "metadata": {},
   "outputs": [],
   "source": [
    "try:\n",
    "    import pandas as pd\n",
    "    import plotly.express as px \n",
    "    import numpy as np\n",
    "except:\n",
    "    !pip install pandas\n",
    "    !pip install plotly\n",
    "    import pandas as pd\n",
    "    import plotly.express as px "
   ]
  },
  {
   "cell_type": "markdown",
   "id": "70c39d3c",
   "metadata": {},
   "source": [
    "Loading the data"
   ]
  },
  {
   "cell_type": "code",
   "execution_count": 4,
   "id": "ec63f824",
   "metadata": {},
   "outputs": [],
   "source": [
    "corr_data = pd.read_pickle('../data/house_pricing_corr.pkl')"
   ]
  },
  {
   "cell_type": "markdown",
   "id": "a4b4d4e0",
   "metadata": {},
   "source": [
    "First I inspect the empty cells column wise"
   ]
  }
 ],
 "metadata": {
  "kernelspec": {
   "display_name": "Python 3 (ipykernel)",
   "language": "python",
   "name": "python3"
  },
  "language_info": {
   "codemirror_mode": {
    "name": "ipython",
    "version": 3
   },
   "file_extension": ".py",
   "mimetype": "text/x-python",
   "name": "python",
   "nbconvert_exporter": "python",
   "pygments_lexer": "ipython3",
   "version": "3.9.13"
  }
 },
 "nbformat": 4,
 "nbformat_minor": 5
}
